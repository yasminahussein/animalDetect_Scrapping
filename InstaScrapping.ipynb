{
 "cells": [
  {
   "cell_type": "code",
   "execution_count": 9,
   "metadata": {
    "ExecuteTime": {
     "end_time": "2021-09-30T03:11:05.466544Z",
     "start_time": "2021-09-30T03:11:05.448606Z"
    },
    "scrolled": true
   },
   "outputs": [],
   "source": [
    "import instaloader"
   ]
  },
  {
   "cell_type": "code",
   "execution_count": 10,
   "metadata": {
    "ExecuteTime": {
     "end_time": "2021-09-30T03:11:06.945270Z",
     "start_time": "2021-09-30T03:11:06.928318Z"
    }
   },
   "outputs": [],
   "source": [
    "loader = instaloader.Instaloader()"
   ]
  },
  {
   "cell_type": "code",
   "execution_count": 3,
   "metadata": {
    "ExecuteTime": {
     "end_time": "2021-09-30T02:34:14.697899Z",
     "start_time": "2021-09-30T02:18:15.041078Z"
    },
    "scrolled": true
   },
   "outputs": [
    {
     "name": "stdout",
     "output_type": "stream",
     "text": [
      "#dog\\2021-09-30_00-30-59_UTC_profile_pic.jpg \n",
      "Retrieving pictures with hashtag #dog...\n",
      "[  1/900] #dog\\2021-09-30_02-18-14_UTC.jpg [Minha verdadeira essência apa…] json \n",
      "[  2/900] #dog\\2021-09-30_02-18-10_UTC_1.jpg #dog\\2021-09-30_02-18-10_UTC_2.jpg #dog\\2021-09-30_02-18-10_UTC_3.jpg [Lovely autumn day 🍂🍁  秋日和 🍂🍁 …] json \n",
      "[  3/900] #dog\\2021-09-30_02-18-08_UTC_1.jpg #dog\\2021-09-30_02-18-08_UTC_2.jpg #dog\\2021-09-30_02-18-08_UTC_3.jpg [. 大好きショコちゃん💓💓 毎回お利口さんにしてくれてあり…] json \n",
      "[  4/900] #dog\\2021-09-30_02-18-06_UTC.jpg [Hj foi um dia mto triste, min…] json \n",
      "[  5/900] #dog\\2021-09-30_02-18-05_UTC.jpg [Witaj w świecie uśmiechniętyc…] json \n",
      "[  6/900] #dog\\2021-09-30_02-18-04_UTC.jpg [像風一樣的女孩🐶🧏🏻‍♀️  #toypoodle#dog…] json \n",
      "[  7/900] #dog\\2021-09-30_02-18-03_UTC.jpg [Sexy Me  #instagram #street #…] json \n",
      "[  8/900] \n",
      "HTTP redirect from https://www.instagram.com/graphql/query to https://www.instagram.com/accounts/login/\n",
      "[  9/900] "
     ]
    },
    {
     "name": "stderr",
     "output_type": "stream",
     "text": [
      "Download <Post CUbcDwSFRSv> of #dog: Redirected to login page. Use --login.\n"
     ]
    },
    {
     "name": "stdout",
     "output_type": "stream",
     "text": [
      "\n",
      "HTTP redirect from https://www.instagram.com/graphql/query to https://www.instagram.com/accounts/login/\n",
      "[ 10/900] "
     ]
    },
    {
     "name": "stderr",
     "output_type": "stream",
     "text": [
      "Download <Post CUbcDjXhd1C> of #dog: Redirected to login page. Use --login.\n"
     ]
    },
    {
     "name": "stdout",
     "output_type": "stream",
     "text": [
      "#dog\\2021-09-30_02-17-57_UTC.jpg [His new favorite toy. . . . .…] json \n",
      "[ 11/900] #dog\\2021-09-30_02-17-57_UTC.jpg exists [His new favorite toy. . . . .…] updated [#music #pretty #beauty #vscoc…] json \n",
      "[ 12/900] \n",
      "HTTP redirect from https://www.instagram.com/graphql/query to https://www.instagram.com/accounts/login/\n",
      "[ 13/900] "
     ]
    },
    {
     "name": "stderr",
     "output_type": "stream",
     "text": [
      "Download <Post CUbcDIWraDl> of #dog: Redirected to login page. Use --login.\n"
     ]
    },
    {
     "name": "stdout",
     "output_type": "stream",
     "text": [
      "\n",
      "HTTP redirect from https://www.instagram.com/graphql/query to https://www.instagram.com/accounts/login/\n",
      "[ 14/900] "
     ]
    },
    {
     "name": "stderr",
     "output_type": "stream",
     "text": [
      "Download <Post CUbcDGsseqX> of #dog: Redirected to login page. Use --login.\n"
     ]
    },
    {
     "name": "stdout",
     "output_type": "stream",
     "text": [
      "#dog\\2021-09-30_02-17-54_UTC.jpg [Buddy 🐻 and Marsha 🐻  We love…] json \n",
      "[ 15/900] #dog\\2021-09-30_02-17-51_UTC.jpg [Feliz aniversário para mim 3 …] json \n",
      "[ 16/900] #dog\\2021-09-30_02-17-51_UTC.jpg exists [Feliz aniversário para mim 3 …] updated [＊ . 本日は晴天なり🌞💕🌞💕🌞 . . ◇リードしていま…] json \n",
      "[ 17/900] \n",
      "HTTP redirect from https://www.instagram.com/graphql/query to https://www.instagram.com/accounts/login/\n",
      "[ 18/900] "
     ]
    },
    {
     "name": "stderr",
     "output_type": "stream",
     "text": [
      "Download <Post CUbcBwaJIAr> of #dog: Redirected to login page. Use --login.\n"
     ]
    },
    {
     "name": "stdout",
     "output_type": "stream",
     "text": [
      "\n",
      "HTTP redirect from https://www.instagram.com/graphql/query to https://www.instagram.com/accounts/login/\n",
      "[ 19/900] "
     ]
    },
    {
     "name": "stderr",
     "output_type": "stream",
     "text": [
      "Download <Post CUbcBwzpII_> of #dog: Redirected to login page. Use --login.\n"
     ]
    },
    {
     "name": "stdout",
     "output_type": "stream",
     "text": [
      "#dog\\2021-09-30_02-17-43_UTC.jpg [Don’t like tyranny? Don’t fun…] json \n",
      "[ 20/900] #dog\\2021-09-30_02-17-38_UTC.jpg [This is the life, snuggling w…] json \n",
      "[ 21/900] #dog\\2021-09-30_02-17-34_UTC.jpg [언니 출근한다길래 리치오빠랑 째려봐주기 🤨] json \n",
      "[ 22/900] #dog\\2021-09-30_02-17-34_UTC.jpg exists [언니 출근한다길래 리치오빠랑 째려봐주기 🤨] updated [Hayo pada mau join mkn gk ni?…] json \n",
      "[ 23/900] \n",
      "HTTP redirect from https://www.instagram.com/graphql/query to https://www.instagram.com/accounts/login/\n",
      "[ 24/900] "
     ]
    },
    {
     "name": "stderr",
     "output_type": "stream",
     "text": [
      "Download <Post CUbcAVHviOx> of #dog: Redirected to login page. Use --login.\n"
     ]
    },
    {
     "name": "stdout",
     "output_type": "stream",
     "text": [
      "#dog\\2021-09-30_02-17-33_UTC.jpg [雨降り前にお散歩へ🐶  足が汚れちゃったし、お顔がどうして…] json \n",
      "[ 25/900] #dog\\2021-09-30_02-17-32_UTC.jpg [#suzhou #china #🇨🇭 #läderach …] json \n",
      "[ 26/900] #dog\\2021-09-30_02-17-32_UTC.jpg exists [#suzhou #china #🇨🇭 #läderach …] updated [2021/07/03  🐕️「この場所気に入ったなぁ～」 …] json \n",
      "[ 27/900] #dog\\2021-09-30_02-17-31_UTC.jpg [Seguimos con los piquitos 💕✅ …] json \n",
      "[ 28/900] #dog\\2021-09-30_02-17-30_UTC.jpg [Aquí con mi juguete favorito …] json \n",
      "[ 29/900] \n",
      "HTTP redirect from https://www.instagram.com/graphql/query to https://www.instagram.com/accounts/login/\n",
      "[ 30/900] "
     ]
    },
    {
     "name": "stderr",
     "output_type": "stream",
     "text": [
      "Download <Post CUbb_6SrfZ_> of #dog: Redirected to login page. Use --login.\n"
     ]
    },
    {
     "name": "stdout",
     "output_type": "stream",
     "text": [
      "#dog\\2021-09-30_02-17-29_UTC.jpg [友達の犬 #ティーカッププードル  #犬 #いぬバカ部  …] json \n",
      "[ 31/900] \n",
      "HTTP redirect from https://www.instagram.com/graphql/query to https://www.instagram.com/accounts/login/\n",
      "[ 32/900] "
     ]
    },
    {
     "name": "stderr",
     "output_type": "stream",
     "text": [
      "Download <Post CUbb_sYLesd> of #dog: Redirected to login page. Use --login.\n"
     ]
    },
    {
     "name": "stdout",
     "output_type": "stream",
     "text": [
      "\n",
      "HTTP redirect from https://www.instagram.com/graphql/query to https://www.instagram.com/accounts/login/\n",
      "[ 33/900] "
     ]
    },
    {
     "name": "stderr",
     "output_type": "stream",
     "text": [
      "Download <Post CUbb_QOvGG8> of #dog: Redirected to login page. Use --login.\n"
     ]
    },
    {
     "name": "stdout",
     "output_type": "stream",
     "text": [
      "#dog\\2021-09-30_02-17-22_UTC.jpg [SUPPORT US LINK IN BIO.  🚩😍MO…] \n",
      "HTTP redirect from https://www.instagram.com/graphql/query to https://www.instagram.com/accounts/login/\n",
      "[ 34/900] #dog\\2021-09-30_02-17-22_UTC.jpg exists [SUPPORT US LINK IN BIO.  🚩😍MO…] updated [Lady and Man human went to wo…] json \n",
      "[ 35/900] "
     ]
    },
    {
     "name": "stderr",
     "output_type": "stream",
     "text": [
      "Download <Post CUbb54qAX31> of #dog: Redirected to login page. Use --login.\n"
     ]
    },
    {
     "name": "stdout",
     "output_type": "stream",
     "text": [
      "#dog\\2021-09-30_02-17-21_UTC.jpg [#dog] \n",
      "HTTP redirect from https://www.instagram.com/graphql/query to https://www.instagram.com/accounts/login/\n",
      "[ 36/900] #dog\\2021-09-30_02-17-21_UTC.jpg exists [#dog] updated [Gnight ~ Buenas noches, sueñe…] json \n",
      "[ 37/900] "
     ]
    },
    {
     "name": "stderr",
     "output_type": "stream",
     "text": [
      "Download <Post CUbb87vq3Nl> of #dog: Redirected to login page. Use --login.\n"
     ]
    },
    {
     "name": "stdout",
     "output_type": "stream",
     "text": [
      "\n",
      "HTTP redirect from https://www.instagram.com/graphql/query to https://www.instagram.com/accounts/login/\n",
      "[ 38/900] "
     ]
    },
    {
     "name": "stderr",
     "output_type": "stream",
     "text": [
      "Download <Post CUbb-ywACoG> of #dog: Redirected to login page. Use --login.\n"
     ]
    },
    {
     "name": "stdout",
     "output_type": "stream",
     "text": [
      "#dog\\2021-09-30_02-17-18_UTC.jpg [“If cats could talk, they wou…] json \n",
      "[ 39/900] #dog\\2021-09-30_02-17-18_UTC.jpg exists [“If cats could talk, they wou…] updated [Raise your paws if you are li…] json \n",
      "[ 40/900] #dog\\2021-09-30_02-17-16_UTC.jpg [🤎🍂 Ma petite gueule   Si vous…] json \n",
      "[ 41/900] #dog\\2021-09-30_02-17-14_UTC.jpg [我明明叫做Jagabee ，但人人就叫我做愁哥！點解呢？咪…] json \n",
      "[ 42/900] \n",
      "HTTP redirect from https://www.instagram.com/graphql/query to https://www.instagram.com/accounts/login/\n",
      "[ 43/900] "
     ]
    },
    {
     "name": "stderr",
     "output_type": "stream",
     "text": [
      "Download <Post CUbb9qPvgrw> of #dog: Redirected to login page. Use --login.\n"
     ]
    },
    {
     "name": "stdout",
     "output_type": "stream",
     "text": [
      "#dog\\2021-09-30_02-17-11_UTC.jpg [Dog noturno #rmlanches #dog #…] json \n",
      "[ 44/900] #dog\\2021-09-30_02-17-10_UTC.jpg [At the end of the everything,…] json \n",
      "[ 45/900] \n",
      "HTTP redirect from https://www.instagram.com/graphql/query to https://www.instagram.com/accounts/login/\n",
      "[ 46/900] "
     ]
    },
    {
     "name": "stderr",
     "output_type": "stream",
     "text": [
      "Download <Post CUbb9T8J8J-> of #dog: Redirected to login page. Use --login.\n"
     ]
    },
    {
     "name": "stdout",
     "output_type": "stream",
     "text": [
      "\n",
      "HTTP redirect from https://www.instagram.com/graphql/query to https://www.instagram.com/accounts/login/\n",
      "[ 47/900] "
     ]
    },
    {
     "name": "stderr",
     "output_type": "stream",
     "text": [
      "Download <Post CUbb8vRJaoI> of #dog: Redirected to login page. Use --login.\n"
     ]
    },
    {
     "name": "stdout",
     "output_type": "stream",
     "text": [
      "#dog\\2021-09-30_02-17-04_UTC.jpg [🐶🙃🐾   #golden #goldenretrieve…] json \n",
      "[ 48/900] \n",
      "HTTP redirect from https://www.instagram.com/graphql/query to https://www.instagram.com/accounts/login/\n",
      "[ 49/900] "
     ]
    },
    {
     "name": "stderr",
     "output_type": "stream",
     "text": [
      "Download <Post CUbb8k4F8eU> of #dog: Redirected to login page. Use --login.\n"
     ]
    },
    {
     "name": "stdout",
     "output_type": "stream",
     "text": [
      "\n",
      "HTTP redirect from https://www.instagram.com/graphql/query to https://www.instagram.com/accounts/login/\n",
      "[ 50/900] "
     ]
    },
    {
     "name": "stderr",
     "output_type": "stream",
     "text": [
      "Download <Post CUbb8fQF7T-> of #dog: Redirected to login page. Use --login.\n"
     ]
    },
    {
     "name": "stdout",
     "output_type": "stream",
     "text": [
      "#dog\\2021-09-30_02-17-00_UTC.jpg [Update! Rico was discharged f…] json \n",
      "[ 51/900] \n",
      "HTTP redirect from https://www.instagram.com/graphql/query to https://www.instagram.com/accounts/login/\n",
      "[ 52/900] "
     ]
    },
    {
     "name": "stderr",
     "output_type": "stream",
     "text": [
      "Download <Post CUbb8ROvyN7> of #dog: Redirected to login page. Use --login.\n"
     ]
    },
    {
     "name": "stdout",
     "output_type": "stream",
     "text": [
      "\n",
      "HTTP redirect from https://www.instagram.com/graphql/query to https://www.instagram.com/accounts/login/\n",
      "[ 53/900] "
     ]
    },
    {
     "name": "stderr",
     "output_type": "stream",
     "text": [
      "Download <Post CUbb8EOFMcQ> of #dog: Redirected to login page. Use --login.\n"
     ]
    },
    {
     "name": "stdout",
     "output_type": "stream",
     "text": [
      "#dog\\2021-09-30_02-16-58_UTC.jpg [Azadi. #dog #dogs #yorkie #yo…] json \n",
      "[ 54/900] #dog\\2021-09-30_02-16-49_UTC.jpg [/ 🍄🥕🥬🥦🎃] json \n",
      "[ 55/900] \n",
      "HTTP redirect from https://www.instagram.com/graphql/query to https://www.instagram.com/accounts/login/\n",
      "[ 56/900] "
     ]
    },
    {
     "name": "stderr",
     "output_type": "stream",
     "text": [
      "Download <Post CUbb54OB22c> of #dog: Redirected to login page. Use --login.\n"
     ]
    },
    {
     "name": "stdout",
     "output_type": "stream",
     "text": [
      "#dog\\2021-09-30_02-16-24_UTC.jpg [🐾　この子は心臓が悪い…　 私の願い。１日でもいいから長く…] json \n",
      "[ 57/900] \n",
      "HTTP redirect from https://www.instagram.com/graphql/query to https://www.instagram.com/accounts/login/\n",
      "[ 58/900] "
     ]
    },
    {
     "name": "stderr",
     "output_type": "stream",
     "text": [
      "Download <Post CUbb3XijdQT> of #dog: Redirected to login page. Use --login.\n"
     ]
    },
    {
     "name": "stdout",
     "output_type": "stream",
     "text": [
      "\n",
      "HTTP redirect from https://www.instagram.com/graphql/query to https://www.instagram.com/accounts/login/\n",
      "[ 59/900] "
     ]
    },
    {
     "name": "stderr",
     "output_type": "stream",
     "text": [
      "Download <Post CUbb2lCPxwR> of #dog: Redirected to login page. Use --login.\n"
     ]
    },
    {
     "name": "stdout",
     "output_type": "stream",
     "text": [
      "\n",
      "HTTP redirect from https://www.instagram.com/graphql/query to https://www.instagram.com/accounts/login/\n",
      "[ 60/900] "
     ]
    },
    {
     "name": "stderr",
     "output_type": "stream",
     "text": [
      "Download <Post CUbb2YzgIv7> of #dog: Redirected to login page. Use --login.\n"
     ]
    },
    {
     "name": "stdout",
     "output_type": "stream",
     "text": [
      "\n",
      "HTTP redirect from https://www.instagram.com/graphql/query to https://www.instagram.com/accounts/login/\n",
      "[ 61/900] "
     ]
    },
    {
     "name": "stderr",
     "output_type": "stream",
     "text": [
      "Download <Post CUbbxMOpY4o> of #dog: Redirected to login page. Use --login.\n"
     ]
    },
    {
     "name": "stdout",
     "output_type": "stream",
     "text": [
      "#dog\\2021-09-30_02-12-17_UTC.jpg [❤️형아 품이 제일 좋아❤️  • • • • • • …] json \n",
      "[ 62/900] \n",
      "HTTP redirect from https://www.instagram.com/graphql/query to https://www.instagram.com/accounts/login/\n",
      "[ 63/900] "
     ]
    },
    {
     "name": "stderr",
     "output_type": "stream",
     "text": [
      "Download <Post CUbbTIfpZ9b> of #dog: Redirected to login page. Use --login.\n"
     ]
    },
    {
     "name": "stdout",
     "output_type": "stream",
     "text": [
      "\n",
      "HTTP redirect from https://www.instagram.com/graphql/query to https://www.instagram.com/accounts/login/\n",
      "[ 64/900] "
     ]
    },
    {
     "name": "stderr",
     "output_type": "stream",
     "text": [
      "Download <Post CUbbRTaPqCB> of #dog: Redirected to login page. Use --login.\n"
     ]
    },
    {
     "name": "stdout",
     "output_type": "stream",
     "text": [
      "#dog\\2021-09-30_02-07-48_UTC.jpg [HAPPY BIRTHDAY RAINBOW!!! You…] json \n",
      "[ 65/900] \n",
      "HTTP redirect from https://www.instagram.com/graphql/query to https://www.instagram.com/accounts/login/\n",
      "[ 66/900] "
     ]
    },
    {
     "name": "stderr",
     "output_type": "stream",
     "text": [
      "Download <Post CUbZ2KwjmzR> of #dog: Redirected to login page. Use --login.\n"
     ]
    },
    {
     "name": "stdout",
     "output_type": "stream",
     "text": [
      "#dog\\2021-09-30_01-08-43_UTC.jpg [Fake Friday Fuckery … hurry u…] json \n",
      "[ 67/900] #dog\\2021-09-30_00-51-06_UTC.jpg [Snowie 15M2D 🥲 . . . #페키니ᄌ…] json \n",
      "[ 68/900] #dog\\2021-09-30_00-26-17_UTC.jpg [I can fly,♥♥His face says it …] json \n",
      "[ 69/900] #dog\\2021-09-30_00-07-28_UTC.jpg [Brother&Sister 😂😂❤️  Credits …] json \n",
      "[ 70/900] #dog\\2021-09-30_00-01-28_UTC.jpg [Como ser linda cansa 💁🏼‍♀️ . …] json \n",
      "[ 71/900] #dog\\2021-09-29_23-17-48_UTC.jpg [Rate this cutie ❤️❤️ 1-10  Fo…] json \n",
      "[ 72/900] #dog\\2021-09-29_23-05-21_UTC.jpg [Tag someone who loves fall 🍃🍂…] json \n",
      "[ 73/900] #dog\\2021-09-29_22-14-24_UTC.jpg [. 170日目 ⁡ 朝散歩終了。 このレスラーみたいな術後…] json \n",
      "[ 74/900] #dog\\2021-09-29_22-11-43_UTC.jpg [おはよ〜🐶 👅👅👅 時々シッコの失敗はあるよね🤣  #シュ…] json \n",
      "[ 75/900] \n",
      "HTTP redirect from https://www.instagram.com/graphql/query to https://www.instagram.com/accounts/login/\n",
      "[ 76/900] "
     ]
    },
    {
     "name": "stderr",
     "output_type": "stream",
     "text": [
      "Download <Post CUaKlpjrRu9> of #dog: Redirected to login page. Use --login.\n"
     ]
    },
    {
     "name": "stdout",
     "output_type": "stream",
     "text": [
      "\n",
      "HTTP redirect from https://www.instagram.com/graphql/query to https://www.instagram.com/accounts/login/\n",
      "[ 77/900] "
     ]
    },
    {
     "name": "stderr",
     "output_type": "stream",
     "text": [
      "Download <Post CUZzCQlhO7v> of #dog: Redirected to login page. Use --login.\n"
     ]
    },
    {
     "name": "stdout",
     "output_type": "stream",
     "text": [
      "\n",
      "HTTP redirect from https://www.instagram.com/graphql/query to https://www.instagram.com/accounts/login/\n",
      "[ 78/900] "
     ]
    },
    {
     "name": "stderr",
     "output_type": "stream",
     "text": [
      "Download <Post CUZC6BIJL-K> of #dog: Redirected to login page. Use --login.\n"
     ]
    },
    {
     "name": "stdout",
     "output_type": "stream",
     "text": [
      "\n",
      "HTTP redirect from https://www.instagram.com/graphql/query to https://www.instagram.com/accounts/login/\n",
      "[ 79/900] "
     ]
    },
    {
     "name": "stderr",
     "output_type": "stream",
     "text": [
      "Download <Post CUIj3_fhGu_> of #dog: Redirected to login page. Use --login.\n"
     ]
    },
    {
     "name": "stdout",
     "output_type": "stream",
     "text": [
      "#dog\\2021-09-18_08-23-10_UTC.jpg [🍀🍀🍀🍀🍀🍀🍀  #природатурциипрекра…] json \n",
      "[ 80/900] #dog\\2021-08-27_13-42-36_UTC.jpg [플러피펍 🐶  #강아지 #멍스타그램 #반려견 #dog…] json \n",
      "[ 81/900] #dog\\2021-09-30_02-16-58_UTC.jpg exists [Azadi. #dog #dogs #yorkie #yo…] updated [❔❔  #トイプードル #トイプードル女の子 #トイプード…] json \n",
      "[ 82/900] #dog\\2021-09-30_02-16-55_UTC.jpg [#girl #food #fun #beauty #ins…] json \n",
      "[ 83/900] #dog\\2021-09-30_02-16-55_UTC.jpg exists [#girl #food #fun #beauty #ins…] updated [It has been a really hard cou…] json \n",
      "[ 84/900] #dog\\2021-09-30_02-16-54_UTC.jpg [Fofinhos dia de caminhada no …] json \n",
      "[ 85/900] #dog\\2021-09-30_02-16-51_UTC.jpg [#dogadoption  #adoteumamigo #…] json \n",
      "[ 86/900] #dog\\2021-09-30_02-16-50_UTC.jpg [本日も20時まで営業しています🐶  #bordercoll…] json \n",
      "[ 87/900] #dog\\2021-09-30_02-16-50_UTC.jpg exists [本日も20時まで営業しています🐶  #bordercoll…] updated [Les presentamos a @tobby_theb…] json \n",
      "[ 88/900] #dog\\2021-09-30_02-16-49_UTC.jpg exists [/ 🍄🥕🥬🥦🎃] updated [#dog #dogsofinstagram #doglif…] \n",
      "HTTP redirect from https://www.instagram.com/graphql/query to https://www.instagram.com/accounts/login/\n",
      "[ 89/900] "
     ]
    },
    {
     "name": "stderr",
     "output_type": "stream",
     "text": [
      "Download <Post CUbb3LtgjQn> of #dog: Redirected to login page. Use --login.\n"
     ]
    },
    {
     "name": "stdout",
     "output_type": "stream",
     "text": [
      "#dog\\2021-09-30_02-16-48_UTC.jpg [간식을 바라보는 눈빛 🥺] json \n",
      "[ 90/900] \n",
      "HTTP redirect from https://www.instagram.com/graphql/query to https://www.instagram.com/accounts/login/\n",
      "[ 91/900] "
     ]
    },
    {
     "name": "stderr",
     "output_type": "stream",
     "text": [
      "Download <Post CUbb603lneB> of #dog: Redirected to login page. Use --login.\n"
     ]
    },
    {
     "name": "stdout",
     "output_type": "stream",
     "text": [
      "\n",
      "HTTP redirect from https://www.instagram.com/graphql/query to https://www.instagram.com/accounts/login/\n",
      "[ 92/900] "
     ]
    },
    {
     "name": "stderr",
     "output_type": "stream",
     "text": [
      "Download <Post CUbb6mnPOgG> of #dog: Redirected to login page. Use --login.\n"
     ]
    },
    {
     "name": "stdout",
     "output_type": "stream",
     "text": [
      "\n",
      "HTTP redirect from https://www.instagram.com/graphql/query to https://www.instagram.com/accounts/login/\n",
      "[ 93/900] "
     ]
    },
    {
     "name": "stderr",
     "output_type": "stream",
     "text": [
      "Download <Post CUbb6o6lrPC> of #dog: Redirected to login page. Use --login.\n"
     ]
    },
    {
     "name": "stdout",
     "output_type": "stream",
     "text": [
      "#dog\\2021-09-30_02-16-45_UTC.jpg [“Dogs are not our whole life,…] json \n",
      "[ 94/900] #dog\\2021-09-30_02-16-44_UTC.jpg [Group photos is mandatory aft…] json \n",
      "[ 95/900] \n",
      "HTTP redirect from https://www.instagram.com/graphql/query to https://www.instagram.com/accounts/login/\n",
      "[ 96/900] "
     ]
    },
    {
     "name": "stderr",
     "output_type": "stream",
     "text": [
      "Download <Post CUbb6PIP8UH> of #dog: Redirected to login page. Use --login.\n"
     ]
    },
    {
     "name": "stdout",
     "output_type": "stream",
     "text": [
      "#dog\\2021-09-30_02-16-42_UTC.jpg [Bons sonhos!!!🥰 🐾 É o que nos…] json \n",
      "[ 97/900] #dog\\2021-09-30_02-16-41_UTC.jpg [Sonriendo para la foto con la…] json \n",
      "[ 98/900] #dog\\2021-09-30_02-16-39_UTC.jpg [・ はしゃぐ弟🐨 乗ってくれない姉🦁 ・ ・ ・ ・ #温…] \n",
      "HTTP redirect from https://www.instagram.com/graphql/query to https://www.instagram.com/accounts/login/\n",
      "[ 99/900] "
     ]
    },
    {
     "name": "stderr",
     "output_type": "stream",
     "text": [
      "Download <Post CUbbebKFe8M> of #dog: Redirected to login page. Use --login.\n"
     ]
    },
    {
     "name": "stdout",
     "output_type": "stream",
     "text": [
      "\n",
      "HTTP redirect from https://www.instagram.com/graphql/query to https://www.instagram.com/accounts/login/\n",
      "[100/900] "
     ]
    },
    {
     "name": "stderr",
     "output_type": "stream",
     "text": [
      "Download <Post CUbb5oOlxZS> of #dog: Redirected to login page. Use --login.\n"
     ]
    },
    {
     "name": "stdout",
     "output_type": "stream",
     "text": [
      "\n",
      "HTTP redirect from https://www.instagram.com/graphql/query to https://www.instagram.com/accounts/login/\n",
      "[101/900] "
     ]
    },
    {
     "name": "stderr",
     "output_type": "stream",
     "text": [
      "Download <Post CUbb5I0s4fi> of #dog: Redirected to login page. Use --login.\n"
     ]
    },
    {
     "name": "stdout",
     "output_type": "stream",
     "text": [
      "\n",
      "HTTP redirect from https://www.instagram.com/graphql/query to https://www.instagram.com/accounts/login/\n",
      "[102/900] "
     ]
    },
    {
     "name": "stderr",
     "output_type": "stream",
     "text": [
      "Download <Post CUbb44WvXec> of #dog: Redirected to login page. Use --login.\n"
     ]
    },
    {
     "name": "stdout",
     "output_type": "stream",
     "text": [
      "#dog\\2021-09-30_02-16-33_UTC.jpg [Walter - - - - - - - - -  - -…] json \n",
      "[103/900] \n",
      "HTTP redirect from https://www.instagram.com/graphql/query to https://www.instagram.com/accounts/login/\n",
      "[104/900] "
     ]
    },
    {
     "name": "stderr",
     "output_type": "stream",
     "text": [
      "Download <Post CUbb4yBPA3V> of #dog: Redirected to login page. Use --login.\n"
     ]
    },
    {
     "name": "stdout",
     "output_type": "stream",
     "text": [
      "#dog\\2021-09-30_02-16-31_UTC.jpg [お久しぶりです！  みみちゃんまた手術してました🐶  #d…] \n",
      "HTTP redirect from https://www.instagram.com/graphql/query to https://www.instagram.com/accounts/login/\n",
      "[105/900] "
     ]
    },
    {
     "name": "stderr",
     "output_type": "stream",
     "text": [
      "Download <Post CUbbo3Ahin3> of #dog: Redirected to login page. Use --login.\n"
     ]
    },
    {
     "name": "stdout",
     "output_type": "stream",
     "text": [
      "#dog\\2021-09-30_02-16-30_UTC.jpg [A maior língua que vocês verã…] json \n",
      "[106/900] #dog\\2021-09-30_02-16-29_UTC.jpg [ちらっちらっ❤️‍🔥  #dakkusuhundo  #d…] json \n",
      "[107/900] #dog\\2021-09-30_02-16-28_UTC.jpg [Momma says me being cute thin…] json \n",
      "[108/900] #dog\\2021-09-30_02-16-28_UTC.jpg exists [Momma says me being cute thin…] updated [#goldenretrieversofinstagram …] \n",
      "HTTP redirect from https://www.instagram.com/graphql/query to https://www.instagram.com/accounts/login/\n",
      "[109/900] "
     ]
    },
    {
     "name": "stderr",
     "output_type": "stream",
     "text": [
      "Download <Post CUbb2dNhHbm> of #dog: Redirected to login page. Use --login.\n"
     ]
    },
    {
     "name": "stdout",
     "output_type": "stream",
     "text": [
      "#dog\\2021-09-30_02-16-27_UTC.jpg [Olá aumigos, eu amo passear! …] json \n",
      "[110/900] #dog\\2021-09-30_02-16-26_UTC.jpg [💭💤  #トイプードル #トイプードル女の子 #トイプード…] json \n",
      "[111/900] \n",
      "HTTP redirect from https://www.instagram.com/graphql/query to https://www.instagram.com/accounts/login/\n",
      "[112/900] "
     ]
    },
    {
     "name": "stderr",
     "output_type": "stream",
     "text": [
      "Download <Post CUbb4C7JhSu> of #dog: Redirected to login page. Use --login.\n"
     ]
    },
    {
     "name": "stdout",
     "output_type": "stream",
     "text": [
      "#dog\\2021-09-30_02-16-25_UTC.jpg [ななちゃん寝方すごい、、、、🐶 オムツななちゃんです！👶 …] json \n",
      "[113/900] \n",
      "HTTP redirect from https://www.instagram.com/graphql/query to https://www.instagram.com/accounts/login/\n",
      "[114/900] "
     ]
    },
    {
     "name": "stderr",
     "output_type": "stream",
     "text": [
      "Download <Post CUbb30dpVsO> of #dog: Redirected to login page. Use --login.\n"
     ]
    },
    {
     "name": "stdout",
     "output_type": "stream",
     "text": [
      "\n",
      "HTTP redirect from https://www.instagram.com/graphql/query to https://www.instagram.com/accounts/login/\n",
      "[115/900] "
     ]
    },
    {
     "name": "stderr",
     "output_type": "stream",
     "text": [
      "Download <Post CUbb3nupwVZ> of #dog: Redirected to login page. Use --login.\n"
     ]
    },
    {
     "name": "stdout",
     "output_type": "stream",
     "text": [
      "#dog\\2021-09-30_02-16-19_UTC.jpg [.  仲良く日向ぼっこ🌞  #たむまろ#たむぱる] json \n",
      "[116/900] #dog\\2021-09-30_02-16-19_UTC.jpg exists [.  仲良く日向ぼっこ🌞  #たむまろ#たむぱる] updated [When that mid-morning light h…] json \n",
      "[117/900] #dog\\2021-09-30_02-16-18_UTC.jpg [Sonriendo para la foto con la…] json \n",
      "[118/900] #dog\\2021-09-30_02-16-18_UTC.jpg exists [Sonriendo para la foto con la…] updated [#animals #animal #pet #TagsFo…] json \n",
      "[119/900] #dog\\2021-09-30_02-16-17_UTC.jpg [#yellow #macho #pom #pomerani…] json \n",
      "[120/900] #dog\\2021-09-30_02-16-11_UTC.jpg [День рождения 🐕🎉🎉🎉  #dog #dog…] json \n",
      "[121/900] #dog\\2021-09-30_02-16-09_UTC.jpg [Howler playing on the hay. #d…] json \n",
      "[122/900] \n",
      "HTTP redirect from https://www.instagram.com/graphql/query to https://www.instagram.com/accounts/login/\n",
      "[123/900] "
     ]
    },
    {
     "name": "stderr",
     "output_type": "stream",
     "text": [
      "Download <Post CUbb17xglk1> of #dog: Redirected to login page. Use --login.\n"
     ]
    },
    {
     "name": "stdout",
     "output_type": "stream",
     "text": [
      "#dog\\2021-09-30_02-16-07_UTC.jpg [🐶라온이네 딸아.. 고만좀 아퍼요...  그르게 먹는…] json \n",
      "[124/900] #dog\\2021-09-30_02-16-06_UTC.jpg [언니 밖에서 무슨소리 안들려? 굼이 무서워 (라고 아…] \n",
      "HTTP redirect from https://www.instagram.com/graphql/query to https://www.instagram.com/accounts/login/\n",
      "[125/900] "
     ]
    },
    {
     "name": "stderr",
     "output_type": "stream",
     "text": [
      "Download <Post CUbbnWCpZ_m> of #dog: Redirected to login page. Use --login.\n"
     ]
    },
    {
     "name": "stdout",
     "output_type": "stream",
     "text": [
      "#dog\\2021-09-30_02-16-03_UTC.jpg [エンドレスおもちゃ投げて🤣🤣  こうやっておもちゃで足をツ…] json \n",
      "[126/900] \n",
      "HTTP redirect from https://www.instagram.com/graphql/query to https://www.instagram.com/accounts/login/\n",
      "[127/900] "
     ]
    },
    {
     "name": "stderr",
     "output_type": "stream",
     "text": [
      "Download <Post CUbb1EQpHVZ> of #dog: Redirected to login page. Use --login.\n"
     ]
    },
    {
     "name": "stdout",
     "output_type": "stream",
     "text": [
      "\n",
      "HTTP redirect from https://www.instagram.com/graphql/query to https://www.instagram.com/accounts/login/\n",
      "[128/900] "
     ]
    },
    {
     "name": "stderr",
     "output_type": "stream",
     "text": [
      "Download <Post CUbb1FYAQ7U> of #dog: Redirected to login page. Use --login.\n"
     ]
    },
    {
     "name": "stdout",
     "output_type": "stream",
     "text": [
      "#dog\\2021-09-30_02-15-56_UTC.jpg [The face I give mom when she …] json \n",
      "[129/900] \n",
      "HTTP redirect from https://www.instagram.com/graphql/query to https://www.instagram.com/accounts/login/\n",
      "[130/900] "
     ]
    },
    {
     "name": "stderr",
     "output_type": "stream",
     "text": [
      "Download <Post CUbb0TMhR1L> of #dog: Redirected to login page. Use --login.\n"
     ]
    },
    {
     "name": "stdout",
     "output_type": "stream",
     "text": [
      "#dog\\2021-09-30_02-15-54_UTC.jpg [ドッグランであわや大事故?? . 昨日楽しそうだったので朝…] json \n",
      "[131/900] \n",
      "HTTP redirect from https://www.instagram.com/graphql/query to https://www.instagram.com/accounts/login/\n",
      "[132/900] "
     ]
    },
    {
     "name": "stderr",
     "output_type": "stream",
     "text": [
      "Download <Post CUbbzu2AdP1> of #dog: Redirected to login page. Use --login.\n"
     ]
    },
    {
     "name": "stdout",
     "output_type": "stream",
     "text": [
      "#dog\\2021-09-30_02-15-48_UTC.jpg [Big big na Nala  #husky #husk…] json \n",
      "[133/900] #dog\\2021-09-30_02-15-48_UTC.jpg exists [Big big na Nala  #husky #husk…] updated [Una de cuando era más bebe 🐶🖤…] json \n",
      "[134/900] #dog\\2021-09-30_02-15-47_UTC.jpg [Sonriendo para la foto con la…] json \n",
      "[135/900] \n",
      "HTTP redirect from https://www.instagram.com/graphql/query to https://www.instagram.com/accounts/login/\n",
      "[136/900] "
     ]
    },
    {
     "name": "stderr",
     "output_type": "stream",
     "text": [
      "Download <Post CUbbzPaFY5Y> of #dog: Redirected to login page. Use --login.\n"
     ]
    },
    {
     "name": "stdout",
     "output_type": "stream",
     "text": [
      "\n",
      "HTTP redirect from https://www.instagram.com/graphql/query to https://www.instagram.com/accounts/login/\n",
      "[137/900] "
     ]
    },
    {
     "name": "stderr",
     "output_type": "stream",
     "text": [
      "Download <Post CUbbzFMpW8K> of #dog: Redirected to login page. Use --login.\n"
     ]
    },
    {
     "name": "stdout",
     "output_type": "stream",
     "text": [
      "\n",
      "HTTP redirect from https://www.instagram.com/graphql/query to https://www.instagram.com/accounts/login/\n",
      "[138/900] "
     ]
    },
    {
     "name": "stderr",
     "output_type": "stream",
     "text": [
      "Download <Post CUbby76FZ9U> of #dog: Redirected to login page. Use --login.\n"
     ]
    },
    {
     "name": "stdout",
     "output_type": "stream",
     "text": [
      "#dog\\2021-09-30_02-15-43_UTC.jpg [Seguimos sumando ✅  También p…] json \n",
      "[139/900] #dog\\2021-09-30_02-15-41_UTC.jpg [We are cute- and we know it 😜🥰] json \n",
      "[140/900] \n",
      "HTTP redirect from https://www.instagram.com/graphql/query to https://www.instagram.com/accounts/login/\n",
      "[141/900] "
     ]
    },
    {
     "name": "stderr",
     "output_type": "stream",
     "text": [
      "Download <Post CUbbyZmrCvI> of #dog: Redirected to login page. Use --login.\n"
     ]
    },
    {
     "name": "stdout",
     "output_type": "stream",
     "text": [
      "\n",
      "HTTP redirect from https://www.instagram.com/graphql/query to https://www.instagram.com/accounts/login/\n",
      "[142/900] "
     ]
    },
    {
     "name": "stderr",
     "output_type": "stream",
     "text": [
      "Download <Post CUbbvzlJbZV> of #dog: Redirected to login page. Use --login.\n"
     ]
    },
    {
     "name": "stdout",
     "output_type": "stream",
     "text": [
      "#dog\\2021-09-30_02-14-18_UTC.jpg [#배고프다 #부산 #해운대 #송정 #여긴어딘가] json \n",
      "[143/900] \n",
      "HTTP redirect from https://www.instagram.com/graphql/query to https://www.instagram.com/accounts/login/\n",
      "[144/900] "
     ]
    },
    {
     "name": "stderr",
     "output_type": "stream",
     "text": [
      "Download <Post CUbbjtNMKd8> of #dog: Redirected to login page. Use --login.\n"
     ]
    },
    {
     "name": "stdout",
     "output_type": "stream",
     "text": [
      "#dog\\2021-09-30_01-29-57_UTC.jpg [My chew….#goldendoodle #golde…] json \n",
      "[145/900] #dog\\2021-09-29_14-42-55_UTC.jpg [. I really enjoyed myself 🐶💕 …] json \n",
      "[146/900] #dog\\2021-08-27_06-21-08_UTC.jpg [🌲🌲🌲🌲🌲🌲🌲🌲🌲🌲  #природатурциипре…] json \n",
      "[147/900] #dog\\2021-07-20_12-47-55_UTC.jpg [🕌🙏🌈🌅🥰#turkey #nargiza  #приро…] json \n",
      "[148/900] #dog\\2021-07-20_08-40-08_UTC.jpg [🌈🥰С Празднико м Курбан байрам…] json \n",
      "[149/900] \n",
      "HTTP redirect from https://www.instagram.com/graphql/query to https://www.instagram.com/accounts/login/\n",
      "[150/900] "
     ]
    },
    {
     "name": "stderr",
     "output_type": "stream",
     "text": [
      "Download <Post CUbbyUNPfjd> of #dog: Redirected to login page. Use --login.\n"
     ]
    },
    {
     "name": "stdout",
     "output_type": "stream",
     "text": [
      "\n",
      "HTTP redirect from https://www.instagram.com/graphql/query to https://www.instagram.com/accounts/login/\n",
      "[151/900] "
     ]
    },
    {
     "name": "stderr",
     "output_type": "stream",
     "text": [
      "Download <Post CUbbyMuhSDc> of #dog: Redirected to login page. Use --login.\n"
     ]
    },
    {
     "name": "stdout",
     "output_type": "stream",
     "text": [
      "#dog\\2021-09-30_02-15-37_UTC.jpg [¡Súper promo! #simparicatrio …] json \n",
      "[152/900] #dog\\2021-09-30_02-15-34_UTC.jpg [🐕  #chuvasdelikes #seguidores…] json \n",
      "[153/900] #dog\\2021-09-30_02-15-33_UTC.jpg [Someone is really feeling his…] json \n",
      "[154/900] #dog\\2021-09-30_02-15-27_UTC.jpg [Us dogs do speak, But only to…] \n",
      "HTTP redirect from https://www.instagram.com/graphql/query to https://www.instagram.com/accounts/login/\n",
      "[155/900] "
     ]
    },
    {
     "name": "stderr",
     "output_type": "stream",
     "text": [
      "Download <Post CUba-xrAHs2> of #dog: Redirected to login page. Use --login.\n"
     ]
    },
    {
     "name": "stdout",
     "output_type": "stream",
     "text": [
      "\n",
      "HTTP redirect from https://www.instagram.com/graphql/query to https://www.instagram.com/accounts/login/\n",
      "[156/900] "
     ]
    },
    {
     "name": "stderr",
     "output_type": "stream",
     "text": [
      "Download <Post CUbbw1lpXN5> of #dog: Redirected to login page. Use --login.\n"
     ]
    },
    {
     "name": "stdout",
     "output_type": "stream",
     "text": [
      "\n",
      "HTTP redirect from https://www.instagram.com/graphql/query to https://www.instagram.com/accounts/login/\n",
      "[157/900] "
     ]
    },
    {
     "name": "stderr",
     "output_type": "stream",
     "text": [
      "Download <Post CUbbwp-vPsx> of #dog: Redirected to login page. Use --login.\n"
     ]
    },
    {
     "name": "stdout",
     "output_type": "stream",
     "text": [
      "#dog\\2021-09-30_02-15-24_UTC.jpg [No staying up late for me!! G…] json \n",
      "[158/900] #dog\\2021-09-30_02-15-23_UTC.jpg [Continunado con el tema de lo…] json \n",
      "[159/900] #dog\\2021-09-30_02-15-21_UTC.jpg [Entregando pedidos 🌸 Platos p…] \n",
      "HTTP redirect from https://www.instagram.com/graphql/query to https://www.instagram.com/accounts/login/\n",
      "[160/900] "
     ]
    },
    {
     "name": "stderr",
     "output_type": "stream",
     "text": [
      "Download <Post CUbbiOppgOk> of #dog: Redirected to login page. Use --login.\n"
     ]
    },
    {
     "name": "stdout",
     "output_type": "stream",
     "text": [
      "#dog\\2021-09-30_02-15-20_UTC.jpg [各位哥哥姊姊覺得我的新雨衣好看嗎 這樣下雨天也可以出去玩了…] json \n",
      "[161/900] \n",
      "HTTP redirect from https://www.instagram.com/graphql/query to https://www.instagram.com/accounts/login/\n",
      "[162/900] "
     ]
    },
    {
     "name": "stderr",
     "output_type": "stream",
     "text": [
      "Download <Post CUbbv0Fhbfc> of #dog: Redirected to login page. Use --login.\n"
     ]
    },
    {
     "name": "stdout",
     "output_type": "stream",
     "text": [
      "#dog\\2021-09-30_02-15-14_UTC.jpg [Mia makes weird noises while …] \n",
      "HTTP redirect from https://www.instagram.com/graphql/query to https://www.instagram.com/accounts/login/\n",
      "[163/900] "
     ]
    },
    {
     "name": "stderr",
     "output_type": "stream",
     "text": [
      "Download <Post CUbbtzPD_6k> of #dog: Redirected to login page. Use --login.\n"
     ]
    },
    {
     "name": "stdout",
     "output_type": "stream",
     "text": [
      "\n",
      "HTTP redirect from https://www.instagram.com/graphql/query to https://www.instagram.com/accounts/login/\n",
      "[164/900] "
     ]
    },
    {
     "name": "stderr",
     "output_type": "stream",
     "text": [
      "Download <Post CUbbu8zv-5f> of #dog: Redirected to login page. Use --login.\n"
     ]
    },
    {
     "name": "stdout",
     "output_type": "stream",
     "text": [
      "\n",
      "HTTP redirect from https://www.instagram.com/graphql/query to https://www.instagram.com/accounts/login/\n",
      "[165/900] "
     ]
    },
    {
     "name": "stderr",
     "output_type": "stream",
     "text": [
      "Download <Post CUbbu-WBdnW> of #dog: Redirected to login page. Use --login.\n"
     ]
    },
    {
     "name": "stdout",
     "output_type": "stream",
     "text": [
      "#dog\\2021-09-30_02-15-11_UTC.jpg [🐾Muy feliz en mi paseo 🐾  . .…] json \n",
      "[166/900] \n",
      "HTTP redirect from https://www.instagram.com/graphql/query to https://www.instagram.com/accounts/login/\n",
      "[167/900] "
     ]
    },
    {
     "name": "stderr",
     "output_type": "stream",
     "text": [
      "Download <Post CUbbupZpzvr> of #dog: Redirected to login page. Use --login.\n"
     ]
    },
    {
     "name": "stdout",
     "output_type": "stream",
     "text": [
      "#dog\\2021-09-30_02-15-07_UTC.jpg [🥺🥺🥺  #トイプードル #トイプードル女の子 #トイプー…] json \n",
      "[168/900] \n",
      "HTTP redirect from https://www.instagram.com/graphql/query to https://www.instagram.com/accounts/login/\n",
      "[169/900] "
     ]
    },
    {
     "name": "stderr",
     "output_type": "stream",
     "text": [
      "Download <Post CUbbuSEJDf-> of #dog: Redirected to login page. Use --login.\n"
     ]
    },
    {
     "name": "stdout",
     "output_type": "stream",
     "text": [
      "#dog\\2021-09-30_02-15-06_UTC.jpg [❤️ tag your friends ❤️ who lo…] \n",
      "HTTP redirect from https://www.instagram.com/graphql/query to https://www.instagram.com/accounts/login/\n",
      "[170/900] "
     ]
    },
    {
     "name": "stderr",
     "output_type": "stream",
     "text": [
      "Download <Post CUbbsyuhxT4> of #dog: Redirected to login page. Use --login.\n"
     ]
    },
    {
     "name": "stdout",
     "output_type": "stream",
     "text": [
      "#dog\\2021-09-30_02-15-02_UTC.jpg [우리집 장군 사람처럼 잘자네😎 . . . #일사…] json \n",
      "[171/900] #dog\\2021-09-30_02-15-00_UTC.jpg [🐶nice💕💕  #dog #dogsofinstagra…] \n",
      "HTTP redirect from https://www.instagram.com/graphql/query to https://www.instagram.com/accounts/login/\n",
      "[172/900] "
     ]
    },
    {
     "name": "stderr",
     "output_type": "stream",
     "text": [
      "Download <Post CUbbd_UpB7A> of #dog: Redirected to login page. Use --login.\n"
     ]
    },
    {
     "name": "stdout",
     "output_type": "stream",
     "text": [
      "#dog\\2021-09-30_02-14-58_UTC.jpg [Meet Lemmy the German Shepard…] json \n",
      "[173/900] #dog\\2021-09-30_02-14-57_UTC.jpg [Morning walk with mommy. #pom…] \n",
      "HTTP redirect from https://www.instagram.com/graphql/query to https://www.instagram.com/accounts/login/\n",
      "[174/900] "
     ]
    },
    {
     "name": "stderr",
     "output_type": "stream",
     "text": [
      "Download <Post CUbbqAmBo59> of #dog: Redirected to login page. Use --login.\n"
     ]
    },
    {
     "name": "stdout",
     "output_type": "stream",
     "text": [
      "#dog\\2021-09-30_02-14-56_UTC.jpg [Who cares about dad, I'm exci…] \n",
      "HTTP redirect from https://www.instagram.com/graphql/query to https://www.instagram.com/accounts/login/\n",
      "[175/900] "
     ]
    },
    {
     "name": "stderr",
     "output_type": "stream",
     "text": [
      "Download <Post CUbbpqfACA8> of #dog: Redirected to login page. Use --login.\n"
     ]
    },
    {
     "name": "stdout",
     "output_type": "stream",
     "text": [
      "\n",
      "HTTP redirect from https://www.instagram.com/graphql/query to https://www.instagram.com/accounts/login/\n",
      "[176/900] "
     ]
    },
    {
     "name": "stderr",
     "output_type": "stream",
     "text": [
      "Download <Post CUbbsIrF2LZ> of #dog: Redirected to login page. Use --login.\n"
     ]
    },
    {
     "name": "stdout",
     "output_type": "stream",
     "text": [
      "\n",
      "HTTP redirect from https://www.instagram.com/graphql/query to https://www.instagram.com/accounts/login/\n",
      "[177/900] "
     ]
    },
    {
     "name": "stderr",
     "output_type": "stream",
     "text": [
      "Download <Post CUbbsFLlIQ-> of #dog: Redirected to login page. Use --login.\n"
     ]
    },
    {
     "name": "stdout",
     "output_type": "stream",
     "text": [
      "#dog\\2021-09-30_02-14-46_UTC.jpg [. 幸福狗生❤️ 吃飽睡 睡飽吃 都沒有煩惱欸 有啦唯一煩…] json \n",
      "[178/900] #dog\\2021-09-30_02-14-46_UTC.jpg exists [. 幸福狗生❤️ 吃飽睡 睡飽吃 都沒有煩惱欸 有啦唯一煩…] updated [:: \"ಕೊಡಚಾದ್ರಿ ಬೆಟ್ಟ\" ಹತ್ತಲು ಹ…] json \n",
      "[179/900] #dog\\2021-09-30_02-14-46_UTC.jpg exists [:: \"ಕೊಡಚಾದ್ರಿ ಬೆಟ್ಟ\" ಹತ್ತಲು ಹ…] updated [Woke up from a nap and was to…] json \n",
      "[180/900] \n",
      "HTTP redirect from https://www.instagram.com/graphql/query to https://www.instagram.com/accounts/login/\n",
      "[181/900] "
     ]
    },
    {
     "name": "stderr",
     "output_type": "stream",
     "text": [
      "Download <Post CUbbrwFsm1_> of #dog: Redirected to login page. Use --login.\n"
     ]
    },
    {
     "name": "stdout",
     "output_type": "stream",
     "text": [
      "#dog\\2021-09-30_02-14-45_UTC.jpg [Comissão para um membro do Am…] json \n",
      "[182/900] #dog\\2021-09-30_02-14-44_UTC.jpg [Sonriendo para la foto con la…] json \n",
      "[183/900] #dog\\2021-09-30_02-14-42_UTC.jpg [Can’t believe how big little …] json \n",
      "[184/900] #dog\\2021-09-30_02-14-39_UTC.jpg [#Pup #Dog #chorkie #Chihuahua…] \n",
      "HTTP redirect from https://www.instagram.com/graphql/query to https://www.instagram.com/accounts/login/\n",
      "[185/900] "
     ]
    },
    {
     "name": "stderr",
     "output_type": "stream",
     "text": [
      "Download <Post CUbaZsOl0Ve> of #dog: Redirected to login page. Use --login.\n"
     ]
    },
    {
     "name": "stdout",
     "output_type": "stream",
     "text": [
      "#dog\\2021-09-30_02-14-38_UTC.jpg [おはよう☀  ⁡ #シーズー #犬好きな人と繋がりたい…] json \n",
      "[186/900] \n",
      "HTTP redirect from https://www.instagram.com/graphql/query to https://www.instagram.com/accounts/login/\n",
      "[187/900] "
     ]
    },
    {
     "name": "stderr",
     "output_type": "stream",
     "text": [
      "Download <Post CUbbqmYp8pD> of #dog: Redirected to login page. Use --login.\n"
     ]
    },
    {
     "name": "stdout",
     "output_type": "stream",
     "text": [
      "#dog\\2021-09-30_02-14-32_UTC.jpg [\"Never stop living and believ…] json \n",
      "[188/900] \n",
      "HTTP redirect from https://www.instagram.com/graphql/query to https://www.instagram.com/accounts/login/\n",
      "[189/900] "
     ]
    },
    {
     "name": "stderr",
     "output_type": "stream",
     "text": [
      "Download <Post CUbbqHWPvWc> of #dog: Redirected to login page. Use --login.\n"
     ]
    },
    {
     "name": "stdout",
     "output_type": "stream",
     "text": [
      "\n",
      "HTTP redirect from https://www.instagram.com/graphql/query to https://www.instagram.com/accounts/login/\n",
      "[190/900] "
     ]
    },
    {
     "name": "stderr",
     "output_type": "stream",
     "text": [
      "Download <Post CUbbp8LJSzM> of #dog: Redirected to login page. Use --login.\n"
     ]
    },
    {
     "name": "stdout",
     "output_type": "stream",
     "text": [
      "#dog\\2021-09-30_02-14-29_UTC.jpg [Mama, do you think the nice p…] json \n",
      "[191/900] #dog\\2021-09-30_02-14-29_UTC.jpg exists [Mama, do you think the nice p…] updated [🌟Eu era pra ser pequeninho ti…] \n",
      "HTTP redirect from https://www.instagram.com/graphql/query to https://www.instagram.com/accounts/login/\n",
      "[192/900] "
     ]
    },
    {
     "name": "stderr",
     "output_type": "stream",
     "text": [
      "Download <Post CUbbeO9snJB> of #dog: Redirected to login page. Use --login.\n"
     ]
    },
    {
     "name": "stdout",
     "output_type": "stream",
     "text": [
      "#dog\\2021-09-30_02-14-27_UTC.jpg [Qué buena retaguardia tengo 😂…] json \n",
      "[193/900] #dog\\2021-09-30_02-14-24_UTC.jpg [Life is too short to just hav…] \n",
      "HTTP redirect from https://www.instagram.com/graphql/query to https://www.instagram.com/accounts/login/\n",
      "[194/900] "
     ]
    },
    {
     "name": "stderr",
     "output_type": "stream",
     "text": [
      "Download <Post CUbbYnCrG-C> of #dog: Redirected to login page. Use --login.\n"
     ]
    },
    {
     "name": "stdout",
     "output_type": "stream",
     "text": [
      "\n",
      "HTTP redirect from https://www.instagram.com/graphql/query to https://www.instagram.com/accounts/login/\n",
      "[195/900] "
     ]
    },
    {
     "name": "stderr",
     "output_type": "stream",
     "text": [
      "Download <Post CUbbo9SF-WP> of #dog: Redirected to login page. Use --login.\n"
     ]
    },
    {
     "name": "stdout",
     "output_type": "stream",
     "text": [
      "#dog\\2021-09-30_02-14-21_UTC.jpg [ADORABLE PUPPY ALERT! Meet th…] \n",
      "HTTP redirect from https://www.instagram.com/graphql/query to https://www.instagram.com/accounts/login/\n",
      "[196/900] "
     ]
    },
    {
     "name": "stderr",
     "output_type": "stream",
     "text": [
      "Download <Post CUbbipfj7IZ> of #dog: Redirected to login page. Use --login.\n"
     ]
    },
    {
     "name": "stdout",
     "output_type": "stream",
     "text": [
      "#dog\\2021-09-30_02-14-20_UTC.jpg [👑Happy National Son's Day👑  #…] json \n",
      "[197/900] #dog\\2021-09-30_02-14-20_UTC.jpg exists [👑Happy National Son's Day👑  #…] updated [Penny had TLC today. #dog #do…] json \n",
      "[198/900] #dog\\2021-09-30_02-14-19_UTC.jpg [The face of a Groodle that ju…] json \n",
      "[199/900] \n",
      "HTTP redirect from https://www.instagram.com/graphql/query to https://www.instagram.com/accounts/login/\n",
      "[200/900] #dog\\2021-09-30_02-14-18_UTC.jpg exists [#배고프다 #부산 #해운대 #송정 #여긴어딘가] updated [Kisses from Yuki] "
     ]
    },
    {
     "name": "stderr",
     "output_type": "stream",
     "text": [
      "Download <Post CUbbolrFkqk> of #dog: Redirected to login page. Use --login.\n"
     ]
    },
    {
     "name": "stdout",
     "output_type": "stream",
     "text": [
      "\n",
      "HTTP redirect from https://www.instagram.com/graphql/query to https://www.instagram.com/accounts/login/\n",
      "[201/900] #dog\\2021-09-30_02-14-18_UTC.jpg exists [Kisses from Yuki] updated [ももちゃん！  #トイプードル #トイプードル女の子 #ト…] json \n",
      "[202/900] "
     ]
    },
    {
     "name": "stderr",
     "output_type": "stream",
     "text": [
      "Download <Post CUbbkPbllrn> of #dog: Redirected to login page. Use --login.\n"
     ]
    },
    {
     "name": "stdout",
     "output_type": "stream",
     "text": [
      "#dog\\2021-09-30_02-14-17_UTC.jpg [I have reached the age to wha…] json \n",
      "[203/900] #dog\\2021-09-30_02-14-17_UTC.jpg exists [I have reached the age to wha…] updated [🐶 . . #PitoquinhoCompanheiro …] json \n",
      "[204/900] \n",
      "HTTP redirect from https://www.instagram.com/graphql/query to https://www.instagram.com/accounts/login/\n",
      "[205/900] "
     ]
    },
    {
     "name": "stderr",
     "output_type": "stream",
     "text": [
      "Download <Post CUbboEOLHFr> of #dog: Redirected to login page. Use --login.\n"
     ]
    },
    {
     "name": "stdout",
     "output_type": "stream",
     "text": [
      "#dog\\2021-09-30_02-14-14_UTC.jpg [Dinky Bean loves to sit up hi…] json \n",
      "[206/900] \n",
      "HTTP redirect from https://www.instagram.com/graphql/query to https://www.instagram.com/accounts/login/\n",
      "[207/900] "
     ]
    },
    {
     "name": "stderr",
     "output_type": "stream",
     "text": [
      "Download <Post CUbbngPILjD> of #dog: Redirected to login page. Use --login.\n"
     ]
    },
    {
     "name": "stdout",
     "output_type": "stream",
     "text": [
      "\n",
      "HTTP redirect from https://www.instagram.com/graphql/query to https://www.instagram.com/accounts/login/\n",
      "[208/900] "
     ]
    },
    {
     "name": "stderr",
     "output_type": "stream",
     "text": [
      "Download <Post CUbbme-IJ5R> of #dog: Redirected to login page. Use --login.\n"
     ]
    },
    {
     "name": "stdout",
     "output_type": "stream",
     "text": [
      "#dog\\2021-09-30_02-13-57_UTC.jpg [\"𝚆𝚘𝚛𝚕𝚍 𝚜𝚎𝚛𝚒𝚎𝚜 𝚊𝚝𝚝𝚒𝚝𝚞𝚍𝚎, 𝚌𝚑𝚊𝚖𝚙…] json \n",
      "[209/900] #dog\\2021-09-30_02-13-30_UTC.jpg [☆ CHELSEA ☆  Mi Universo, Mi …] json \n",
      "[210/900] #dog\\2021-09-30_02-13-21_UTC.jpg [제발 두발로 서지마 !!!!!!] \n",
      "HTTP redirect from https://www.instagram.com/graphql/query to https://www.instagram.com/accounts/login/\n",
      "[211/900] "
     ]
    },
    {
     "name": "stderr",
     "output_type": "stream",
     "text": [
      "Download <Post CUbbeyzpJ-A> of #dog: Redirected to login page. Use --login.\n"
     ]
    },
    {
     "name": "stdout",
     "output_type": "stream",
     "text": [
      "\n",
      "HTTP redirect from https://www.instagram.com/graphql/query to https://www.instagram.com/accounts/login/\n",
      "[212/900] "
     ]
    },
    {
     "name": "stderr",
     "output_type": "stream",
     "text": [
      "Download <Post CUbbautJrGa> of #dog: Redirected to login page. Use --login.\n"
     ]
    },
    {
     "name": "stdout",
     "output_type": "stream",
     "text": [
      "\n",
      "HTTP redirect from https://www.instagram.com/graphql/query to https://www.instagram.com/accounts/login/\n",
      "[213/900] "
     ]
    },
    {
     "name": "stderr",
     "output_type": "stream",
     "text": [
      "Download <Post CUbbZmUB5zs> of #dog: Redirected to login page. Use --login.\n"
     ]
    },
    {
     "name": "stdout",
     "output_type": "stream",
     "text": [
      "\n",
      "HTTP redirect from https://www.instagram.com/graphql/query to https://www.instagram.com/accounts/login/\n",
      "[214/900] "
     ]
    },
    {
     "name": "stderr",
     "output_type": "stream",
     "text": [
      "Download <Post CUbaE5aJet-> of #dog: Redirected to login page. Use --login.\n"
     ]
    },
    {
     "name": "stdout",
     "output_type": "stream",
     "text": [
      "\n",
      "HTTP redirect from https://www.instagram.com/graphql/query to https://www.instagram.com/accounts/login/\n",
      "[215/900] "
     ]
    },
    {
     "name": "stderr",
     "output_type": "stream",
     "text": [
      "Download <Post CUbYzEsvNfV> of #dog: Redirected to login page. Use --login.\n"
     ]
    },
    {
     "name": "stdout",
     "output_type": "stream",
     "text": [
      "\n",
      "HTTP redirect from https://www.instagram.com/graphql/query to https://www.instagram.com/accounts/login/\n",
      "[216/900] "
     ]
    },
    {
     "name": "stderr",
     "output_type": "stream",
     "text": [
      "Download <Post CUbYb-oFuO4> of #dog: Redirected to login page. Use --login.\n"
     ]
    },
    {
     "name": "stdout",
     "output_type": "stream",
     "text": [
      "#dog\\2021-09-29_17-52-36_UTC.jpg [Before and after. #1sthaircut…] json \n",
      "[217/900] #dog\\2021-09-22_19-45-36_UTC.jpg [. Ostatnie zdjęcie ze wszystk…] json \n",
      "[218/900] \n",
      "HTTP redirect from https://www.instagram.com/graphql/query to https://www.instagram.com/accounts/login/\n"
     ]
    },
    {
     "name": "stderr",
     "output_type": "stream",
     "text": [
      "Download <Post CT0cUleo1Yb> of #dog: Redirected to login page. Use --login.\n"
     ]
    },
    {
     "name": "stdout",
     "output_type": "stream",
     "text": [
      "[219/900] #dog\\2021-09-30_02-14-15_UTC.jpg [An adult’s spoiled moment ( 🐶…] json \n",
      "[220/900] \n",
      "HTTP redirect from https://www.instagram.com/graphql/query to https://www.instagram.com/accounts/login/\n",
      "[221/900] "
     ]
    },
    {
     "name": "stderr",
     "output_type": "stream",
     "text": [
      "Download <Post CUbboBBJz2R> of #dog: Redirected to login page. Use --login.\n"
     ]
    },
    {
     "name": "stdout",
     "output_type": "stream",
     "text": [
      "#dog\\2021-09-30_02-14-08_UTC.jpg [𝒀𝒐𝒖𝒓 𝒇𝒂𝒗𝒐𝒓𝒊𝒕𝒆 𝒑𝒆𝒕𝒔🐾 𝑺𝒊𝒈𝒖𝒆𝒎𝒆🙈 …] json \n",
      "[222/900] #dog\\2021-09-30_02-14-06_UTC.jpg [가자가자가자구~! . . . #댕댕이 #멍스타그램 #…] \n",
      "HTTP redirect from https://www.instagram.com/graphql/query to https://www.instagram.com/accounts/login/\n",
      "[223/900] #dog\\2021-09-30_02-14-06_UTC.jpg exists [가자가자가자구~! . . . #댕댕이 #멍스타그램 #…] updated [Nebby and Pheonix #canecorso …] json \n",
      "[224/900] "
     ]
    },
    {
     "name": "stderr",
     "output_type": "stream",
     "text": [
      "Download <Post CUbbkVSg8vT> of #dog: Redirected to login page. Use --login.\n"
     ]
    },
    {
     "name": "stdout",
     "output_type": "stream",
     "text": [
      "#dog\\2021-09-30_02-14-05_UTC.jpg [Sonriendo para la foto con la…] json \n",
      "[225/900] #dog\\2021-09-30_02-14-03_UTC.jpg [𖤐  날씨 죽여주는고만.. 근데 왜 나는 이시간에 맥…] json \n",
      "[226/900] #dog\\2021-09-30_02-14-02_UTC.jpg [ちょっと芸人ヒロシ風じゃない？🤣  「ファンです。今日はお…] json \n",
      "[227/900] #dog\\2021-09-30_02-14-02_UTC.jpg exists [ちょっと芸人ヒロシ風じゃない？🤣  「ファンです。今日はお…] updated [#pet #pets #animals #cachorro…] json \n",
      "[228/900] \n",
      "HTTP redirect from https://www.instagram.com/graphql/query to https://www.instagram.com/accounts/login/\n",
      "[229/900] "
     ]
    },
    {
     "name": "stderr",
     "output_type": "stream",
     "text": [
      "Download <Post CUbbmNsr7q1> of #dog: Redirected to login page. Use --login.\n"
     ]
    },
    {
     "name": "stdout",
     "output_type": "stream",
     "text": [
      "#dog\\2021-09-30_02-13-58_UTC.jpg [He wants to roll in the berri…] json \n",
      "[230/900] \n",
      "HTTP redirect from https://www.instagram.com/graphql/query to https://www.instagram.com/accounts/login/\n",
      "[231/900] #dog\\2021-09-30_02-13-57_UTC.jpg exists [\"𝚆𝚘𝚛𝚕𝚍 𝚜𝚎𝚛𝚒𝚎𝚜 𝚊𝚝𝚝𝚒𝚝𝚞𝚍𝚎, 𝚌𝚑𝚊𝚖𝚙…] updated [😂😂😂  #dog#cutedog#犬#犬のいる暮らし #…] "
     ]
    },
    {
     "name": "stderr",
     "output_type": "stream",
     "text": [
      "Download <Post CUbbl3ilphO> of #dog: Redirected to login page. Use --login.\n"
     ]
    },
    {
     "name": "stdout",
     "output_type": "stream",
     "text": [
      "\n",
      "HTTP redirect from https://www.instagram.com/graphql/query to https://www.instagram.com/accounts/login/\n",
      "[232/900] "
     ]
    },
    {
     "name": "stderr",
     "output_type": "stream",
     "text": [
      "Download <Post CUbbjuPpxE4> of #dog: Redirected to login page. Use --login.\n"
     ]
    },
    {
     "name": "stdout",
     "output_type": "stream",
     "text": [
      "#dog\\2021-09-30_02-13-52_UTC.jpg [“Crackhead” 👹  . @sofiathemal…] \n",
      "HTTP redirect from https://www.instagram.com/graphql/query to https://www.instagram.com/accounts/login/\n",
      "[233/900] "
     ]
    },
    {
     "name": "stderr",
     "output_type": "stream",
     "text": [
      "Download <Post CUbbMCXhYPd> of #dog: Redirected to login page. Use --login.\n"
     ]
    },
    {
     "name": "stdout",
     "output_type": "stream",
     "text": [
      "#dog\\2021-09-30_02-13-51_UTC.jpg [Wanna relax with me? #relax #…] json \n",
      "[234/900] \n",
      "HTTP redirect from https://www.instagram.com/graphql/query to https://www.instagram.com/accounts/login/\n",
      "[235/900] "
     ]
    },
    {
     "name": "stderr",
     "output_type": "stream",
     "text": [
      "Download <Post CUbblJEP_MR> of #dog: Redirected to login page. Use --login.\n"
     ]
    },
    {
     "name": "stdout",
     "output_type": "stream",
     "text": [
      "#dog\\2021-09-30_02-13-50_UTC.jpg [Make sure to try this trick 😂…] \n",
      "HTTP redirect from https://www.instagram.com/graphql/query to https://www.instagram.com/accounts/login/\n",
      "[236/900] #dog\\2021-09-30_02-13-50_UTC.jpg exists [Make sure to try this trick 😂…] updated [二宝。 . . . #birthdayart #dog #…] json \n",
      "[237/900] "
     ]
    },
    {
     "name": "stderr",
     "output_type": "stream",
     "text": [
      "Download <Post CUbbkMPJ9_U> of #dog: Redirected to login page. Use --login.\n"
     ]
    },
    {
     "name": "stdout",
     "output_type": "stream",
     "text": [
      "#dog\\2021-09-30_02-13-49_UTC.jpg [Clementine, 8x10, colored pen…] json \n",
      "[238/900] \n",
      "HTTP redirect from https://www.instagram.com/graphql/query to https://www.instagram.com/accounts/login/\n",
      "[239/900] "
     ]
    },
    {
     "name": "stderr",
     "output_type": "stream",
     "text": [
      "Download <Post CUbbk0mhSJy> of #dog: Redirected to login page. Use --login.\n"
     ]
    },
    {
     "name": "stdout",
     "output_type": "stream",
     "text": [
      "\n",
      "HTTP redirect from https://www.instagram.com/graphql/query to https://www.instagram.com/accounts/login/\n",
      "[240/900] #dog\\2021-09-30_02-13-46_UTC.jpg "
     ]
    },
    {
     "name": "stderr",
     "output_type": "stream",
     "text": [
      "Download <Post CUbbkr0JT9v> of #dog: Redirected to login page. Use --login.\n"
     ]
    },
    {
     "name": "stdout",
     "output_type": "stream",
     "text": [
      "[my sweetie pie😍❤️  #яша_из_лю…] json \n",
      "[241/900] \n",
      "HTTP redirect from https://www.instagram.com/graphql/query to https://www.instagram.com/accounts/login/\n",
      "[242/900] "
     ]
    },
    {
     "name": "stderr",
     "output_type": "stream",
     "text": [
      "Download <Post CUbbkgUBktp> of #dog: Redirected to login page. Use --login.\n"
     ]
    },
    {
     "name": "stdout",
     "output_type": "stream",
     "text": [
      "#dog\\2021-09-30_02-13-45_UTC.jpg [엄마가방맛 보는호두 🤣🤣  #말티푸 #말티푸그램 #말…] json \n",
      "[243/900] #dog\\2021-09-30_02-13-44_UTC.jpg [My new cousin and best friend…] json \n",
      "[244/900] \n",
      "HTTP redirect from https://www.instagram.com/graphql/query to https://www.instagram.com/accounts/login/\n",
      "[245/900] "
     ]
    },
    {
     "name": "stderr",
     "output_type": "stream",
     "text": [
      "Download <Post CUbbkHnswIs> of #dog: Redirected to login page. Use --login.\n"
     ]
    },
    {
     "name": "stdout",
     "output_type": "stream",
     "text": [
      "\n",
      "HTTP redirect from https://www.instagram.com/graphql/query to https://www.instagram.com/accounts/login/\n",
      "[246/900] "
     ]
    },
    {
     "name": "stderr",
     "output_type": "stream",
     "text": [
      "Download <Post CUbbj8tpz_r> of #dog: Redirected to login page. Use --login.\n"
     ]
    },
    {
     "name": "stdout",
     "output_type": "stream",
     "text": [
      "#dog\\2021-09-30_02-13-41_UTC.jpg [Sonriendo para la foto con la…] json \n",
      "[247/900] #dog\\2021-09-30_02-13-40_UTC.jpg [Not the ideal family pic but …] json \n",
      "[248/900] #dog\\2021-09-30_02-13-38_UTC.jpg [Quando chego do banho fico to…] json \n",
      "[249/900] #dog\\2021-09-30_02-13-37_UTC.jpg [There's only so much cool a p…] json \n",
      "[250/900] \n",
      "HTTP redirect from https://www.instagram.com/graphql/query to https://www.instagram.com/accounts/login/\n",
      "[251/900] "
     ]
    },
    {
     "name": "stderr",
     "output_type": "stream",
     "text": [
      "Download <Post CUbbjTHvFei> of #dog: Redirected to login page. Use --login.\n"
     ]
    },
    {
     "name": "stdout",
     "output_type": "stream",
     "text": [
      "#dog\\2021-09-30_02-13-36_UTC.jpg [#dog #cute #dogslover] json \n",
      "[252/900] \n",
      "HTTP redirect from https://www.instagram.com/graphql/query to https://www.instagram.com/accounts/login/\n",
      "[253/900] "
     ]
    },
    {
     "name": "stderr",
     "output_type": "stream",
     "text": [
      "Download <Post CUbbjIhJPSi> of #dog: Redirected to login page. Use --login.\n"
     ]
    },
    {
     "name": "stdout",
     "output_type": "stream",
     "text": [
      "#dog\\2021-09-30_02-13-34_UTC.jpg [. . おともだちに撮ってもらったよ💓 かわいい？🎀 . …] json \n",
      "[254/900] #dog\\2021-09-30_02-13-33_UTC.jpg [早朝お散歩🐶 めっちゃ気持ち良かったね〜🌞✨  #ポメチワ…] json \n",
      "[255/900] #dog\\2021-09-30_02-13-30_UTC.jpg exists [☆ CHELSEA ☆  Mi Universo, Mi …] updated [예쁜척 하는 빵자!] json \n",
      "[256/900] \n",
      "HTTP redirect from https://www.instagram.com/graphql/query to https://www.instagram.com/accounts/login/\n",
      "[257/900] "
     ]
    },
    {
     "name": "stderr",
     "output_type": "stream",
     "text": [
      "Download <Post CUbbipqB1T8> of #dog: Redirected to login page. Use --login.\n"
     ]
    },
    {
     "name": "stdout",
     "output_type": "stream",
     "text": [
      "#dog\\2021-09-30_02-13-27_UTC.jpg [🥰🥰#germanshepherd  #puppylove…] json \n",
      "[258/900] #dog\\2021-09-30_02-13-26_UTC.jpg [I'm out on a walk...i had the…] json \n",
      "[259/900] #dog\\2021-09-30_02-13-23_UTC.jpg [有🦀🦀🦀🦀食呀 💭 #poodlefayefaye #po…] json \n",
      "[260/900] #dog\\2021-09-30_02-13-23_UTC.jpg exists [有🦀🦀🦀🦀食呀 💭 #poodlefayefaye #po…] updated [. 歯磨きガム🐶 ちゃんと全部の歯で噛んでくれます笑 . …] \n",
      "HTTP redirect from https://www.instagram.com/graphql/query to https://www.instagram.com/accounts/login/\n",
      "[261/900] #dog\\2021-09-30_02-13-23_UTC.jpg exists [. 歯磨きガム🐶 ちゃんと全部の歯で噛んでくれます笑 . …] updated [新技能get 😎  經大姐姐 @ngkayannn 訓練左…] "
     ]
    },
    {
     "name": "stderr",
     "output_type": "stream",
     "text": [
      "Download <Post CUbbZkHB07p> of #dog: Redirected to login page. Use --login.\n"
     ]
    },
    {
     "name": "stdout",
     "output_type": "stream",
     "text": [
      "\n",
      "HTTP redirect from https://www.instagram.com/graphql/query to https://www.instagram.com/accounts/login/\n",
      "[262/900] "
     ]
    },
    {
     "name": "stderr",
     "output_type": "stream",
     "text": [
      "Download <Post CUbbQwKl_Q8> of #dog: Redirected to login page. Use --login.\n"
     ]
    },
    {
     "name": "stdout",
     "output_type": "stream",
     "text": [
      "\n",
      "HTTP redirect from https://www.instagram.com/graphql/query to https://www.instagram.com/accounts/login/\n",
      "[263/900] #dog\\2021-09-30_02-13-21_UTC.jpg exists [제발 두발로 서지마 !!!!!!] updated [#dogsofinstagram #doglovers #…] json \n",
      "[264/900] "
     ]
    },
    {
     "name": "stderr",
     "output_type": "stream",
     "text": [
      "Download <Post CUbbhrYgqMl> of #dog: Redirected to login page. Use --login.\n"
     ]
    },
    {
     "name": "stdout",
     "output_type": "stream",
     "text": [
      "\n",
      "HTTP redirect from https://www.instagram.com/graphql/query to https://www.instagram.com/accounts/login/\n",
      "[265/900] "
     ]
    },
    {
     "name": "stderr",
     "output_type": "stream",
     "text": [
      "Download <Post CUbbhfRJACY> of #dog: Redirected to login page. Use --login.\n"
     ]
    },
    {
     "name": "stdout",
     "output_type": "stream",
     "text": [
      "\n",
      "HTTP redirect from https://www.instagram.com/graphql/query to https://www.instagram.com/accounts/login/\n",
      "[266/900] "
     ]
    },
    {
     "name": "stderr",
     "output_type": "stream",
     "text": [
      "Download <Post CUbbhP4tykl> of #dog: Redirected to login page. Use --login.\n"
     ]
    },
    {
     "name": "stdout",
     "output_type": "stream",
     "text": [
      "#dog\\2021-09-30_02-13-19_UTC.jpg [Sometimes you just need to pa…] json \n",
      "[267/900] #dog\\2021-09-30_02-13-19_UTC.jpg exists [Sometimes you just need to pa…] updated [I learn a lot from my fur cli…] json \n",
      "[268/900] \n",
      "HTTP redirect from https://www.instagram.com/graphql/query to https://www.instagram.com/accounts/login/\n",
      "[269/900] "
     ]
    },
    {
     "name": "stderr",
     "output_type": "stream",
     "text": [
      "Download <Post CUbbhPUr1Me> of #dog: Redirected to login page. Use --login.\n"
     ]
    },
    {
     "name": "stdout",
     "output_type": "stream",
     "text": [
      "#dog\\2021-09-30_02-13-15_UTC.jpg [#dog #mobilephotography] json \n",
      "[270/900] #dog\\2021-09-30_02-13-14_UTC.jpg [𝐿𝑜 𝑞𝑢𝑒 𝑒𝑠 𝑑𝑒 𝑚𝑖 𝑝𝑎𝑝𝑖 𝑒𝑠 𝑚𝑖𝑜☺️…] json \n",
      "[271/900] \n",
      "HTTP redirect from https://www.instagram.com/graphql/query to https://www.instagram.com/accounts/login/\n",
      "[272/900] "
     ]
    },
    {
     "name": "stderr",
     "output_type": "stream",
     "text": [
      "Download <Post CUbbf-btLBV> of #dog: Redirected to login page. Use --login.\n"
     ]
    },
    {
     "name": "stdout",
     "output_type": "stream",
     "text": [
      "#dog\\2021-09-30_02-13-07_UTC.jpg [그냥 도라이 하난줄알았는데...둘인것아니 셋이구나..…] \n",
      "HTTP redirect from https://www.instagram.com/graphql/query to https://www.instagram.com/accounts/login/\n",
      "[273/900] "
     ]
    },
    {
     "name": "stderr",
     "output_type": "stream",
     "text": [
      "Download <Post CUbbS0epVnA> of #dog: Redirected to login page. Use --login.\n"
     ]
    },
    {
     "name": "stdout",
     "output_type": "stream",
     "text": [
      "#dog\\2021-09-30_02-13-05_UTC.jpg [Our BlingDogz got style 💯 ⁠ ⁠…] \n",
      "HTTP redirect from https://www.instagram.com/graphql/query to https://www.instagram.com/accounts/login/\n",
      "[274/900] "
     ]
    },
    {
     "name": "stderr",
     "output_type": "stream",
     "text": [
      "Download <Post CUbbJmAL75t> of #dog: Redirected to login page. Use --login.\n"
     ]
    },
    {
     "name": "stdout",
     "output_type": "stream",
     "text": [
      "#dog\\2021-09-30_02-13-01_UTC.jpg [Holi 👽 • #bigpuppy #happydog …] json \n",
      "[275/900] \n",
      "HTTP redirect from https://www.instagram.com/graphql/query to https://www.instagram.com/accounts/login/\n",
      "[276/900] "
     ]
    },
    {
     "name": "stderr",
     "output_type": "stream",
     "text": [
      "Download <Post CUbbe9pldFe> of #dog: Redirected to login page. Use --login.\n"
     ]
    },
    {
     "name": "stdout",
     "output_type": "stream",
     "text": [
      "#dog\\2021-09-30_02-13-00_UTC.jpg [#dog #dogsofinstagram #dogs #…] json \n",
      "[277/900] \n",
      "HTTP redirect from https://www.instagram.com/graphql/query to https://www.instagram.com/accounts/login/\n",
      "[278/900] #dog\\2021-09-30_02-13-00_UTC.jpg exists [#dog #dogsofinstagram #dogs #…] updated [Da janela do meu quarto 🤗 . .…] json \n",
      "[279/900] "
     ]
    },
    {
     "name": "stderr",
     "output_type": "stream",
     "text": [
      "Download <Post CUbbe4Hlrk9> of #dog: Redirected to login page. Use --login.\n"
     ]
    },
    {
     "name": "stdout",
     "output_type": "stream",
     "text": [
      "#dog\\2021-09-30_02-12-59_UTC.jpg [@yumemo_life さんのところでつくっていただきま…] json \n",
      "[280/900] #dog\\2021-09-30_02-12-55_UTC.jpg [DOGECOIN IS THE BEST INVESTME…] json \n",
      "[281/900] #dog\\2021-09-30_02-12-55_UTC.jpg exists [DOGECOIN IS THE BEST INVESTME…] updated [Hey you. Yeah you! Have yours…] json \n",
      "[282/900] #dog\\2021-09-30_02-12-37_UTC.jpg [주사도 맞고 발꼬랑 털이랑 발톱도 정리하고 의사선생님…] json \n",
      "[283/900] #dog\\2021-09-30_02-12-21_UTC.jpg [🤍🖤 #furbaby #thursday] json \n",
      "[284/900] \n",
      "HTTP redirect from https://www.instagram.com/graphql/query to https://www.instagram.com/accounts/login/\n",
      "[285/900] "
     ]
    },
    {
     "name": "stderr",
     "output_type": "stream",
     "text": [
      "Download <Post CUbbaFuJcf3> of #dog: Redirected to login page. Use --login.\n"
     ]
    },
    {
     "name": "stdout",
     "output_type": "stream",
     "text": [
      "\n",
      "HTTP redirect from https://www.instagram.com/graphql/query to https://www.instagram.com/accounts/login/\n",
      "[286/900] "
     ]
    },
    {
     "name": "stderr",
     "output_type": "stream",
     "text": [
      "Download <Post CUbbYjBpCKb> of #dog: Redirected to login page. Use --login.\n"
     ]
    },
    {
     "name": "stdout",
     "output_type": "stream",
     "text": [
      "\n",
      "HTTP redirect from https://www.instagram.com/graphql/query to https://www.instagram.com/accounts/login/\n",
      "[287/900] "
     ]
    },
    {
     "name": "stderr",
     "output_type": "stream",
     "text": [
      "Download <Post CUbbYAFlnZu> of #dog: Redirected to login page. Use --login.\n"
     ]
    },
    {
     "name": "stdout",
     "output_type": "stream",
     "text": [
      "#dog\\2021-09-30_02-11-21_UTC.jpg [Mom and I took a drive to loo…] json \n",
      "[288/900] \n",
      "HTTP redirect from https://www.instagram.com/graphql/query to https://www.instagram.com/accounts/login/\n",
      "[289/900] "
     ]
    },
    {
     "name": "stderr",
     "output_type": "stream",
     "text": [
      "Download <Post CUbbHdIPKDo> of #dog: Redirected to login page. Use --login.\n"
     ]
    },
    {
     "name": "stdout",
     "output_type": "stream",
     "text": [
      "#dog\\2021-09-30_02-08-31_UTC.jpg [😺🐶 - |貓狗| 也許貓跟狗在一起最能互補了。 - #情…] json \n",
      "[290/900] #dog\\2021-09-30_02-12-59_UTC.jpg exists [@yumemo_life さんのところでつくっていただきま…] updated [犬の散歩へ #dog  #cats] json \n",
      "[291/900] \n",
      "HTTP redirect from https://www.instagram.com/graphql/query to https://www.instagram.com/accounts/login/\n",
      "[292/900] "
     ]
    },
    {
     "name": "stderr",
     "output_type": "stream",
     "text": [
      "Download <Post CUbbecSphHE> of #dog: Redirected to login page. Use --login.\n"
     ]
    },
    {
     "name": "stdout",
     "output_type": "stream",
     "text": [
      "\n",
      "HTTP redirect from https://www.instagram.com/graphql/query to https://www.instagram.com/accounts/login/\n",
      "[293/900] "
     ]
    },
    {
     "name": "stderr",
     "output_type": "stream",
     "text": [
      "Download <Post CUbbeMaPXU0> of #dog: Redirected to login page. Use --login.\n"
     ]
    },
    {
     "name": "stdout",
     "output_type": "stream",
     "text": [
      "\n",
      "HTTP redirect from https://www.instagram.com/graphql/query to https://www.instagram.com/accounts/login/\n",
      "[294/900] #dog\\2021-09-30_02-12-49_UTC.jpg "
     ]
    },
    {
     "name": "stderr",
     "output_type": "stream",
     "text": [
      "Download <Post CUbbduaFyV5> of #dog: Redirected to login page. Use --login.\n"
     ]
    },
    {
     "name": "stdout",
     "output_type": "stream",
     "text": [
      "[#suburbian52#new#art #nft #20…] json \n",
      "[295/900] \n",
      "HTTP redirect from https://www.instagram.com/graphql/query to https://www.instagram.com/accounts/login/\n",
      "[296/900] "
     ]
    },
    {
     "name": "stderr",
     "output_type": "stream",
     "text": [
      "Download <Post CUbbddljpFX> of #dog: Redirected to login page. Use --login.\n"
     ]
    },
    {
     "name": "stdout",
     "output_type": "stream",
     "text": [
      "#dog\\2021-09-30_02-12-48_UTC.jpg [Aquí con mis regalones   #dod…] json \n",
      "[297/900] \n",
      "HTTP redirect from https://www.instagram.com/graphql/query to https://www.instagram.com/accounts/login/\n",
      "[298/900] "
     ]
    },
    {
     "name": "stderr",
     "output_type": "stream",
     "text": [
      "Download <Post CUbbdGGJR1r> of #dog: Redirected to login page. Use --login.\n"
     ]
    },
    {
     "name": "stdout",
     "output_type": "stream",
     "text": [
      "#dog\\2021-09-30_02-12-43_UTC.jpg [Howler Art! #dog #dogsofinsta…] json \n",
      "[299/900] \n",
      "HTTP redirect from https://www.instagram.com/graphql/query to https://www.instagram.com/accounts/login/\n",
      "[300/900] "
     ]
    },
    {
     "name": "stderr",
     "output_type": "stream",
     "text": [
      "Download <Post CUbbcy4p2zQ> of #dog: Redirected to login page. Use --login.\n"
     ]
    },
    {
     "name": "stdout",
     "output_type": "stream",
     "text": [
      "\n",
      "HTTP redirect from https://www.instagram.com/graphql/query to https://www.instagram.com/accounts/login/\n",
      "[301/900] "
     ]
    },
    {
     "name": "stderr",
     "output_type": "stream",
     "text": [
      "Download <Post CUbbcZRlb9-> of #dog: Redirected to login page. Use --login.\n"
     ]
    },
    {
     "name": "stdout",
     "output_type": "stream",
     "text": [
      "#dog\\2021-09-30_02-12-38_UTC.jpg [Drake - #shitpost #funnyvideo…] json \n",
      "[302/900] \n",
      "HTTP redirect from https://www.instagram.com/graphql/query to https://www.instagram.com/accounts/login/\n",
      "[303/900] #dog\\2021-09-30_02-12-37_UTC.jpg exists [주사도 맞고 발꼬랑 털이랑 발톱도 정리하고 의사선생님…] updated [#dog #dogfunny #goldenretriev…] json \n",
      "[304/900] "
     ]
    },
    {
     "name": "stderr",
     "output_type": "stream",
     "text": [
      "Download <Post CUbbcMOFnu4> of #dog: Redirected to login page. Use --login.\n"
     ]
    },
    {
     "name": "stdout",
     "output_type": "stream",
     "text": [
      "\n",
      "HTTP redirect from https://www.instagram.com/graphql/query to https://www.instagram.com/accounts/login/\n",
      "[305/900] "
     ]
    },
    {
     "name": "stderr",
     "output_type": "stream",
     "text": [
      "Download <Post CUbbcH3v7Jm> of #dog: Redirected to login page. Use --login.\n"
     ]
    },
    {
     "name": "stdout",
     "output_type": "stream",
     "text": [
      "#dog\\2021-09-30_02-12-34_UTC.jpg [One one wants🤳 @cinnamon.the.…] json \n",
      "[306/900] #dog\\2021-09-30_02-12-34_UTC.jpg exists [One one wants🤳 @cinnamon.the.…] updated [Well this one is her favorite…] json \n",
      "[307/900] #dog\\2021-09-30_02-12-27_UTC.jpg [Một nụ cười bằng mười thang t…] json \n",
      "[308/900] \n",
      "HTTP redirect from https://www.instagram.com/graphql/query to https://www.instagram.com/accounts/login/\n",
      "[309/900] "
     ]
    },
    {
     "name": "stderr",
     "output_type": "stream",
     "text": [
      "Download <Post CUbbac6pJna> of #dog: Redirected to login page. Use --login.\n"
     ]
    },
    {
     "name": "stdout",
     "output_type": "stream",
     "text": [
      "#dog\\2021-09-30_02-12-23_UTC.jpg [@snigdha__a___bora 💗💖💗💖💖💖💗💖💗💗…] json \n",
      "[310/900] #dog\\2021-09-30_02-12-23_UTC.jpg exists [@snigdha__a___bora 💗💖💗💖💖💖💗💖💗💗…] updated [This fall floral 😍🤤🍁 in usual…] json \n",
      "[311/900] #dog\\2021-09-30_02-12-22_UTC.jpg [Mi humana me hizo esta player…] json \n",
      "[312/900] #dog\\2021-09-30_02-12-21_UTC.jpg exists [🤍🖤 #furbaby #thursday] updated [Oh hi…. #schnauzer #schnauzer…] json \n",
      "[313/900] \n",
      "HTTP redirect from https://www.instagram.com/graphql/query to https://www.instagram.com/accounts/login/\n",
      "[314/900] "
     ]
    },
    {
     "name": "stderr",
     "output_type": "stream",
     "text": [
      "Download <Post CUbbaBVJ-_z> of #dog: Redirected to login page. Use --login.\n"
     ]
    },
    {
     "name": "stdout",
     "output_type": "stream",
     "text": [
      "#dog\\2021-09-30_02-12-18_UTC.jpg [I wouldn’t know 🤠- #shitpost …] json \n",
      "[315/900] #dog\\2021-09-30_02-12-18_UTC.jpg exists [I wouldn’t know 🤠- #shitpost …] updated [Give us your best caption for…] json \n",
      "[316/900] #dog\\2021-09-30_02-12-16_UTC.jpg [Vean a la hija de cerbero, la…] json \n",
      "[317/900] #dog\\2021-09-30_02-12-15_UTC.jpg [I love a fresh cut grass and …] json \n",
      "[318/900] \n",
      "HTTP redirect from https://www.instagram.com/graphql/query to https://www.instagram.com/accounts/login/\n",
      "[319/900] "
     ]
    },
    {
     "name": "stderr",
     "output_type": "stream",
     "text": [
      "Download <Post CUbbY7JplxA> of #dog: Redirected to login page. Use --login.\n"
     ]
    },
    {
     "name": "stdout",
     "output_type": "stream",
     "text": [
      "#dog\\2021-09-30_02-12-08_UTC.jpg [Me and my Marketplace chair #…] json \n",
      "[320/900] #dog\\2021-09-30_02-12-06_UTC.jpg [~dogue~ . . . . . . #dog #dog…] json \n",
      "[321/900] \n",
      "HTTP redirect from https://www.instagram.com/graphql/query to https://www.instagram.com/accounts/login/\n",
      "[322/900] "
     ]
    },
    {
     "name": "stderr",
     "output_type": "stream",
     "text": [
      "Download <Post CUbbYCvvVgR> of #dog: Redirected to login page. Use --login.\n"
     ]
    },
    {
     "name": "stdout",
     "output_type": "stream",
     "text": [
      "#dog\\2021-09-30_02-12-03_UTC.jpg [Hanging out with dad. #golden…] json \n",
      "[323/900] #dog\\2021-09-30_02-12-01_UTC.jpg [パパの出張がのびて昨日帰ってこなかったし 今朝は雨だしテン…] json \n",
      "[324/900] \n",
      "HTTP redirect from https://www.instagram.com/graphql/query to https://www.instagram.com/accounts/login/\n",
      "[325/900] "
     ]
    },
    {
     "name": "stderr",
     "output_type": "stream",
     "text": [
      "Download <Post CUbbXjTBve0> of #dog: Redirected to login page. Use --login.\n"
     ]
    },
    {
     "name": "stdout",
     "output_type": "stream",
     "text": [
      "#dog\\2021-09-30_02-11-54_UTC.jpg [🐔 🍖 🐟 💤 😴   #maltese #maltese…] json \n",
      "[326/900] #dog\\2021-09-30_02-11-52_UTC.jpg [Milmk is life 🍼🐶 may baon na …] json \n",
      "[327/900] #dog\\2021-09-30_02-11-52_UTC.jpg exists [Milmk is life 🍼🐶 may baon na …] updated [A year ago🌅🐶 . . . #sunnytheg…] json \n",
      "[328/900] #dog\\2021-09-30_02-11-50_UTC.jpg [Emmie.  #Dog  #Perfect #TheBest] json \n",
      "[329/900] \n",
      "HTTP redirect from https://www.instagram.com/graphql/query to https://www.instagram.com/accounts/login/\n",
      "[330/900] "
     ]
    },
    {
     "name": "stderr",
     "output_type": "stream",
     "text": [
      "Download <Post CUbbWSPlQhH> of #dog: Redirected to login page. Use --login.\n"
     ]
    },
    {
     "name": "stdout",
     "output_type": "stream",
     "text": [
      "#dog\\2021-09-30_02-11-49_UTC.jpg [「♡」  그리고 당신은 모든 것에도 불구하고 계속  …] json \n",
      "[331/900] #dog\\2021-09-30_02-11-48_UTC.jpg [😛😛😛  #westielovers #westies #…] json \n",
      "[332/900] \n",
      "HTTP redirect from https://www.instagram.com/graphql/query to https://www.instagram.com/accounts/login/\n",
      "[333/900] "
     ]
    },
    {
     "name": "stderr",
     "output_type": "stream",
     "text": [
      "Download <Post CUbbWB2BlDg> of #dog: Redirected to login page. Use --login.\n"
     ]
    },
    {
     "name": "stdout",
     "output_type": "stream",
     "text": [
      "#dog\\2021-09-30_02-11-47_UTC.jpg [La Cascada de Vieiros #Galici…] json \n",
      "[334/900] #dog\\2021-09-30_02-11-47_UTC.jpg exists [La Cascada de Vieiros #Galici…] updated [I talk a lot about our time o…] json \n",
      "[335/900] #dog\\2021-09-30_02-11-46_UTC.jpg [Branching out… 🍎🐾  #wednesday…] json \n",
      "[336/900] #dog\\2021-09-30_02-11-46_UTC.jpg exists [Branching out… 🍎🐾  #wednesday…] updated [💖💖💖Martin💖💖💖  Peluquería Cani…] json \n",
      "[337/900] \n",
      "HTTP redirect from https://www.instagram.com/graphql/query to https://www.instagram.com/accounts/login/\n",
      "[338/900] "
     ]
    },
    {
     "name": "stderr",
     "output_type": "stream",
     "text": [
      "Download <Post CUbbVnlPOjC> of #dog: Redirected to login page. Use --login.\n"
     ]
    },
    {
     "name": "stdout",
     "output_type": "stream",
     "text": [
      "#dog\\2021-09-30_02-11-43_UTC.jpg [8weeks vs 11 weeks and a new …] json \n",
      "[339/900] #dog\\2021-09-30_02-11-43_UTC.jpg exists [8weeks vs 11 weeks and a new …] updated [병원에서 또 살빼라고해따.... . . . . . #…] json \n",
      "[340/900] #dog\\2021-09-30_02-11-41_UTC.jpg [Third leg🍄 - #shitpost #funny…] json \n",
      "[341/900] #dog\\2021-09-30_02-11-41_UTC.jpg exists [Third leg🍄 - #shitpost #funny…] updated [Fall Mood!🍁 🎃 🌻   Follow 🐾💕 @…] json \n",
      "[342/900] #dog\\2021-09-30_02-11-41_UTC.jpg exists [Fall Mood!🍁 🎃 🌻   Follow 🐾💕 @…] updated [ときどき見かけるこの、ちっちゃいカミカミは何なんだろう？ …] \n",
      "HTTP redirect from https://www.instagram.com/graphql/query to https://www.instagram.com/accounts/login/\n",
      "[343/900] "
     ]
    },
    {
     "name": "stderr",
     "output_type": "stream",
     "text": [
      "Download <Post CUbbNLiDKPf> of #dog: Redirected to login page. Use --login.\n"
     ]
    },
    {
     "name": "stdout",
     "output_type": "stream",
     "text": [
      "#dog\\2021-09-30_02-11-38_UTC.jpg [♥️🐾 NeGro&NieBla  . . . . #do…] json \n",
      "[344/900] \n",
      "HTTP redirect from https://www.instagram.com/graphql/query to https://www.instagram.com/accounts/login/\n",
      "[345/900] "
     ]
    },
    {
     "name": "stderr",
     "output_type": "stream",
     "text": [
      "Download <Post CUbbUxAhNuF> of #dog: Redirected to login page. Use --login.\n"
     ]
    },
    {
     "name": "stdout",
     "output_type": "stream",
     "text": [
      "#dog\\2021-09-30_02-11-35_UTC.jpg [♠️♥️♣️♦️ - ♟♟♟♟ - Few puppies…] \n",
      "HTTP redirect from https://www.instagram.com/graphql/query to https://www.instagram.com/accounts/login/\n",
      "[346/900] "
     ]
    },
    {
     "name": "stderr",
     "output_type": "stream",
     "text": [
      "Download <Post CUbbKx4FUZF> of #dog: Redirected to login page. Use --login.\n"
     ]
    },
    {
     "name": "stdout",
     "output_type": "stream",
     "text": [
      "\n",
      "HTTP redirect from https://www.instagram.com/graphql/query to https://www.instagram.com/accounts/login/\n",
      "[347/900] "
     ]
    },
    {
     "name": "stderr",
     "output_type": "stream",
     "text": [
      "Download <Post CUbbUf5s-Nq> of #dog: Redirected to login page. Use --login.\n"
     ]
    },
    {
     "name": "stdout",
     "output_type": "stream",
     "text": [
      "\n",
      "HTTP redirect from https://www.instagram.com/graphql/query to https://www.instagram.com/accounts/login/\n",
      "[348/900] "
     ]
    },
    {
     "name": "stderr",
     "output_type": "stream",
     "text": [
      "Download <Post CUbbTc7sG3F> of #dog: Redirected to login page. Use --login.\n"
     ]
    },
    {
     "name": "stdout",
     "output_type": "stream",
     "text": [
      "#dog\\2021-09-30_02-11-16_UTC.jpg [ピーターの隠れ家に牧草入れたらたいへんなことになりました😂…] json \n",
      "[349/900] #dog\\2021-09-30_02-11-13_UTC.jpg [La Cascada de Vieiros #Galici…] json \n",
      "[350/900] #dog\\2021-09-30_02-09-46_UTC.jpg [Send this hand puppet to your…] json \n",
      "[351/900] \n",
      "HTTP redirect from https://www.instagram.com/graphql/query to https://www.instagram.com/accounts/login/\n"
     ]
    },
    {
     "name": "stderr",
     "output_type": "stream",
     "text": [
      "Download <Post CUbNNL_PoEZ> of #dog: Redirected to login page. Use --login.\n"
     ]
    },
    {
     "name": "stdout",
     "output_type": "stream",
     "text": [
      "[352/900] \n",
      "HTTP redirect from https://www.instagram.com/graphql/query to https://www.instagram.com/accounts/login/\n",
      "[353/900] "
     ]
    },
    {
     "name": "stderr",
     "output_type": "stream",
     "text": [
      "Download <Post CUbbUWvjxuT> of #dog: Redirected to login page. Use --login.\n"
     ]
    },
    {
     "name": "stdout",
     "output_type": "stream",
     "text": [
      "#dog\\2021-09-30_02-11-30_UTC.jpg [The #littledogsquad hung out …] json \n",
      "[354/900] \n",
      "HTTP redirect from https://www.instagram.com/graphql/query to https://www.instagram.com/accounts/login/\n",
      "[355/900] "
     ]
    },
    {
     "name": "stderr",
     "output_type": "stream",
     "text": [
      "Download <Post CUbbT4Tve6g> of #dog: Redirected to login page. Use --login.\n"
     ]
    },
    {
     "name": "stdout",
     "output_type": "stream",
     "text": [
      "#dog\\2021-09-30_02-11-27_UTC.jpg [Paw to paw.  #cuteness #great…] json \n",
      "[356/900] #dog\\2021-09-30_02-11-27_UTC.jpg exists [Paw to paw.  #cuteness #great…] updated [#oldeenglishbulldogge #bulldo…] json \n",
      "[357/900] #dog\\2021-09-30_02-11-26_UTC.jpg [Let’s go Brie!! . . . . . . .…] \n",
      "HTTP redirect from https://www.instagram.com/graphql/query to https://www.instagram.com/accounts/login/\n",
      "[358/900] "
     ]
    },
    {
     "name": "stderr",
     "output_type": "stream",
     "text": [
      "Download <Post CUba0PIJnwH> of #dog: Redirected to login page. Use --login.\n"
     ]
    },
    {
     "name": "stdout",
     "output_type": "stream",
     "text": [
      "\n",
      "HTTP redirect from https://www.instagram.com/graphql/query to https://www.instagram.com/accounts/login/\n",
      "[359/900] "
     ]
    },
    {
     "name": "stderr",
     "output_type": "stream",
     "text": [
      "Download <Post CUbbTMHPo_R> of #dog: Redirected to login page. Use --login.\n"
     ]
    },
    {
     "name": "stdout",
     "output_type": "stream",
     "text": [
      "#dog\\2021-09-30_02-11-23_UTC.jpg [Today, I’m wearing @colourpop…] json \n",
      "[360/900] #dog\\2021-09-30_02-11-22_UTC.jpg [I am literally a goddess - #s…] json \n",
      "[361/900] #dog\\2021-09-30_02-11-18_UTC.jpg [Posted @withregram • @vplanet…] json \n",
      "[362/900] #dog\\2021-09-30_02-11-16_UTC.jpg exists [ピーターの隠れ家に牧草入れたらたいへんなことになりました😂…] updated [🐻😈 . . #dog #doglife #doglove…] json \n",
      "[363/900] #dog\\2021-09-30_02-11-15_UTC.jpg [Big ears don’t care #cutedogs…] json \n",
      "[364/900] \n",
      "HTTP redirect from https://www.instagram.com/graphql/query to https://www.instagram.com/accounts/login/\n",
      "[365/900] "
     ]
    },
    {
     "name": "stderr",
     "output_type": "stream",
     "text": [
      "Download <Post CUbbR7fhE0J> of #dog: Redirected to login page. Use --login.\n"
     ]
    },
    {
     "name": "stdout",
     "output_type": "stream",
     "text": [
      "#dog\\2021-09-30_02-11-11_UTC.jpg [#Repost @fundaproba ... ¡Aním…] json \n",
      "[366/900] \n",
      "HTTP redirect from https://www.instagram.com/graphql/query to https://www.instagram.com/accounts/login/\n",
      "[367/900] "
     ]
    },
    {
     "name": "stderr",
     "output_type": "stream",
     "text": [
      "Download <Post CUbbRq2p8Wa> of #dog: Redirected to login page. Use --login.\n"
     ]
    },
    {
     "name": "stdout",
     "output_type": "stream",
     "text": [
      "#dog\\2021-09-30_02-11-04_UTC.jpg [Did you know that dogs drink …] \n",
      "HTTP redirect from https://www.instagram.com/graphql/query to https://www.instagram.com/accounts/login/\n",
      "[368/900] "
     ]
    },
    {
     "name": "stderr",
     "output_type": "stream",
     "text": [
      "Download <Post CUbbDc4BNt1> of #dog: Redirected to login page. Use --login.\n"
     ]
    },
    {
     "name": "stdout",
     "output_type": "stream",
     "text": [
      "\n",
      "HTTP redirect from https://www.instagram.com/graphql/query to https://www.instagram.com/accounts/login/\n",
      "[369/900] "
     ]
    },
    {
     "name": "stderr",
     "output_type": "stream",
     "text": [
      "Download <Post CUbbQoiJKBQ> of #dog: Redirected to login page. Use --login.\n"
     ]
    },
    {
     "name": "stdout",
     "output_type": "stream",
     "text": [
      "#dog\\2021-09-30_02-11-03_UTC.jpg [Why is he so hot 💀🥰- #shitpos…] json \n",
      "[370/900] #dog\\2021-09-30_02-11-01_UTC.jpg [..💤 . . . . #wakanda #dog #po…] json \n",
      "[371/900] #dog\\2021-09-30_02-11-01_UTC.jpg exists [..💤 . . . . #wakanda #dog #po…] updated [Just a dog and his Monkey 🐒 ❤…] json \n",
      "[372/900] #dog\\2021-09-30_02-10-58_UTC.jpg [😃 ❤️ ------------------------…] json \n",
      "[373/900] \n",
      "HTTP redirect from https://www.instagram.com/graphql/query to https://www.instagram.com/accounts/login/\n",
      "[374/900] "
     ]
    },
    {
     "name": "stderr",
     "output_type": "stream",
     "text": [
      "Download <Post CUbbPwrBywx> of #dog: Redirected to login page. Use --login.\n"
     ]
    },
    {
     "name": "stdout",
     "output_type": "stream",
     "text": [
      "#dog\\2021-09-30_02-10-55_UTC.jpg [🤪📸 • • • •  #puppy #jackrusse…] json \n",
      "[375/900] \n",
      "HTTP redirect from https://www.instagram.com/graphql/query to https://www.instagram.com/accounts/login/\n",
      "[376/900] "
     ]
    },
    {
     "name": "stderr",
     "output_type": "stream",
     "text": [
      "Download <Post CUbbPL2rJfl> of #dog: Redirected to login page. Use --login.\n"
     ]
    },
    {
     "name": "stdout",
     "output_type": "stream",
     "text": [
      "#dog\\2021-09-30_02-10-51_UTC.jpg [Helo. I’m Taco. This was my f…] json \n",
      "[377/900] #dog\\2021-09-30_02-10-49_UTC.jpg [できた〜！ このあと盛大に喜び…もとい、褒めてあげました。…] \n",
      "HTTP redirect from https://www.instagram.com/graphql/query to https://www.instagram.com/accounts/login/\n",
      "[378/900] "
     ]
    },
    {
     "name": "stderr",
     "output_type": "stream",
     "text": [
      "Download <Post CUbbNeCg-ZK> of #dog: Redirected to login page. Use --login.\n"
     ]
    },
    {
     "name": "stdout",
     "output_type": "stream",
     "text": [
      "\n",
      "HTTP redirect from https://www.instagram.com/graphql/query to https://www.instagram.com/accounts/login/\n",
      "[379/900] "
     ]
    },
    {
     "name": "stderr",
     "output_type": "stream",
     "text": [
      "Download <Post CUbbOpbpbwb> of #dog: Redirected to login page. Use --login.\n"
     ]
    },
    {
     "name": "stdout",
     "output_type": "stream",
     "text": [
      "\n",
      "HTTP redirect from https://www.instagram.com/graphql/query to https://www.instagram.com/accounts/login/\n",
      "[380/900] "
     ]
    },
    {
     "name": "stderr",
     "output_type": "stream",
     "text": [
      "Download <Post CUbbOnNLQXS> of #dog: Redirected to login page. Use --login.\n"
     ]
    },
    {
     "name": "stdout",
     "output_type": "stream",
     "text": [
      "#dog\\2021-09-30_02-10-46_UTC.jpg [My dog is the best #petportra…] json \n",
      "[381/900] #dog\\2021-09-30_02-10-44_UTC.jpg [A vicious cycle - #shitpost #…] json \n",
      "[382/900] #dog\\2021-09-30_02-10-43_UTC.jpg [Posted @withregram • @vplanet…] json \n",
      " If you don’t know how to …] 10-40_UTC.jpg [__json \n",
      "[384/900] \n",
      "HTTP redirect from https://www.instagram.com/graphql/query to https://www.instagram.com/accounts/login/\n",
      "[385/900] "
     ]
    },
    {
     "name": "stderr",
     "output_type": "stream",
     "text": [
      "Download <Post CUbbN5TtssF> of #dog: Redirected to login page. Use --login.\n"
     ]
    },
    {
     "name": "stdout",
     "output_type": "stream",
     "text": [
      "\n",
      "HTTP redirect from https://www.instagram.com/graphql/query to https://www.instagram.com/accounts/login/\n",
      "[386/900] "
     ]
    },
    {
     "name": "stderr",
     "output_type": "stream",
     "text": [
      "Download <Post CUbbN0PPxEu> of #dog: Redirected to login page. Use --login.\n"
     ]
    },
    {
     "name": "stdout",
     "output_type": "stream",
     "text": [
      "\n",
      "HTTP redirect from https://www.instagram.com/graphql/query to https://www.instagram.com/accounts/login/\n",
      "[387/900] "
     ]
    },
    {
     "name": "stderr",
     "output_type": "stream",
     "text": [
      "Download <Post CUbbNsajN6M> of #dog: Redirected to login page. Use --login.\n"
     ]
    },
    {
     "name": "stdout",
     "output_type": "stream",
     "text": [
      "#dog\\2021-09-30_02-10-37_UTC.jpg [I LOVE camburcito 🍌 so my mom…] \n",
      "HTTP redirect from https://www.instagram.com/graphql/query to https://www.instagram.com/accounts/login/\n",
      "[388/900] "
     ]
    },
    {
     "name": "stderr",
     "output_type": "stream",
     "text": [
      "Download <Post CUbbLSkDVSP> of #dog: Redirected to login page. Use --login.\n"
     ]
    },
    {
     "name": "stdout",
     "output_type": "stream",
     "text": [
      "#dog\\2021-09-30_02-10-35_UTC.jpg [Say YES please?🥰  #dogmemes #…] json \n",
      "[389/900] #dog\\2021-09-30_02-10-30_UTC.jpg [Sabias que esta máquina nos a…] \n",
      "HTTP redirect from https://www.instagram.com/graphql/query to https://www.instagram.com/accounts/login/\n",
      "[390/900] "
     ]
    },
    {
     "name": "stderr",
     "output_type": "stream",
     "text": [
      "Download <Post CUbbJkVDot7> of #dog: Redirected to login page. Use --login.\n"
     ]
    },
    {
     "name": "stdout",
     "output_type": "stream",
     "text": [
      "#dog\\2021-09-30_02-10-27_UTC.jpg [Available #merle #dogsofinsta…] json \n",
      "[391/900] \n",
      "HTTP redirect from https://www.instagram.com/graphql/query to https://www.instagram.com/accounts/login/\n",
      "[392/900] "
     ]
    },
    {
     "name": "stderr",
     "output_type": "stream",
     "text": [
      "Download <Post CUbbMN_JYoG> of #dog: Redirected to login page. Use --login.\n"
     ]
    },
    {
     "name": "stdout",
     "output_type": "stream",
     "text": [
      "#dog\\2021-09-30_02-10-25_UTC.jpg [Tudo por essa Língua roxa 💜  …] json \n",
      "[393/900] #dog\\2021-09-30_02-10-21_UTC.jpg [For all of you weirdos that d…] json \n",
      "[394/900] \n",
      "HTTP redirect from https://www.instagram.com/graphql/query to https://www.instagram.com/accounts/login/\n",
      "[395/900] "
     ]
    },
    {
     "name": "stderr",
     "output_type": "stream",
     "text": [
      "Download <Post CUbbLcmpu2w> of #dog: Redirected to login page. Use --login.\n"
     ]
    },
    {
     "name": "stdout",
     "output_type": "stream",
     "text": [
      "\n",
      "HTTP redirect from https://www.instagram.com/graphql/query to https://www.instagram.com/accounts/login/\n",
      "[396/900] "
     ]
    },
    {
     "name": "stderr",
     "output_type": "stream",
     "text": [
      "Download <Post CUbbLWWpBty> of #dog: Redirected to login page. Use --login.\n"
     ]
    },
    {
     "name": "stdout",
     "output_type": "stream",
     "text": [
      "#dog\\2021-09-30_02-10-19_UTC.jpg [Passando pela sua timeline a …] json \n",
      "[397/900] #dog\\2021-09-30_02-10-17_UTC.jpg [「スポーツの秋なので🍂ボール遊び再開しました🐶🏀」…] json \n",
      "[398/900] #dog\\2021-09-30_02-10-16_UTC.jpg [#dog #goldendoodle] json \n",
      "[399/900] #dog\\2021-09-30_02-10-14_UTC.jpg [#dogsofinstagram #beautifulgi…] json \n",
      "[400/900] #dog\\2021-09-30_02-10-14_UTC.jpg exists [#dogsofinstagram #beautifulgi…] updated [Honey Rose!  Always so excite…] json \n",
      "[401/900] \n",
      "HTTP redirect from https://www.instagram.com/graphql/query to https://www.instagram.com/accounts/login/\n",
      "[402/900] "
     ]
    },
    {
     "name": "stderr",
     "output_type": "stream",
     "text": [
      "Download <Post CUbbKlxvH1Q> of #dog: Redirected to login page. Use --login.\n"
     ]
    },
    {
     "name": "stdout",
     "output_type": "stream",
     "text": [
      "#dog\\2021-09-30_02-10-12_UTC.jpg [Quilate é definitivamente o q…] \n",
      "HTTP redirect from https://www.instagram.com/graphql/query to https://www.instagram.com/accounts/login/\n",
      "[403/900] "
     ]
    },
    {
     "name": "stderr",
     "output_type": "stream",
     "text": [
      "Download <Post CUbbIGFlWPT> of #dog: Redirected to login page. Use --login.\n"
     ]
    },
    {
     "name": "stdout",
     "output_type": "stream",
     "text": [
      "\n",
      "HTTP redirect from https://www.instagram.com/graphql/query to https://www.instagram.com/accounts/login/\n",
      "[404/900] "
     ]
    },
    {
     "name": "stderr",
     "output_type": "stream",
     "text": [
      "Download <Post CUbbKLPJyoF> of #dog: Redirected to login page. Use --login.\n"
     ]
    },
    {
     "name": "stdout",
     "output_type": "stream",
     "text": [
      "\n",
      "HTTP redirect from https://www.instagram.com/graphql/query to https://www.instagram.com/accounts/login/\n",
      "[405/900] "
     ]
    },
    {
     "name": "stderr",
     "output_type": "stream",
     "text": [
      "Download <Post CUbbJvur-08> of #dog: Redirected to login page. Use --login.\n"
     ]
    },
    {
     "name": "stdout",
     "output_type": "stream",
     "text": [
      "\n",
      "HTTP redirect from https://www.instagram.com/graphql/query to https://www.instagram.com/accounts/login/\n",
      "[406/900] "
     ]
    },
    {
     "name": "stderr",
     "output_type": "stream",
     "text": [
      "Download <Post CUbbJjxgHgC> of #dog: Redirected to login page. Use --login.\n"
     ]
    },
    {
     "name": "stdout",
     "output_type": "stream",
     "text": [
      "#dog\\2021-09-30_02-10-04_UTC.jpg [Stitch love ... who's your fa…] json \n",
      "[407/900] #dog\\2021-09-30_02-10-00_UTC.jpg [#cachorro #dog #dogs #doglove…] json \n",
      "[408/900] #dog\\2021-09-30_02-09-59_UTC.jpg [Posted @withregram • @vplanet…] json \n",
      "[409/900] #dog\\2021-09-30_02-09-58_UTC.jpg [I’m so sleepy  I fall asleep …] json \n",
      "[410/900] \n",
      "HTTP redirect from https://www.instagram.com/graphql/query to https://www.instagram.com/accounts/login/\n",
      "[411/900] "
     ]
    },
    {
     "name": "stderr",
     "output_type": "stream",
     "text": [
      "Download <Post CUbbIdWlJ7J> of #dog: Redirected to login page. Use --login.\n"
     ]
    },
    {
     "name": "stdout",
     "output_type": "stream",
     "text": [
      "\n",
      "HTTP redirect from https://www.instagram.com/graphql/query to https://www.instagram.com/accounts/login/\n",
      "[412/900] "
     ]
    },
    {
     "name": "stderr",
     "output_type": "stream",
     "text": [
      "Download <Post CUbbIiQsFDS> of #dog: Redirected to login page. Use --login.\n"
     ]
    },
    {
     "name": "stdout",
     "output_type": "stream",
     "text": [
      "\n",
      "HTTP redirect from https://www.instagram.com/graphql/query to https://www.instagram.com/accounts/login/\n",
      "[413/900] "
     ]
    },
    {
     "name": "stderr",
     "output_type": "stream",
     "text": [
      "Download <Post CUbbIawPRpw> of #dog: Redirected to login page. Use --login.\n"
     ]
    },
    {
     "name": "stdout",
     "output_type": "stream",
     "text": [
      "\n",
      "HTTP redirect from https://www.instagram.com/graphql/query to https://www.instagram.com/accounts/login/\n",
      "[414/900] "
     ]
    },
    {
     "name": "stderr",
     "output_type": "stream",
     "text": [
      "Download <Post CUbbIJKh3OR> of #dog: Redirected to login page. Use --login.\n"
     ]
    },
    {
     "name": "stdout",
     "output_type": "stream",
     "text": [
      "#dog\\2021-09-30_02-09-51_UTC.jpg [😂 #germanshepherdindia #dogs …] json \n",
      "[415/900] \n",
      "HTTP redirect from https://www.instagram.com/graphql/query to https://www.instagram.com/accounts/login/\n",
      "[416/900] "
     ]
    },
    {
     "name": "stderr",
     "output_type": "stream",
     "text": [
      "Download <Post CUbbDuRDGuN> of #dog: Redirected to login page. Use --login.\n"
     ]
    },
    {
     "name": "stdout",
     "output_type": "stream",
     "text": [
      "#dog\\2021-09-30_02-08-07_UTC.jpg [Got the shot without getting …] \n",
      "HTTP redirect from https://www.instagram.com/graphql/query to https://www.instagram.com/accounts/login/\n",
      "[417/900] "
     ]
    },
    {
     "name": "stderr",
     "output_type": "stream",
     "text": [
      "Download <Post CUbaru7lnuX> of #dog: Redirected to login page. Use --login.\n"
     ]
    },
    {
     "name": "stdout",
     "output_type": "stream",
     "text": [
      "\n",
      "HTTP redirect from https://www.instagram.com/graphql/query to https://www.instagram.com/accounts/login/\n",
      "[418/900] "
     ]
    },
    {
     "name": "stderr",
     "output_type": "stream",
     "text": [
      "Download <Post CUbYow9JMVD> of #dog: Redirected to login page. Use --login.\n"
     ]
    },
    {
     "name": "stdout",
     "output_type": "stream",
     "text": [
      "#dog\\2021-09-28_01-51-13_UTC.jpg [Doggydoodle.   #dog #animatio…] \n",
      "HTTP redirect from https://www.instagram.com/graphql/query to https://www.instagram.com/accounts/login/\n",
      "[419/900] "
     ]
    },
    {
     "name": "stderr",
     "output_type": "stream",
     "text": [
      "Download <Post CUWPX8-pmDv> of #dog: Redirected to login page. Use --login.\n"
     ]
    },
    {
     "name": "stdout",
     "output_type": "stream",
     "text": [
      "#dog\\2021-09-27_00-22-10_UTC.jpg [설탕이의 핑크 발빠닥 ,, 👣💝] json \n",
      "[420/900] \n",
      "HTTP redirect from https://www.instagram.com/graphql/query to https://www.instagram.com/accounts/login/\n",
      "[421/900] "
     ]
    },
    {
     "name": "stderr",
     "output_type": "stream",
     "text": [
      "Download <Post CUTX0JVP-Ww> of #dog: Redirected to login page. Use --login.\n"
     ]
    },
    {
     "name": "stdout",
     "output_type": "stream",
     "text": [
      "\n",
      "HTTP redirect from https://www.instagram.com/graphql/query to https://www.instagram.com/accounts/login/\n",
      "[422/900] "
     ]
    },
    {
     "name": "stderr",
     "output_type": "stream",
     "text": [
      "Download <Post CUKG9f6Lc5k> of #dog: Redirected to login page. Use --login.\n"
     ]
    },
    {
     "name": "stdout",
     "output_type": "stream",
     "text": [
      "#dog\\2021-09-22_14-49-38_UTC.jpg [댕댕펀치 !!] json \n",
      "[423/900] #dog\\2021-09-20_15-53-08_UTC.jpg [जब से पता चला की मेरी ख़ुशी मे…] json \n",
      "[424/900] #dog\\2021-09-30_02-09-54_UTC.jpg [La fuerza de voluntad depende…] json \n",
      "[425/900] #dog\\2021-09-30_02-09-53_UTC.jpg [Portrait of me and my dad’s f…] json \n",
      "[426/900] \n",
      "HTTP redirect from https://www.instagram.com/graphql/query to https://www.instagram.com/accounts/login/\n",
      "[427/900] "
     ]
    },
    {
     "name": "stderr",
     "output_type": "stream",
     "text": [
      "Download <Post CUbbH0KjLhn> of #dog: Redirected to login page. Use --login.\n"
     ]
    },
    {
     "name": "stdout",
     "output_type": "stream",
     "text": [
      "#dog\\2021-09-30_02-09-48_UTC.jpg [No ninho de mafagafo tinha fi…] \n",
      "HTTP redirect from https://www.instagram.com/graphql/query to https://www.instagram.com/accounts/login/\n",
      "[428/900] #dog\\2021-09-30_02-09-48_UTC.jpg exists [No ninho de mafagafo tinha fi…] updated [Playing with her pink Ball #y…] "
     ]
    },
    {
     "name": "stderr",
     "output_type": "stream",
     "text": [
      "Download <Post CUba9lIos92> of #dog: Redirected to login page. Use --login.\n"
     ]
    },
    {
     "name": "stdout",
     "output_type": "stream",
     "text": [
      "\n",
      "HTTP redirect from https://www.instagram.com/graphql/query to https://www.instagram.com/accounts/login/\n",
      "[429/900] "
     ]
    },
    {
     "name": "stderr",
     "output_type": "stream",
     "text": [
      "Download <Post CUbazALlMP7> of #dog: Redirected to login page. Use --login.\n"
     ]
    },
    {
     "name": "stdout",
     "output_type": "stream",
     "text": [
      "#dog\\2021-09-30_02-09-45_UTC.jpg [En casa todo es mejor . . . #…] json \n",
      "[430/900] #dog\\2021-09-30_02-09-44_UTC.jpg [#yummy#instafollow#sunset#pop…] json \n",
      "[431/900] #dog\\2021-09-30_02-09-44_UTC.jpg exists [#yummy#instafollow#sunset#pop…] updated [😌  #puppy #puppiesofinstagram…] json \n",
      "[432/900] #dog\\2021-09-30_02-09-43_UTC.jpg [Uwu 🐶❤️ . . . . #portrait #po…] json \n",
      "[433/900] #dog\\2021-09-30_02-09-43_UTC.jpg exists [Uwu 🐶❤️ . . . . #portrait #po…] updated [Hello! How are you today? 🐶🐶 …] json \n",
      "[434/900] #dog\\2021-09-30_02-09-40_UTC.jpg [Based in D.C. with big plans …] json \n",
      "[435/900] #dog\\2021-09-30_02-09-40_UTC.jpg exists [Based in D.C. with big plans …] updated [Cling Monster Cute Snoot  #do…] json \n",
      "[436/900] #dog\\2021-09-30_02-09-37_UTC.jpg [Fleas are some of the worst p…] json \n",
      "[437/900] #dog\\2021-09-30_02-09-37_UTC.jpg exists [Fleas are some of the worst p…] updated [That winning smile #podenco_p…] json \n",
      "[438/900] #dog\\2021-09-30_02-09-34_UTC.jpg [スムースなのに、寝癖😆 寝相が悪かったもんねー😝 56回目…] json \n",
      "[439/900] #dog\\2021-09-30_02-09-34_UTC.jpg exists [スムースなのに、寝癖😆 寝相が悪かったもんねー😝 56回目…] updated [Posted @withregram • @petlove…] \n",
      "HTTP redirect from https://www.instagram.com/graphql/query to https://www.instagram.com/accounts/login/\n",
      "[440/900] "
     ]
    },
    {
     "name": "stderr",
     "output_type": "stream",
     "text": [
      "Download <Post CUbbBnllQ4_> of #dog: Redirected to login page. Use --login.\n"
     ]
    },
    {
     "name": "stdout",
     "output_type": "stream",
     "text": [
      "#dog\\2021-09-30_02-09-32_UTC.jpg [Sleeeepeeee  . . . . #basseth…] json \n",
      "[441/900] \n",
      "HTTP redirect from https://www.instagram.com/graphql/query to https://www.instagram.com/accounts/login/\n",
      "[442/900] "
     ]
    },
    {
     "name": "stderr",
     "output_type": "stream",
     "text": [
      "Download <Post CUbbFCHhpeu> of #dog: Redirected to login page. Use --login.\n"
     ]
    },
    {
     "name": "stdout",
     "output_type": "stream",
     "text": [
      "#dog\\2021-09-30_02-09-27_UTC.jpg [Took a break from houses toda…] json \n",
      "[443/900] \n",
      "HTTP redirect from https://www.instagram.com/graphql/query to https://www.instagram.com/accounts/login/\n",
      "[444/900] "
     ]
    },
    {
     "name": "stderr",
     "output_type": "stream",
     "text": [
      "Download <Post CUbbEp-rr8R> of #dog: Redirected to login page. Use --login.\n"
     ]
    },
    {
     "name": "stdout",
     "output_type": "stream",
     "text": [
      "#dog\\2021-09-30_02-09-25_UTC.jpg [Lola sendo a Lola  #Dog #rott…] json \n",
      "[445/900] #dog\\2021-09-30_02-09-25_UTC.jpg exists [Lola sendo a Lola  #Dog #rott…] updated [. ペコラちゃん🐾 .  ご来店ありがとうございます😊 .…] json \n",
      "[446/900] #dog\\2021-09-30_02-09-24_UTC.jpg [* 今日は 『うちの子 記念日㊗️』 3年前 大嵐の中  …] json \n",
      "[447/900] #dog\\2021-09-30_02-09-23_UTC.jpg [Cuddles please!  #welshterrie…] json \n",
      "[448/900] \n",
      "HTTP redirect from https://www.instagram.com/graphql/query to https://www.instagram.com/accounts/login/\n",
      "[449/900] "
     ]
    },
    {
     "name": "stderr",
     "output_type": "stream",
     "text": [
      "Download <Post CUbbDx5qW0b> of #dog: Redirected to login page. Use --login.\n"
     ]
    },
    {
     "name": "stdout",
     "output_type": "stream",
     "text": [
      "#dog\\2021-09-30_02-09-16_UTC.jpg [コーギーを初めて恐竜に会わせてみたよ🐶🦖  #恐竜#din…] json \n",
      "[450/900] \n",
      "HTTP redirect from https://www.instagram.com/graphql/query to https://www.instagram.com/accounts/login/\n",
      "[451/900] "
     ]
    },
    {
     "name": "stderr",
     "output_type": "stream",
     "text": [
      "Download <Post CUbbDdRpquq> of #dog: Redirected to login page. Use --login.\n"
     ]
    },
    {
     "name": "stdout",
     "output_type": "stream",
     "text": [
      "#dog\\2021-09-30_02-09-13_UTC.jpg [#yummy#instafollow#sunset#pop…] json \n",
      "[452/900] #dog\\2021-09-30_02-09-13_UTC.jpg exists [#yummy#instafollow#sunset#pop…] updated [キョトン顔  #トイプードル #トイプードル女の子 #トイ…] json \n",
      "[453/900] #dog\\2021-09-30_02-09-11_UTC.jpg [My bedtime is at nine but I g…] json \n",
      "[454/900] #dog\\2021-09-30_02-09-10_UTC.jpg [好評の中型犬用ククサ。 ターコイズブルー×ククサ 飼い主さ…] json \n",
      "[455/900] \n",
      "HTTP redirect from https://www.instagram.com/graphql/query to https://www.instagram.com/accounts/login/\n",
      "[456/900] "
     ]
    },
    {
     "name": "stderr",
     "output_type": "stream",
     "text": [
      "Download <Post CUbbChuNlJ-> of #dog: Redirected to login page. Use --login.\n"
     ]
    },
    {
     "name": "stdout",
     "output_type": "stream",
     "text": [
      "#dog\\2021-09-30_02-09-07_UTC.jpg [꼬구마? 🐶💗 . . . #소니카메라  #pomera…] \n",
      "HTTP redirect from https://www.instagram.com/graphql/query to https://www.instagram.com/accounts/login/\n",
      "[457/900] #dog\\2021-09-30_02-09-07_UTC.jpg exists [꼬구마? 🐶💗 . . . #소니카메라  #pomera…] updated [両サイドからせめる💕 ▫️ ▫️ ▫️ ▫️ #ちわわ#チ…] "
     ]
    },
    {
     "name": "stderr",
     "output_type": "stream",
     "text": [
      "Download <Post CUba56rJJxp> of #dog: Redirected to login page. Use --login.\n"
     ]
    },
    {
     "name": "stdout",
     "output_type": "stream",
     "text": [
      "\n",
      "Too many queries in the last time. Need to wait 167 seconds, until 04:29.\n",
      "\n",
      "HTTP redirect from https://www.instagram.com/graphql/query to https://www.instagram.com/accounts/login/\n",
      "[458/900] "
     ]
    },
    {
     "name": "stderr",
     "output_type": "stream",
     "text": [
      "Download <Post CUbbA-DFiUo> of #dog: Redirected to login page. Use --login.\n"
     ]
    },
    {
     "name": "stdout",
     "output_type": "stream",
     "text": [
      "#dog\\2021-09-30_02-09-05_UTC.jpg [ゲーミングチェアに陣取るくーちゃん❤️  在宅ワーク代わり…] json \n",
      "[459/900] #dog\\2021-09-30_02-09-05_UTC.jpg exists [ゲーミングチェアに陣取るくーちゃん❤️  在宅ワーク代わり…] updated [You are a very special puppy.…] json \n",
      "[460/900] #dog\\2021-09-30_02-09-04_UTC.jpg [I love this dog.  Riley had a…] json \n",
      "[461/900] #dog\\2021-09-30_02-08-59_UTC.jpg [I can smell da weekend😁  #fre…] json \n",
      "[462/900] \n",
      "HTTP redirect from https://www.instagram.com/graphql/query to https://www.instagram.com/accounts/login/\n",
      "[463/900] "
     ]
    },
    {
     "name": "stderr",
     "output_type": "stream",
     "text": [
      "Download <Post CUbbBWJhhmm> of #dog: Redirected to login page. Use --login.\n"
     ]
    },
    {
     "name": "stdout",
     "output_type": "stream",
     "text": [
      "\n",
      "HTTP redirect from https://www.instagram.com/graphql/query to https://www.instagram.com/accounts/login/\n",
      "[464/900] #dog\\2021-09-30_02-08-57_UTC.jpg "
     ]
    },
    {
     "name": "stderr",
     "output_type": "stream",
     "text": [
      "Download <Post CUbbBV4s6gf> of #dog: Redirected to login page. Use --login.\n"
     ]
    },
    {
     "name": "stdout",
     "output_type": "stream",
     "text": [
      "[Shadows of grey  . . . #yours…] json \n",
      "[465/900] #dog\\2021-09-30_02-08-56_UTC.jpg [. 瞳AFに感動してます。 #ミニチュアダックスフンド #…] json \n",
      "[466/900] #dog\\2021-09-30_02-08-55_UTC.jpg [Cheese, please?  @barkbox #ba…] json \n",
      "[467/900] \n",
      "HTTP redirect from https://www.instagram.com/graphql/query to https://www.instagram.com/accounts/login/\n",
      "[468/900] "
     ]
    },
    {
     "name": "stderr",
     "output_type": "stream",
     "text": [
      "Download <Post CUbbAyEvCp7> of #dog: Redirected to login page. Use --login.\n"
     ]
    },
    {
     "name": "stdout",
     "output_type": "stream",
     "text": [
      "\n",
      "HTTP redirect from https://www.instagram.com/graphql/query to https://www.instagram.com/accounts/login/\n",
      "[469/900] "
     ]
    },
    {
     "name": "stderr",
     "output_type": "stream",
     "text": [
      "Download <Post CUbbAH-lJuN> of #dog: Redirected to login page. Use --login.\n"
     ]
    },
    {
     "name": "stdout",
     "output_type": "stream",
     "text": [
      "#dog\\2021-09-30_02-08-47_UTC.jpg [チャッくんのキメ顔😂  #チャックハリー #310Chuc…] json \n",
      "[470/900] #dog\\2021-09-30_02-08-46_UTC.jpg [Waiting for winter Wednesdays…] json \n",
      "[471/900] \n",
      "HTTP redirect from https://www.instagram.com/graphql/query to https://www.instagram.com/accounts/login/\n",
      "[472/900] "
     ]
    },
    {
     "name": "stderr",
     "output_type": "stream",
     "text": [
      "Download <Post CUba_qDhI3Q> of #dog: Redirected to login page. Use --login.\n"
     ]
    },
    {
     "name": "stdout",
     "output_type": "stream",
     "text": [
      "\n",
      "HTTP redirect from https://www.instagram.com/graphql/query to https://www.instagram.com/accounts/login/\n",
      "[473/900] "
     ]
    },
    {
     "name": "stderr",
     "output_type": "stream",
     "text": [
      "Download <Post CUba_Y0vQLV> of #dog: Redirected to login page. Use --login.\n"
     ]
    },
    {
     "name": "stdout",
     "output_type": "stream",
     "text": [
      "#dog\\2021-09-30_02-08-41_UTC.jpg [자기보다 큰 강아지한테도 멍멍펀치 날리는 뽀리는  만…] \n",
      "HTTP redirect from https://www.instagram.com/graphql/query to https://www.instagram.com/accounts/login/\n",
      "[474/900] #dog\\2021-09-30_02-08-41_UTC.jpg exists [자기보다 큰 강아지한테도 멍멍펀치 날리는 뽀리는  만…] updated [✌✌✌  #westielovers #westies #…] json \n",
      "[475/900] "
     ]
    },
    {
     "name": "stderr",
     "output_type": "stream",
     "text": [
      "Download <Post CUbarvBpvLg> of #dog: Redirected to login page. Use --login.\n"
     ]
    },
    {
     "name": "stdout",
     "output_type": "stream",
     "text": [
      "\n",
      "HTTP redirect from https://www.instagram.com/graphql/query to https://www.instagram.com/accounts/login/\n",
      "[476/900] "
     ]
    },
    {
     "name": "stderr",
     "output_type": "stream",
     "text": [
      "Download <Post CUba_SZru9V> of #dog: Redirected to login page. Use --login.\n"
     ]
    },
    {
     "name": "stdout",
     "output_type": "stream",
     "text": [
      "#dog\\2021-09-30_02-08-40_UTC.jpg [昨日、２回目のワクチンをうけてきたよ。  本日はパパ仕事で…] json \n",
      "[477/900] #dog\\2021-09-30_02-08-38_UTC.jpg [ff_girl_tisha143  #feelthemus…] \n",
      "HTTP redirect from https://www.instagram.com/graphql/query to https://www.instagram.com/accounts/login/\n",
      "[478/900] "
     ]
    },
    {
     "name": "stderr",
     "output_type": "stream",
     "text": [
      "Download <Post CUba58wojKC> of #dog: Redirected to login page. Use --login.\n"
     ]
    },
    {
     "name": "stdout",
     "output_type": "stream",
     "text": [
      "\n",
      "HTTP redirect from https://www.instagram.com/graphql/query to https://www.instagram.com/accounts/login/\n",
      "[479/900] "
     ]
    },
    {
     "name": "stderr",
     "output_type": "stream",
     "text": [
      "Download <Post CUba-6gvthO> of #dog: Redirected to login page. Use --login.\n"
     ]
    },
    {
     "name": "stdout",
     "output_type": "stream",
     "text": [
      "#dog\\2021-09-30_02-08-37_UTC.jpg [So stoic.   #dog #dogsofinsta…] json \n",
      "[480/900] \n",
      "HTTP redirect from https://www.instagram.com/graphql/query to https://www.instagram.com/accounts/login/\n",
      "[481/900] "
     ]
    },
    {
     "name": "stderr",
     "output_type": "stream",
     "text": [
      "Download <Post CUba-qTFHR8> of #dog: Redirected to login page. Use --login.\n"
     ]
    },
    {
     "name": "stdout",
     "output_type": "stream",
     "text": [
      "#dog\\2021-09-30_02-08-36_UTC.jpg [. 一緒に過ごせばみんな友達！  #DOGSHIP#dog…] json \n",
      "[482/900] #dog\\2021-09-30_02-08-35_UTC.jpg [Festive Lantern @taio_fei_mao…] \n",
      "HTTP redirect from https://www.instagram.com/graphql/query to https://www.instagram.com/accounts/login/\n",
      "[483/900] #dog\\2021-09-30_02-08-31_UTC.jpg exists [😺🐶 - |貓狗| 也許貓跟狗在一起最能互補了。 - #情…] updated [🐾 Cino: Walk!!! Latte: Nope..…] "
     ]
    },
    {
     "name": "stderr",
     "output_type": "stream",
     "text": [
      "Download <Post CUba9JWps2G> of #dog: Redirected to login page. Use --login.\n"
     ]
    },
    {
     "name": "stdout",
     "output_type": "stream",
     "text": [
      "\n",
      "HTTP redirect from https://www.instagram.com/graphql/query to https://www.instagram.com/accounts/login/\n",
      "[484/900] "
     ]
    },
    {
     "name": "stderr",
     "output_type": "stream",
     "text": [
      "Download <Post CUba7nigoK_> of #dog: Redirected to login page. Use --login.\n"
     ]
    },
    {
     "name": "stdout",
     "output_type": "stream",
     "text": [
      "#dog\\2021-09-30_02-08-29_UTC.jpg [#comodo  #playa #ocaso #puest…] json \n",
      "[485/900] #dog\\2021-09-30_02-08-23_UTC.jpg [The beautiful Alfie! ✨  A5 📄 …] json \n",
      "[486/900] #dog\\2021-09-30_02-08-19_UTC.jpg [ふぇ　🐶マーブル🐶  #チワワ　#ダックス　#チワックス　…] json \n",
      "[487/900] \n",
      "HTTP redirect from https://www.instagram.com/graphql/query to https://www.instagram.com/accounts/login/\n",
      "[488/900] "
     ]
    },
    {
     "name": "stderr",
     "output_type": "stream",
     "text": [
      "Download <Post CUba7PdpH4j> of #dog: Redirected to login page. Use --login.\n"
     ]
    },
    {
     "name": "stdout",
     "output_type": "stream",
     "text": [
      "#dog\\2021-09-30_02-07-44_UTC.jpg [Fall fishing 🎣  • • Bandannas…] json \n",
      "[489/900] #dog\\2021-09-30_02-07-35_UTC.jpg [모닝 산책🍎] json \n",
      "[490/900] \n",
      "HTTP redirect from https://www.instagram.com/graphql/query to https://www.instagram.com/accounts/login/\n",
      "[491/900] "
     ]
    },
    {
     "name": "stderr",
     "output_type": "stream",
     "text": [
      "Download <Post CUba2Sfv9aM> of #dog: Redirected to login page. Use --login.\n"
     ]
    },
    {
     "name": "stdout",
     "output_type": "stream",
     "text": [
      "#dog\\2021-09-30_02-07-15_UTC.jpg [🐾  人間よりお高いcutしてきましたっ とえっへんドヤ顔…] json \n",
      "[492/900] #dog\\2021-09-30_01-52-24_UTC.jpg [Gimme some things 🍖 #cosmo #c…] json \n",
      "[493/900] \n",
      "HTTP redirect from https://www.instagram.com/graphql/query to https://www.instagram.com/accounts/login/\n"
     ]
    },
    {
     "name": "stderr",
     "output_type": "stream",
     "text": [
      "Download <Post CUYqjZ-PK-R> of #dog: Redirected to login page. Use --login.\n"
     ]
    },
    {
     "name": "stdout",
     "output_type": "stream",
     "text": [
      "[494/900] #dog\\2021-09-30_02-08-29_UTC.jpg exists [#comodo  #playa #ocaso #puest…] updated [Just wants humans attention 😕…] json \n",
      "[495/900] #dog\\2021-09-30_02-08-28_UTC.jpg [Warning: Cuteness overload 😳 …] json \n",
      "[496/900] #dog\\2021-09-30_02-08-28_UTC.jpg exists [Warning: Cuteness overload 😳 …] updated [#music #pretty #beauty #vscoc…] json \n",
      "[497/900] #dog\\2021-09-30_02-08-24_UTC.jpg [Happy 🥳 #keeshond #wolfspitz …] json \n",
      "[498/900] #dog\\2021-09-30_02-08-21_UTC.jpg [:(  - - - - - - - - [tags] #c…] json \n",
      "[499/900] #dog\\2021-09-30_02-08-20_UTC.jpg [Say \"Yes\"if you a labrador  o…] json \n",
      "[500/900] #dog\\2021-09-30_02-08-20_UTC.jpg exists [Say \"Yes\"if you a labrador  o…] updated [Boswell wants a taste of best…] json \n",
      "[501/900] \n",
      "HTTP redirect from https://www.instagram.com/graphql/query to https://www.instagram.com/accounts/login/\n",
      "[502/900] #dog\\2021-09-30_02-08-19_UTC.jpg exists [ふぇ　🐶マーブル🐶  #チワワ　#ダックス　#チワックス　…] updated [Fall weather = time spent In …] json \n",
      "[503/900] "
     ]
    },
    {
     "name": "stderr",
     "output_type": "stream",
     "text": [
      "Download <Post CUba8tDJFg_> of #dog: Redirected to login page. Use --login.\n"
     ]
    },
    {
     "name": "stdout",
     "output_type": "stream",
     "text": [
      "#dog\\2021-09-30_02-08-18_UTC.jpg [#shiba#shibainu#shibadog#shib…] \n",
      "HTTP redirect from https://www.instagram.com/graphql/query to https://www.instagram.com/accounts/login/\n",
      "[504/900] "
     ]
    },
    {
     "name": "stderr",
     "output_type": "stream",
     "text": [
      "Download <Post CUba6-4j4ON> of #dog: Redirected to login page. Use --login.\n"
     ]
    },
    {
     "name": "stdout",
     "output_type": "stream",
     "text": [
      "#dog\\2021-09-30_02-08-17_UTC.jpg [Had a flat tire today.  But n…] json \n",
      "[505/900] #dog\\2021-09-30_02-08-16_UTC.jpg [Mean mug.   #dogs #dogsofinst…] json \n",
      "[506/900] #dog\\2021-09-30_02-08-16_UTC.jpg exists [Mean mug.   #dogs #dogsofinst…] updated [Mi cara después de destrozar …] json \n",
      "[507/900] \n",
      "HTTP redirect from https://www.instagram.com/graphql/query to https://www.instagram.com/accounts/login/\n",
      "[508/900] "
     ]
    },
    {
     "name": "stderr",
     "output_type": "stream",
     "text": [
      "Download <Post CUba78mMd2i> of #dog: Redirected to login page. Use --login.\n"
     ]
    },
    {
     "name": "stdout",
     "output_type": "stream",
     "text": [
      "#dog\\2021-09-30_02-08-11_UTC.jpg [Hi friends!! I’m still here! …] json \n",
      "[509/900] \n",
      "HTTP redirect from https://www.instagram.com/graphql/query to https://www.instagram.com/accounts/login/\n",
      "[510/900] "
     ]
    },
    {
     "name": "stderr",
     "output_type": "stream",
     "text": [
      "Download <Post CUba7iXsmAF> of #dog: Redirected to login page. Use --login.\n"
     ]
    },
    {
     "name": "stdout",
     "output_type": "stream",
     "text": [
      "\n",
      "HTTP redirect from https://www.instagram.com/graphql/query to https://www.instagram.com/accounts/login/\n",
      "[511/900] "
     ]
    },
    {
     "name": "stderr",
     "output_type": "stream",
     "text": [
      "Download <Post CUba7XdLe9s> of #dog: Redirected to login page. Use --login.\n"
     ]
    },
    {
     "name": "stdout",
     "output_type": "stream",
     "text": [
      "#dog\\2021-09-30_02-08-09_UTC.jpg [What brings your joy?  #hotba…] json \n",
      "[512/900] #dog\\2021-09-30_02-08-07_UTC.jpg exists [Got the shot without getting …] updated [How’s this pose? 🐶 #awkward #…] json \n",
      "[513/900] #dog\\2021-09-30_02-08-05_UTC.jpg [สุขใจ พี่เสือหายไปไหน!!! 🤣😂🐯🙏…] json \n",
      "[514/900] \n",
      "HTTP redirect from https://www.instagram.com/graphql/query to https://www.instagram.com/accounts/login/\n",
      "[515/900] "
     ]
    },
    {
     "name": "stderr",
     "output_type": "stream",
     "text": [
      "Download <Post CUba6cBPRYl> of #dog: Redirected to login page. Use --login.\n"
     ]
    },
    {
     "name": "stdout",
     "output_type": "stream",
     "text": [
      "\n",
      "HTTP redirect from https://www.instagram.com/graphql/query to https://www.instagram.com/accounts/login/\n",
      "[516/900] "
     ]
    },
    {
     "name": "stderr",
     "output_type": "stream",
     "text": [
      "Download <Post CUba5r5v2V2> of #dog: Redirected to login page. Use --login.\n"
     ]
    },
    {
     "name": "stdout",
     "output_type": "stream",
     "text": [
      "#dog\\2021-09-30_02-07-52_UTC.jpg [🧡국가에서 지정한 켄넬 강아지🧡  🧡전국 모든견종 일…] json \n",
      "[517/900] #dog\\2021-09-30_02-07-51_UTC.jpg [_____________________________…] json \n",
      "[518/900] #dog\\2021-09-30_02-07-50_UTC.jpg [These puppies can cheer on th…] json \n",
      "[519/900] #dog\\2021-09-30_02-07-48_UTC.jpg exists [HAPPY BIRTHDAY RAINBOW!!! You…] updated […pooping • • • #cute #dog #ti…] \n",
      "HTTP redirect from https://www.instagram.com/graphql/query to https://www.instagram.com/accounts/login/\n",
      "[520/900] "
     ]
    },
    {
     "name": "stderr",
     "output_type": "stream",
     "text": [
      "Download <Post CUbauBOlq94> of #dog: Redirected to login page. Use --login.\n"
     ]
    },
    {
     "name": "stdout",
     "output_type": "stream",
     "text": [
      "\n",
      "HTTP redirect from https://www.instagram.com/graphql/query to https://www.instagram.com/accounts/login/\n",
      "[521/900] "
     ]
    },
    {
     "name": "stderr",
     "output_type": "stream",
     "text": [
      "Download <Post CUba4qeh3_a> of #dog: Redirected to login page. Use --login.\n"
     ]
    },
    {
     "name": "stdout",
     "output_type": "stream",
     "text": [
      "#dog\\2021-09-30_02-07-45_UTC.jpg [Picnic boy 😎] json \n",
      "[522/900] #dog\\2021-09-30_02-07-45_UTC.jpg exists [Picnic boy 😎] updated [Hi there! My name is Bartholo…] \n",
      "HTTP redirect from https://www.instagram.com/graphql/query to https://www.instagram.com/accounts/login/\n",
      "[523/900] "
     ]
    },
    {
     "name": "stderr",
     "output_type": "stream",
     "text": [
      "Download <Post CUbav0LA_xO> of #dog: Redirected to login page. Use --login.\n"
     ]
    },
    {
     "name": "stdout",
     "output_type": "stream",
     "text": [
      "#dog\\2021-09-30_02-07-42_UTC.jpg [meow - - - - - - - - [tags] #…] json \n",
      "[524/900] \n",
      "HTTP redirect from https://www.instagram.com/graphql/query to https://www.instagram.com/accounts/login/\n",
      "[525/900] "
     ]
    },
    {
     "name": "stderr",
     "output_type": "stream",
     "text": [
      "Download <Post CUba3_5pwrt> of #dog: Redirected to login page. Use --login.\n"
     ]
    },
    {
     "name": "stdout",
     "output_type": "stream",
     "text": [
      "\n",
      "HTTP redirect from https://www.instagram.com/graphql/query to https://www.instagram.com/accounts/login/\n",
      "[526/900] "
     ]
    },
    {
     "name": "stderr",
     "output_type": "stream",
     "text": [
      "Download <Post CUba3jAlMtg> of #dog: Redirected to login page. Use --login.\n"
     ]
    },
    {
     "name": "stdout",
     "output_type": "stream",
     "text": [
      "#dog\\2021-09-30_02-07-36_UTC.jpg [Как ни крути, я хорош со всех…] json \n",
      "[527/900] #dog\\2021-09-30_02-07-35_UTC.jpg exists [모닝 산책🍎] updated [Een heele brave Duitse Herder…] \n",
      "HTTP redirect from https://www.instagram.com/graphql/query to https://www.instagram.com/accounts/login/\n",
      "[528/900] "
     ]
    },
    {
     "name": "stderr",
     "output_type": "stream",
     "text": [
      "Download <Post CUbaz3sIQ9c> of #dog: Redirected to login page. Use --login.\n"
     ]
    },
    {
     "name": "stdout",
     "output_type": "stream",
     "text": [
      "#dog\\2021-09-30_02-07-34_UTC.jpg [上手な持ち方💕 ▫️ ▫️ ▫️ #ちわわ#チワワ#dog…] \n",
      "HTTP redirect from https://www.instagram.com/graphql/query to https://www.instagram.com/accounts/login/\n",
      "[529/900] #dog\\2021-09-30_02-07-34_UTC.jpg exists [上手な持ち方💕 ▫️ ▫️ ▫️ #ちわわ#チワワ#dog…] updated [* * * 来たぁぁ〜 ♪¸¸.•*¨❤︎ *  * * …] json \n",
      "[530/900] "
     ]
    },
    {
     "name": "stderr",
     "output_type": "stream",
     "text": [
      "Download <Post CUbaztEF3v3> of #dog: Redirected to login page. Use --login.\n"
     ]
    },
    {
     "name": "stdout",
     "output_type": "stream",
     "text": [
      "\n",
      "HTTP redirect from https://www.instagram.com/graphql/query to https://www.instagram.com/accounts/login/\n",
      "[531/900] "
     ]
    },
    {
     "name": "stderr",
     "output_type": "stream",
     "text": [
      "Download <Post CUba3BZvbzC> of #dog: Redirected to login page. Use --login.\n"
     ]
    },
    {
     "name": "stdout",
     "output_type": "stream",
     "text": [
      "#dog\\2021-09-30_02-07-32_UTC.jpg [Grooming interruption 💜💙  #ca…] json \n",
      "[532/900] #dog\\2021-09-30_02-07-32_UTC.jpg exists [Grooming interruption 💜💙  #ca…] updated [treato on heado  🏷taggies #ja…] json \n",
      "[533/900] #dog\\2021-09-30_02-07-31_UTC.jpg [He just couldn't do it 😆 #fun…] \n",
      "HTTP redirect from https://www.instagram.com/graphql/query to https://www.instagram.com/accounts/login/\n",
      "[534/900] "
     ]
    },
    {
     "name": "stderr",
     "output_type": "stream",
     "text": [
      "Download <Post CUbasi8gEex> of #dog: Redirected to login page. Use --login.\n"
     ]
    },
    {
     "name": "stdout",
     "output_type": "stream",
     "text": [
      "#dog\\2021-09-30_02-07-30_UTC.jpg [A Perfect #tshirt👕👕👕 For U 😗✨…] json \n",
      "[535/900] \n",
      "HTTP redirect from https://www.instagram.com/graphql/query to https://www.instagram.com/accounts/login/\n",
      "[536/900] "
     ]
    },
    {
     "name": "stderr",
     "output_type": "stream",
     "text": [
      "Download <Post CUba2iiN6fa> of #dog: Redirected to login page. Use --login.\n"
     ]
    },
    {
     "name": "stdout",
     "output_type": "stream",
     "text": [
      "\n",
      "HTTP redirect from https://www.instagram.com/graphql/query to https://www.instagram.com/accounts/login/\n",
      "[537/900] "
     ]
    },
    {
     "name": "stderr",
     "output_type": "stream",
     "text": [
      "Download <Post CUba1-5v23b> of #dog: Redirected to login page. Use --login.\n"
     ]
    },
    {
     "name": "stdout",
     "output_type": "stream",
     "text": [
      "#dog\\2021-09-30_02-07-25_UTC.jpg [Waking up is tiring work #dog…] json \n",
      "[538/900] #dog\\2021-09-30_02-07-23_UTC.jpg [2021.09. ・ ・ ドキッ💙 ビックリしたような顔だ…] json \n",
      "[539/900] #dog\\2021-09-30_02-07-22_UTC.jpg [「Sunshine」アフリカの大地を照らすどこまでも陽気な…] json \n",
      "[540/900] #dog\\2021-09-30_02-07-21_UTC.jpg [Poppy had a good time playing…] json \n",
      "[541/900] #dog\\2021-09-30_02-07-20_UTC.jpg [앨범 뒤적거리다 귀여운 쿵이 사딘 발견  🖤🖤🖤🖤🖤🖤🖤] json \n",
      "[542/900] #dog\\2021-09-30_02-07-18_UTC.jpg [#japan  #dog#big#golden retri…] \n",
      "HTTP redirect from https://www.instagram.com/graphql/query to https://www.instagram.com/accounts/login/\n",
      "[543/900] "
     ]
    },
    {
     "name": "stderr",
     "output_type": "stream",
     "text": [
      "Download <Post CUba0PMh8gG> of #dog: Redirected to login page. Use --login.\n"
     ]
    },
    {
     "name": "stdout",
     "output_type": "stream",
     "text": [
      "\n",
      "HTTP redirect from https://www.instagram.com/graphql/query to https://www.instagram.com/accounts/login/\n",
      "[544/900] "
     ]
    },
    {
     "name": "stderr",
     "output_type": "stream",
     "text": [
      "Download <Post CUba1PHh2VU> of #dog: Redirected to login page. Use --login.\n"
     ]
    },
    {
     "name": "stdout",
     "output_type": "stream",
     "text": [
      "#dog\\2021-09-30_02-07-17_UTC.jpg [#riverdaleedit #river #dog #f…] json \n",
      "[545/900] #dog\\2021-09-30_02-07-16_UTC.jpg [Hanging on the porch! #dogsof…] json \n",
      "[546/900] #dog\\2021-09-30_02-07-16_UTC.jpg exists [Hanging on the porch! #dogsof…] updated [🤎🐶Lockdown Doggy 🐶🤎 . . . . .…] json \n",
      "[547/900] \n",
      "HTTP redirect from https://www.instagram.com/graphql/query to https://www.instagram.com/accounts/login/\n",
      "[548/900] "
     ]
    },
    {
     "name": "stderr",
     "output_type": "stream",
     "text": [
      "Download <Post CUba089PcyN> of #dog: Redirected to login page. Use --login.\n"
     ]
    },
    {
     "name": "stdout",
     "output_type": "stream",
     "text": [
      "#dog\\2021-09-30_02-07-13_UTC.jpg [Hello world, this is Frankie!…] json \n",
      "[549/900] \n",
      "HTTP redirect from https://www.instagram.com/graphql/query to https://www.instagram.com/accounts/login/\n",
      "[550/900] "
     ]
    },
    {
     "name": "stderr",
     "output_type": "stream",
     "text": [
      "Download <Post CUba0g3JjhC> of #dog: Redirected to login page. Use --login.\n"
     ]
    },
    {
     "name": "stdout",
     "output_type": "stream",
     "text": [
      "\n",
      "HTTP redirect from https://www.instagram.com/graphql/query to https://www.instagram.com/accounts/login/\n",
      "[551/900] "
     ]
    },
    {
     "name": "stderr",
     "output_type": "stream",
     "text": [
      "Download <Post CUba0fFpzGV> of #dog: Redirected to login page. Use --login.\n"
     ]
    },
    {
     "name": "stdout",
     "output_type": "stream",
     "text": [
      "\n",
      "HTTP redirect from https://www.instagram.com/graphql/query to https://www.instagram.com/accounts/login/\n",
      "[552/900] "
     ]
    },
    {
     "name": "stderr",
     "output_type": "stream",
     "text": [
      "Download <Post CUba0TqJuDZ> of #dog: Redirected to login page. Use --login.\n"
     ]
    },
    {
     "name": "stdout",
     "output_type": "stream",
     "text": [
      "\n",
      "HTTP redirect from https://www.instagram.com/graphql/query to https://www.instagram.com/accounts/login/\n",
      "[553/900] "
     ]
    },
    {
     "name": "stderr",
     "output_type": "stream",
     "text": [
      "Download <Post CUba0KTp8GB> of #dog: Redirected to login page. Use --login.\n"
     ]
    },
    {
     "name": "stdout",
     "output_type": "stream",
     "text": [
      "#dog\\2021-09-30_02-07-10_UTC.jpg [우리~~😘 우리우리 이쁜 우리😘 . . 저희 멍멍살롱…] json \n",
      "[554/900] #dog\\2021-09-30_02-07-09_UTC.jpg [Si . . . .  #instamoment #des…] json \n",
      "[555/900] #dog\\2021-09-30_02-07-07_UTC.jpg [Hey princiii🥰❣️  Follow 📸@cut…] json \n",
      "[556/900] #dog\\2021-09-30_02-07-07_UTC.jpg exists [Hey princiii🥰❣️  Follow 📸@cut…] updated [Random dog walks into my offi…] \n",
      "HTTP redirect from https://www.instagram.com/graphql/query to https://www.instagram.com/accounts/login/\n",
      "[557/900] "
     ]
    },
    {
     "name": "stderr",
     "output_type": "stream",
     "text": [
      "Download <Post CUbaj8agRZH> of #dog: Redirected to login page. Use --login.\n"
     ]
    },
    {
     "name": "stdout",
     "output_type": "stream",
     "text": [
      "#dog\\2021-09-30_02-07-06_UTC.jpg [Miloski por siempre #qro #que…] \n",
      "HTTP redirect from https://www.instagram.com/graphql/query to https://www.instagram.com/accounts/login/\n",
      "[558/900] #dog\\2021-09-30_02-05-06_UTC.jpg "
     ]
    },
    {
     "name": "stderr",
     "output_type": "stream",
     "text": [
      "Download <Post CUbapRxgzZe> of #dog: Redirected to login page. Use --login.\n"
     ]
    },
    {
     "name": "stdout",
     "output_type": "stream",
     "text": [
      "[Anyone else snuggle their bal…] json \n",
      "[559/900] \n",
      "HTTP redirect from https://www.instagram.com/graphql/query to https://www.instagram.com/accounts/login/\n",
      "[560/900] "
     ]
    },
    {
     "name": "stderr",
     "output_type": "stream",
     "text": [
      "Download <Post CUbakEiPEuF> of #dog: Redirected to login page. Use --login.\n"
     ]
    },
    {
     "name": "stdout",
     "output_type": "stream",
     "text": [
      "#dog\\2021-09-30_02-04-51_UTC.jpg json \n",
      "[561/900] #dog\\2021-09-30_01-11-21_UTC.jpg [Vem aqui pombinha que eu quer…] \n",
      "HTTP redirect from https://www.instagram.com/graphql/query to https://www.instagram.com/accounts/login/\n",
      "[562/900] "
     ]
    },
    {
     "name": "stderr",
     "output_type": "stream",
     "text": [
      "Download <Post CUbUZUsILxA> of #dog: Redirected to login page. Use --login.\n"
     ]
    },
    {
     "name": "stdout",
     "output_type": "stream",
     "text": [
      "#dog\\2021-09-29_12-51-05_UTC.jpg [네가 왜 거기서 나와] \n",
      "HTTP redirect from https://www.instagram.com/graphql/query to https://www.instagram.com/accounts/login/\n",
      "[563/900] "
     ]
    },
    {
     "name": "stderr",
     "output_type": "stream",
     "text": [
      "Download <Post CUZ_nVxp1sS> of #dog: Redirected to login page. Use --login.\n"
     ]
    },
    {
     "name": "stdout",
     "output_type": "stream",
     "text": [
      "#dog\\2021-09-29_12-49-05_UTC.jpg [쫄았개] \n",
      "HTTP redirect from https://www.instagram.com/graphql/query to https://www.instagram.com/accounts/login/\n",
      "[564/900] "
     ]
    },
    {
     "name": "stderr",
     "output_type": "stream",
     "text": [
      "Download <Post CUZ_cg5JBeL> of #dog: Redirected to login page. Use --login.\n"
     ]
    },
    {
     "name": "stdout",
     "output_type": "stream",
     "text": [
      "\n",
      "HTTP redirect from https://www.instagram.com/graphql/query to https://www.instagram.com/accounts/login/\n",
      "[565/900] "
     ]
    },
    {
     "name": "stderr",
     "output_type": "stream",
     "text": [
      "Download <Post CUY2MGcJCdE> of #dog: Redirected to login page. Use --login.\n"
     ]
    },
    {
     "name": "stdout",
     "output_type": "stream",
     "text": [
      "#dog\\2020-12-09_12-58-48_UTC.jpg [O Direito na luta pela causa …] json \n",
      "[566/900] #dog\\2021-09-30_02-07-05_UTC.jpg [Hey hooman! I’m hungry! 😁 #ti…] json \n",
      "[567/900] \n",
      "HTTP redirect from https://www.instagram.com/graphql/query to https://www.instagram.com/accounts/login/\n",
      "[568/900] "
     ]
    },
    {
     "name": "stderr",
     "output_type": "stream",
     "text": [
      "Download <Post CUbazGWBL21> of #dog: Redirected to login page. Use --login.\n"
     ]
    },
    {
     "name": "stdout",
     "output_type": "stream",
     "text": [
      "\n",
      "HTTP redirect from https://www.instagram.com/graphql/query to https://www.instagram.com/accounts/login/\n",
      "[569/900] "
     ]
    },
    {
     "name": "stderr",
     "output_type": "stream",
     "text": [
      "Download <Post CUbaybaMijw> of #dog: Redirected to login page. Use --login.\n"
     ]
    },
    {
     "name": "stdout",
     "output_type": "stream",
     "text": [
      "#dog\\2021-09-30_02-06-54_UTC.jpg [Lula...🥰🍭💖 #peluqueriacanina …] json \n",
      "[570/900] #dog\\2021-09-30_02-06-51_UTC.jpg [Hey guys:( today I went to th…] \n",
      "HTTP redirect from https://www.instagram.com/graphql/query to https://www.instagram.com/accounts/login/\n",
      "[571/900] "
     ]
    },
    {
     "name": "stderr",
     "output_type": "stream",
     "text": [
      "Download <Post CUbany7FzRF> of #dog: Redirected to login page. Use --login.\n"
     ]
    },
    {
     "name": "stdout",
     "output_type": "stream",
     "text": [
      "\n",
      "HTTP redirect from https://www.instagram.com/graphql/query to https://www.instagram.com/accounts/login/\n",
      "[572/900] "
     ]
    },
    {
     "name": "stderr",
     "output_type": "stream",
     "text": [
      "Download <Post CUbax49Pe3H> of #dog: Redirected to login page. Use --login.\n"
     ]
    },
    {
     "name": "stdout",
     "output_type": "stream",
     "text": [
      "#dog\\2021-09-30_02-06-47_UTC.jpg [Eu e eu… saudades da minha fe…] json \n",
      "[573/900] \n",
      "HTTP redirect from https://www.instagram.com/graphql/query to https://www.instagram.com/accounts/login/\n",
      "[574/900] "
     ]
    },
    {
     "name": "stderr",
     "output_type": "stream",
     "text": [
      "Download <Post CUbaxdKJF_7> of #dog: Redirected to login page. Use --login.\n"
     ]
    },
    {
     "name": "stdout",
     "output_type": "stream",
     "text": [
      "#dog\\2021-09-30_02-06-46_UTC.jpg [Ei! Brinca comigo!  #dog #dog…] json \n",
      "[575/900] #dog\\2021-09-30_02-06-46_UTC.jpg exists [Ei! Brinca comigo!  #dog #dog…] updated [Her favorite toy so far.  #te…] json \n",
      "[576/900] #dog\\2021-09-30_02-06-45_UTC.jpg [😜 😍 ~~~~~~~~~~~~ 😃 ~DOUBLE TA…] json \n",
      "[577/900] \n",
      "HTTP redirect from https://www.instagram.com/graphql/query to https://www.instagram.com/accounts/login/\n",
      "[578/900] "
     ]
    },
    {
     "name": "stderr",
     "output_type": "stream",
     "text": [
      "Download <Post CUbaw8glgEC> of #dog: Redirected to login page. Use --login.\n"
     ]
    },
    {
     "name": "stdout",
     "output_type": "stream",
     "text": [
      "\n",
      "HTTP redirect from https://www.instagram.com/graphql/query to https://www.instagram.com/accounts/login/\n",
      "[579/900] "
     ]
    },
    {
     "name": "stderr",
     "output_type": "stream",
     "text": [
      "Download <Post CUbawWDlr0_> of #dog: Redirected to login page. Use --login.\n"
     ]
    },
    {
     "name": "stdout",
     "output_type": "stream",
     "text": [
      "#dog\\2021-09-30_02-06-37_UTC.jpg [#swag #TFLers #cool #amazing …] json \n",
      "[580/900] \n",
      "HTTP redirect from https://www.instagram.com/graphql/query to https://www.instagram.com/accounts/login/\n",
      "[581/900] "
     ]
    },
    {
     "name": "stderr",
     "output_type": "stream",
     "text": [
      "Download <Post CUbawNlP33R> of #dog: Redirected to login page. Use --login.\n"
     ]
    },
    {
     "name": "stdout",
     "output_type": "stream",
     "text": [
      "#dog\\2021-09-30_02-06-35_UTC.jpg [Tosa bebe da familia de york.…] \n",
      "HTTP redirect from https://www.instagram.com/graphql/query to https://www.instagram.com/accounts/login/\n",
      "[582/900] "
     ]
    },
    {
     "name": "stderr",
     "output_type": "stream",
     "text": [
      "Download <Post CUbatJlg3tB> of #dog: Redirected to login page. Use --login.\n"
     ]
    },
    {
     "name": "stdout",
     "output_type": "stream",
     "text": [
      "#dog\\2021-09-30_02-06-34_UTC.jpg [from me to you - - - @quadeca…] json \n",
      "[583/900] \n",
      "HTTP redirect from https://www.instagram.com/graphql/query to https://www.instagram.com/accounts/login/\n",
      "[584/900] "
     ]
    },
    {
     "name": "stderr",
     "output_type": "stream",
     "text": [
      "Download <Post CUbavcwtZPG> of #dog: Redirected to login page. Use --login.\n"
     ]
    },
    {
     "name": "stdout",
     "output_type": "stream",
     "text": [
      "#dog\\2021-09-30_02-06-24_UTC.jpg [Sonny Power RottGuard DNK 🇹🇩🤠…] json \n",
      "[585/900] #dog\\2021-09-30_02-06-23_UTC.jpg [Com a mamãe sempre ✌️😎  Todos…] json \n",
      "[586/900] #dog\\2021-09-30_02-06-21_UTC.jpg [@minibullterrier.louis Vorsic…] json \n",
      "[587/900] #dog\\2021-09-30_02-06-18_UTC.jpg [Melzita no seu trono!   #cão …] json \n",
      "[588/900] #dog\\2021-09-30_02-06-12_UTC.jpg [It’s Wednesday already!? Me a…] json \n",
      "[589/900] \n",
      "HTTP redirect from https://www.instagram.com/graphql/query to https://www.instagram.com/accounts/login/\n",
      "[590/900] "
     ]
    },
    {
     "name": "stderr",
     "output_type": "stream",
     "text": [
      "Download <Post CUbas6HjId1> of #dog: Redirected to login page. Use --login.\n"
     ]
    },
    {
     "name": "stdout",
     "output_type": "stream",
     "text": [
      "\n",
      "HTTP redirect from https://www.instagram.com/graphql/query to https://www.instagram.com/accounts/login/\n",
      "[591/900] "
     ]
    },
    {
     "name": "stderr",
     "output_type": "stream",
     "text": [
      "Download <Post CUbastcPSyX> of #dog: Redirected to login page. Use --login.\n"
     ]
    },
    {
     "name": "stdout",
     "output_type": "stream",
     "text": [
      "#dog\\2021-09-30_02-06-08_UTC.jpg [Follow 📸 cute_dogs_lovers12 .…] json \n",
      "[592/900] \n",
      "HTTP redirect from https://www.instagram.com/graphql/query to https://www.instagram.com/accounts/login/\n",
      "[593/900] "
     ]
    },
    {
     "name": "stderr",
     "output_type": "stream",
     "text": [
      "Download <Post CUbaslpPul8> of #dog: Redirected to login page. Use --login.\n"
     ]
    },
    {
     "name": "stdout",
     "output_type": "stream",
     "text": [
      "#dog\\2021-09-30_02-06-07_UTC.jpg [I finished my 5th #smp fall h…] json \n",
      "[594/900] \n",
      "HTTP redirect from https://www.instagram.com/graphql/query to https://www.instagram.com/accounts/login/\n",
      "[595/900] "
     ]
    },
    {
     "name": "stderr",
     "output_type": "stream",
     "text": [
      "Download <Post CUbasZINtVv> of #dog: Redirected to login page. Use --login.\n"
     ]
    },
    {
     "name": "stdout",
     "output_type": "stream",
     "text": [
      "#dog\\2021-09-30_02-06-04_UTC.jpg [One out successfully🥰#sausage…] \n",
      "HTTP redirect from https://www.instagram.com/graphql/query to https://www.instagram.com/accounts/login/\n",
      "[596/900] "
     ]
    },
    {
     "name": "stderr",
     "output_type": "stream",
     "text": [
      "Download <Post CUbac6FqBB2> of #dog: Redirected to login page. Use --login.\n"
     ]
    },
    {
     "name": "stdout",
     "output_type": "stream",
     "text": [
      "#dog\\2021-09-30_02-06-03_UTC.jpg [ワンダフル新聞 秋桜 Las flores del cos…] json \n",
      "[597/900] \n",
      "HTTP redirect from https://www.instagram.com/graphql/query to https://www.instagram.com/accounts/login/\n",
      "[598/900] "
     ]
    },
    {
     "name": "stderr",
     "output_type": "stream",
     "text": [
      "Download <Post CUbarwVMYbK> of #dog: Redirected to login page. Use --login.\n"
     ]
    },
    {
     "name": "stdout",
     "output_type": "stream",
     "text": [
      "\n",
      "HTTP redirect from https://www.instagram.com/graphql/query to https://www.instagram.com/accounts/login/\n",
      "[599/900] "
     ]
    },
    {
     "name": "stderr",
     "output_type": "stream",
     "text": [
      "Download <Post CUbarqNPLvq> of #dog: Redirected to login page. Use --login.\n"
     ]
    },
    {
     "name": "stdout",
     "output_type": "stream",
     "text": [
      "\n",
      "HTTP redirect from https://www.instagram.com/graphql/query to https://www.instagram.com/accounts/login/\n",
      "[600/900] "
     ]
    },
    {
     "name": "stderr",
     "output_type": "stream",
     "text": [
      "Download <Post CUbargGvOhC> of #dog: Redirected to login page. Use --login.\n"
     ]
    },
    {
     "name": "stdout",
     "output_type": "stream",
     "text": [
      "#dog\\2021-09-30_02-05-58_UTC.jpg [好き♡  #cute #baby #babyboy  #赤…] json \n",
      "[601/900] #dog\\2021-09-30_02-05-57_UTC.jpg [Got a new job as a model for …] json \n",
      "[602/900] #dog\\2021-09-30_02-05-54_UTC.jpg [I love my job ❤️#hillcountryp…] json \n",
      "[603/900] #dog\\2021-09-30_02-05-50_UTC.jpg [I’m a su-paw-star🌟  Photograp…] json \n",
      "[604/900] #dog\\2021-09-30_02-05-48_UTC.jpg [Hi  jackrussell_daily  #cute …] json \n",
      "[605/900] #dog\\2021-09-30_02-05-48_UTC.jpg exists [Hi  jackrussell_daily  #cute …] updated [#chippiparai💙 #chippiparaidog…] \n",
      "HTTP redirect from https://www.instagram.com/graphql/query to https://www.instagram.com/accounts/login/\n",
      "[606/900] "
     ]
    },
    {
     "name": "stderr",
     "output_type": "stream",
     "text": [
      "Download <Post CUbafcZpwDs> of #dog: Redirected to login page. Use --login.\n"
     ]
    },
    {
     "name": "stdout",
     "output_type": "stream",
     "text": [
      "#dog\\2021-09-30_02-05-47_UTC.jpg [When I grow up, I want hair l…] json \n",
      "[607/900] \n",
      "HTTP redirect from https://www.instagram.com/graphql/query to https://www.instagram.com/accounts/login/\n",
      "[608/900] "
     ]
    },
    {
     "name": "stderr",
     "output_type": "stream",
     "text": [
      "Download <Post CUbap77lQAs> of #dog: Redirected to login page. Use --login.\n"
     ]
    },
    {
     "name": "stdout",
     "output_type": "stream",
     "text": [
      "#dog\\2021-09-30_02-05-42_UTC.jpg [#fun #instagramers #food #smi…] json \n",
      "[609/900] #dog\\2021-09-30_02-05-42_UTC.jpg exists [#fun #instagramers #food #smi…] updated [#amodog #amordecao #dog] json \n",
      "[610/900] #dog\\2021-09-30_02-05-41_UTC.jpg [Sleepy pup . . . . . . . . . …] json \n",
      "[611/900] \n",
      "HTTP redirect from https://www.instagram.com/graphql/query to https://www.instagram.com/accounts/login/\n",
      "[612/900] "
     ]
    },
    {
     "name": "stderr",
     "output_type": "stream",
     "text": [
      "Download <Post CUbao7wP9Sg> of #dog: Redirected to login page. Use --login.\n"
     ]
    },
    {
     "name": "stdout",
     "output_type": "stream",
     "text": [
      "\n",
      "HTTP redirect from https://www.instagram.com/graphql/query to https://www.instagram.com/accounts/login/\n",
      "[613/900] "
     ]
    },
    {
     "name": "stderr",
     "output_type": "stream",
     "text": [
      "Download <Post CUbaovcpXP3> of #dog: Redirected to login page. Use --login.\n"
     ]
    },
    {
     "name": "stdout",
     "output_type": "stream",
     "text": [
      "#dog\\2021-09-30_02-05-34_UTC.jpg [You'll never forget an import…] json \n",
      "[614/900] #dog\\2021-09-30_02-05-32_UTC.jpg [💫✨💔. . . .##fun #instagramers…] json \n",
      "[615/900] #dog\\2021-09-30_02-05-32_UTC.jpg exists [💫✨💔. . . .##fun #instagramers…] updated [You can’t be in Saint Louis w…] json \n",
      "[616/900] #dog\\2021-09-30_02-05-31_UTC.jpg [#dog #cute #b&w #blackandwhit…] json \n",
      "[617/900] \n",
      "HTTP redirect from https://www.instagram.com/graphql/query to https://www.instagram.com/accounts/login/\n",
      "[618/900] "
     ]
    },
    {
     "name": "stderr",
     "output_type": "stream",
     "text": [
      "Download <Post CUbanCDJ3Nw> of #dog: Redirected to login page. Use --login.\n"
     ]
    },
    {
     "name": "stdout",
     "output_type": "stream",
     "text": [
      "#dog\\2021-09-30_02-05-22_UTC.jpg [My face when dad told me @lab…] json \n",
      "[619/900] #dog\\2021-09-30_02-05-21_UTC.jpg [#fun #instagramers #food #smi…] json \n",
      "[620/900] #dog\\2021-09-30_02-05-18_UTC.jpg [Guddu feeling নবাব😊  Capture📷…] json \n",
      "[621/900] #dog\\2021-09-30_02-05-18_UTC.jpg exists [Guddu feeling নবাব😊  Capture📷…] updated [Get a professional and custom…] json \n",
      "[622/900] #dog\\2021-09-30_02-05-18_UTC.jpg exists [Get a professional and custom…] updated [So confused by phone calls?? …] \n",
      "HTTP redirect from https://www.instagram.com/graphql/query to https://www.instagram.com/accounts/login/\n",
      "[623/900] "
     ]
    },
    {
     "name": "stderr",
     "output_type": "stream",
     "text": [
      "Download <Post CUbaZ7-ATFq> of #dog: Redirected to login page. Use --login.\n"
     ]
    },
    {
     "name": "stdout",
     "output_type": "stream",
     "text": [
      "#dog\\2021-09-30_02-05-14_UTC.jpg [This puppy's name is Rocky an…] json \n",
      "[624/900] #dog\\2021-09-30_02-04-59_UTC.jpg [Caption this picture! 😴💭 Drea…] json \n",
      "[625/900] #dog\\2021-09-30_02-04-51_UTC.jpg exists [#stretching #yoga #lovelypet …] \n",
      "HTTP redirect from https://www.instagram.com/graphql/query to https://www.instagram.com/accounts/login/\n",
      "[626/900] "
     ]
    },
    {
     "name": "stderr",
     "output_type": "stream",
     "text": [
      "Download <Post CUbadanDvA_> of #dog: Redirected to login page. Use --login.\n"
     ]
    },
    {
     "name": "stdout",
     "output_type": "stream",
     "text": [
      "\n",
      "HTTP redirect from https://www.instagram.com/graphql/query to https://www.instagram.com/accounts/login/\n",
      "[627/900] "
     ]
    },
    {
     "name": "stderr",
     "output_type": "stream",
     "text": [
      "Download <Post CUbagN8ookT> of #dog: Redirected to login page. Use --login.\n"
     ]
    },
    {
     "name": "stdout",
     "output_type": "stream",
     "text": [
      "#dog\\2021-09-30_02-04-26_UTC.jpg [Shake it off!  Bandana from: …] json \n",
      "[628/900] #dog\\2021-09-30_02-04-08_UTC.jpg [Zé bola! 😍⚽ #sweethome #night…] json \n",
      "[629/900] #dog\\2021-09-30_02-03-56_UTC.jpg [just the two of us! 🐶🐶  . . .…] json \n",
      "[630/900] \n",
      "HTTP redirect from https://www.instagram.com/graphql/query to https://www.instagram.com/accounts/login/\n",
      "[631/900] "
     ]
    },
    {
     "name": "stderr",
     "output_type": "stream",
     "text": [
      "Download <Post CUbaP_GJhzT> of #dog: Redirected to login page. Use --login.\n"
     ]
    },
    {
     "name": "stdout",
     "output_type": "stream",
     "text": [
      "\n",
      "HTTP redirect from https://www.instagram.com/graphql/query to https://www.instagram.com/accounts/login/\n",
      "[632/900] "
     ]
    },
    {
     "name": "stderr",
     "output_type": "stream",
     "text": [
      "Download <Post CUbZ6_MpkHd> of #dog: Redirected to login page. Use --login.\n"
     ]
    },
    {
     "name": "stdout",
     "output_type": "stream",
     "text": [
      "#dog\\2021-09-30_00-33-36_UTC.jpg [Stay focused kings and queen 🧡] json \n",
      "[633/900] \n",
      "HTTP redirect from https://www.instagram.com/graphql/query to https://www.instagram.com/accounts/login/\n",
      "[634/900] "
     ]
    },
    {
     "name": "stderr",
     "output_type": "stream",
     "text": [
      "Download <Post CUbP2N6PJ5_> of #dog: Redirected to login page. Use --login.\n"
     ]
    },
    {
     "name": "stdout",
     "output_type": "stream",
     "text": [
      "\n",
      "HTTP redirect from https://www.instagram.com/graphql/query to https://www.instagram.com/accounts/login/\n",
      "[635/900] "
     ]
    },
    {
     "name": "stderr",
     "output_type": "stream",
     "text": [
      "Download <Post CUaLFDDv77I> of #dog: Redirected to login page. Use --login.\n"
     ]
    },
    {
     "name": "stdout",
     "output_type": "stream",
     "text": [
      "#dog\\2021-09-29_13-16-28_UTC.jpg [친구야, 넌 몰 먹구 그렇게 컸니?] json \n",
      "[636/900] #dog\\2020-11-07_13-12-18_UTC.jpg [조이 다리 어디숨겼어..?] json \n",
      "[637/900] #dog\\2021-09-30_02-05-05_UTC.jpg [Hora de la siesta con mi jugu…] json \n",
      "[638/900] #dog\\2021-09-30_02-05-05_UTC.jpg exists [Hora de la siesta con mi jugu…] updated [he’s got a buddy!!  🐾 🐾 🐾  #w…] json \n",
      "[639/900] #dog\\2021-09-30_02-05-03_UTC.jpg [I like nice long walks along …] json \n",
      "[640/900] #dog\\2021-09-30_02-05-02_UTC.jpg [被騷擾中(˶‾᷄ ⁻̫ ‾᷅˵) #可愛 #黃金獵犬 #金…] json \n",
      "[641/900] \n",
      "HTTP redirect from https://www.instagram.com/graphql/query to https://www.instagram.com/accounts/login/\n",
      "[642/900] "
     ]
    },
    {
     "name": "stderr",
     "output_type": "stream",
     "text": [
      "Download <Post CUbakW5hKxK> of #dog: Redirected to login page. Use --login.\n"
     ]
    },
    {
     "name": "stdout",
     "output_type": "stream",
     "text": [
      "#dog\\2021-09-30_02-04-57_UTC.jpg [TBT to when I was just a litt…] json \n",
      "[643/900] #dog\\2021-09-30_02-04-55_UTC.jpg [Sitting pretty 🐾 #love #insta…] json \n",
      "[644/900] #dog\\2021-09-30_02-04-55_UTC.jpg exists [Sitting pretty 🐾 #love #insta…] updated [#waybackwednesday to Rigby gi…] json \n",
      "[645/900] \n",
      "HTTP redirect from https://www.instagram.com/graphql/query to https://www.instagram.com/accounts/login/\n",
      "[646/900] "
     ]
    },
    {
     "name": "stderr",
     "output_type": "stream",
     "text": [
      "Download <Post CUbajf1vHGq> of #dog: Redirected to login page. Use --login.\n"
     ]
    },
    {
     "name": "stdout",
     "output_type": "stream",
     "text": [
      "#dog\\2021-09-30_02-04-47_UTC.jpg [❤️❤️ #dog #dogs#dogsofinstagr…] json \n",
      "[647/900] \n",
      "HTTP redirect from https://www.instagram.com/graphql/query to https://www.instagram.com/accounts/login/\n",
      "[648/900] #dog\\2021-09-30_02-04-43_UTC.jpg"
     ]
    },
    {
     "name": "stderr",
     "output_type": "stream",
     "text": [
      "Download <Post CUbaiSqojCt> of #dog: Redirected to login page. Use --login.\n"
     ]
    },
    {
     "name": "stdout",
     "output_type": "stream",
     "text": [
      " [#amazing #art #awesome #baby …] json \n",
      "[649/900] #dog\\2021-09-30_02-04-40_UTC.jpg [Lots of daisies on this morni…] json \n",
      "[650/900] #dog\\2021-09-30_02-04-39_UTC.jpg [This design logo killerhorse …] json \n",
      "[651/900] #dog\\2021-09-30_02-04-38_UTC.jpg [あぁぁぁ… 眠い眠い眠い眠い💤💤  オルビア、お目目が😅 …] \n",
      "HTTP redirect from https://www.instagram.com/graphql/query to https://www.instagram.com/accounts/login/\n",
      "[652/900] "
     ]
    },
    {
     "name": "stderr",
     "output_type": "stream",
     "text": [
      "Download <Post CUbZ2itpxZi> of #dog: Redirected to login page. Use --login.\n"
     ]
    },
    {
     "name": "stdout",
     "output_type": "stream",
     "text": [
      "\n",
      "HTTP redirect from https://www.instagram.com/graphql/query to https://www.instagram.com/accounts/login/\n",
      "[653/900] "
     ]
    },
    {
     "name": "stderr",
     "output_type": "stream",
     "text": [
      "Download <Post CUbahh1pmr0> of #dog: Redirected to login page. Use --login.\n"
     ]
    },
    {
     "name": "stdout",
     "output_type": "stream",
     "text": [
      "\n",
      "HTTP redirect from https://www.instagram.com/graphql/query to https://www.instagram.com/accounts/login/\n",
      "[654/900] "
     ]
    },
    {
     "name": "stderr",
     "output_type": "stream",
     "text": [
      "Download <Post CUbahKNP6gn> of #dog: Redirected to login page. Use --login.\n"
     ]
    },
    {
     "name": "stdout",
     "output_type": "stream",
     "text": [
      "#dog\\2021-09-30_02-04-33_UTC.jpg [Explorando 💥✨🐶♥️ #boxer #boxe…] \n",
      "HTTP redirect from https://www.instagram.com/graphql/query to https://www.instagram.com/accounts/login/\n",
      "[655/900] #dog\\2021-09-30_02-04-33_UTC.jpg exists [Explorando 💥✨🐶♥️ #boxer #boxe…] updated [Happy hump day everyone! Hope…] "
     ]
    },
    {
     "name": "stderr",
     "output_type": "stream",
     "text": [
      "Download <Post CUbaYRdI_Vh> of #dog: Redirected to login page. Use --login.\n"
     ]
    },
    {
     "name": "stdout",
     "output_type": "stream",
     "text": [
      "\n",
      "HTTP redirect from https://www.instagram.com/graphql/query to https://www.instagram.com/accounts/login/\n",
      "[656/900] "
     ]
    },
    {
     "name": "stderr",
     "output_type": "stream",
     "text": [
      "Download <Post CUbaXN3riAD> of #dog: Redirected to login page. Use --login.\n"
     ]
    },
    {
     "name": "stdout",
     "output_type": "stream",
     "text": [
      "#dog\\2021-09-30_02-04-32_UTC.jpg [#morning #walk #goldenretriev…] json \n",
      "[657/900] #dog\\2021-09-30_02-04-29_UTC.jpg [My twin flame 🔥 in canine for…] json \n",
      "[658/900] \n",
      "HTTP redirect from https://www.instagram.com/graphql/query to https://www.instagram.com/accounts/login/\n",
      "[659/900] "
     ]
    },
    {
     "name": "stderr",
     "output_type": "stream",
     "text": [
      "Download <Post CUbagabBkCo> of #dog: Redirected to login page. Use --login.\n"
     ]
    },
    {
     "name": "stdout",
     "output_type": "stream",
     "text": [
      "\n",
      "HTTP redirect from https://www.instagram.com/graphql/query to https://www.instagram.com/accounts/login/\n",
      "[660/900] "
     ]
    },
    {
     "name": "stderr",
     "output_type": "stream",
     "text": [
      "Download <Post CUbagFqvSIs> of #dog: Redirected to login page. Use --login.\n"
     ]
    },
    {
     "name": "stdout",
     "output_type": "stream",
     "text": [
      "#dog\\2021-09-30_02-04-22_UTC.jpg [Indy & Goo!  Pups love their …] json \n",
      "[661/900] \n",
      "HTTP redirect from https://www.instagram.com/graphql/query to https://www.instagram.com/accounts/login/\n",
      "[662/900] "
     ]
    },
    {
     "name": "stderr",
     "output_type": "stream",
     "text": [
      "Download <Post CUbafn4BKao> of #dog: Redirected to login page. Use --login.\n"
     ]
    },
    {
     "name": "stdout",
     "output_type": "stream",
     "text": [
      "#dog\\2021-09-30_02-04-21_UTC.jpg [Signature Paw Spa. #🐾#dogsofi…] json \n",
      "[663/900] #dog\\2021-09-30_02-04-20_UTC.jpg [〓 9/30・意地でも袋折りの邪魔をしてきます😀〓  #金…] json \n",
      "[664/900] #dog\\2021-09-30_02-04-18_UTC.jpg [Nightly snuggle with mom whil…] json \n",
      "[665/900] #dog\\2021-09-30_02-04-18_UTC.jpg exists [Nightly snuggle with mom whil…] updated [Of course we had to get some …] json \n",
      "[666/900] \n",
      "HTTP redirect from https://www.instagram.com/graphql/query to https://www.instagram.com/accounts/login/\n",
      "[667/900] "
     ]
    },
    {
     "name": "stderr",
     "output_type": "stream",
     "text": [
      "Download <Post CUbafH3l4HD> of #dog: Redirected to login page. Use --login.\n"
     ]
    },
    {
     "name": "stdout",
     "output_type": "stream",
     "text": [
      "#dog\\2021-09-30_02-04-16_UTC.jpg [Adestramento de obediência co…] \n",
      "HTTP redirect from https://www.instagram.com/graphql/query to https://www.instagram.com/accounts/login/\n",
      "[668/900] "
     ]
    },
    {
     "name": "stderr",
     "output_type": "stream",
     "text": [
      "Download <Post CUbae74AQUf> of #dog: Redirected to login page. Use --login.\n"
     ]
    },
    {
     "name": "stdout",
     "output_type": "stream",
     "text": [
      "\n",
      "HTTP redirect from https://www.instagram.com/graphql/query to https://www.instagram.com/accounts/login/\n",
      "[669/900] "
     ]
    },
    {
     "name": "stderr",
     "output_type": "stream",
     "text": [
      "Download <Post CUbae3yJ874> of #dog: Redirected to login page. Use --login.\n"
     ]
    },
    {
     "name": "stdout",
     "output_type": "stream",
     "text": [
      "#dog\\2021-09-30_02-04-15_UTC.jpg [#amazing #art #awesome #baby …] json \n",
      "[670/900] #dog\\2021-09-30_02-04-15_UTC.jpg exists [#amazing #art #awesome #baby …] updated [Ami's adorable face 🤗🖤🤎🤍 . . …] json \n",
      "[671/900] #dog\\2021-09-30_02-04-13_UTC.jpg [Tito loves his sister #cat #d…] json \n",
      "[672/900] \n",
      "HTTP redirect from https://www.instagram.com/graphql/query to https://www.instagram.com/accounts/login/\n",
      "[673/900] #dog\\2021-09-30_02-04-13_UTC.jpg exists [Tito loves his sister #cat #d…] updated [Big Steppa first son 🤩 🤯🤯 wil…] json \n",
      "[674/900] #dog\\2021-09-30_02-04-13_UTC.jpg exists [Big Steppa first son 🤩 🤯🤯 wil…] updated [salchiamma  #dog  #dogsofinst…] json \n",
      "[675/900] #dog\\2021-09-30_02-04-13_UTC.jpg exists [salchiamma  #dog  #dogsofinst…] updated [good mawnin! 🌦  .  #dracoands…] json \n",
      "[676/900] #dog\\2021-09-30_02-04-13_UTC.jpg exists [good mawnin! 🌦  .  #dracoands…] updated [Caneca Colecionável Pet Dog, …] json \n",
      "[677/900] "
     ]
    },
    {
     "name": "stderr",
     "output_type": "stream",
     "text": [
      "Download <Post CUbaekUg6a8> of #dog: Redirected to login page. Use --login.\n"
     ]
    },
    {
     "name": "stdout",
     "output_type": "stream",
     "text": [
      "\n",
      "HTTP redirect from https://www.instagram.com/graphql/query to https://www.instagram.com/accounts/login/\n",
      "[678/900] "
     ]
    },
    {
     "name": "stderr",
     "output_type": "stream",
     "text": [
      "Download <Post CUbaegGlIMI> of #dog: Redirected to login page. Use --login.\n"
     ]
    },
    {
     "name": "stdout",
     "output_type": "stream",
     "text": [
      "#dog\\2021-09-30_02-04-12_UTC.jpg [EXTREME LARGE PITBULLS  📸  @g…] json \n",
      "[679/900] #dog\\2021-09-30_02-04-12_UTC.jpg exists [EXTREME LARGE PITBULLS  📸  @g…] updated [Adestramento de obediência co…] \n",
      "HTTP redirect from https://www.instagram.com/graphql/query to https://www.instagram.com/accounts/login/\n",
      "[680/900] "
     ]
    },
    {
     "name": "stderr",
     "output_type": "stream",
     "text": [
      "Download <Post CUbaO4xF6xE> of #dog: Redirected to login page. Use --login.\n"
     ]
    },
    {
     "name": "stdout",
     "output_type": "stream",
     "text": [
      "\n",
      "HTTP redirect from https://www.instagram.com/graphql/query to https://www.instagram.com/accounts/login/\n",
      "[681/900] "
     ]
    },
    {
     "name": "stderr",
     "output_type": "stream",
     "text": [
      "Download <Post CUbaeFMllRG> of #dog: Redirected to login page. Use --login.\n"
     ]
    },
    {
     "name": "stdout",
     "output_type": "stream",
     "text": [
      "#dog\\2021-09-30_02-04-09_UTC.jpg [Big Steppa first son 🤩 🤯🤯 wil…] json \n",
      "[682/900] \n",
      "HTTP redirect from https://www.instagram.com/graphql/query to https://www.instagram.com/accounts/login/\n",
      "[683/900] "
     ]
    },
    {
     "name": "stderr",
     "output_type": "stream",
     "text": [
      "Download <Post CUbaeKHJbWM> of #dog: Redirected to login page. Use --login.\n"
     ]
    },
    {
     "name": "stdout",
     "output_type": "stream",
     "text": [
      "\n",
      "HTTP redirect from https://www.instagram.com/graphql/query to https://www.instagram.com/accounts/login/\n",
      "[684/900] #dog\\2021-09-30_02-04-06_UTC.jpg "
     ]
    },
    {
     "name": "stderr",
     "output_type": "stream",
     "text": [
      "Download <Post CUbad7NDRKl> of #dog: Redirected to login page. Use --login.\n"
     ]
    },
    {
     "name": "stdout",
     "output_type": "stream",
     "text": [
      "[Wooden Horse Seesaw Pendant S…] \n",
      "HTTP redirect from https://www.instagram.com/graphql/query to https://www.instagram.com/accounts/login/\n",
      "[685/900] "
     ]
    },
    {
     "name": "stderr",
     "output_type": "stream",
     "text": [
      "Download <Post CUbabyxhROx> of #dog: Redirected to login page. Use --login.\n"
     ]
    },
    {
     "name": "stdout",
     "output_type": "stream",
     "text": [
      "\n",
      "HTTP redirect from https://www.instagram.com/graphql/query to https://www.instagram.com/accounts/login/\n",
      "[686/900] "
     ]
    },
    {
     "name": "stderr",
     "output_type": "stream",
     "text": [
      "Download <Post CUbaddQozvt> of #dog: Redirected to login page. Use --login.\n"
     ]
    },
    {
     "name": "stdout",
     "output_type": "stream",
     "text": [
      "\n",
      "HTTP redirect from https://www.instagram.com/graphql/query to https://www.instagram.com/accounts/login/\n",
      "[687/900] "
     ]
    },
    {
     "name": "stderr",
     "output_type": "stream",
     "text": [
      "Download <Post CUbadJ7KI0U> of #dog: Redirected to login page. Use --login.\n"
     ]
    },
    {
     "name": "stdout",
     "output_type": "stream",
     "text": [
      "#dog\\2021-09-30_02-04-00_UTC.jpg [Tell me your dog is clingy wi…] json \n",
      "[688/900] \n",
      "HTTP redirect from https://www.instagram.com/graphql/query to https://www.instagram.com/accounts/login/\n",
      "[689/900] "
     ]
    },
    {
     "name": "stderr",
     "output_type": "stream",
     "text": [
      "Download <Post CUbactmsvs8> of #dog: Redirected to login page. Use --login.\n"
     ]
    },
    {
     "name": "stdout",
     "output_type": "stream",
     "text": [
      "\n",
      "HTTP redirect from https://www.instagram.com/graphql/query to https://www.instagram.com/accounts/login/\n",
      "[690/900] "
     ]
    },
    {
     "name": "stderr",
     "output_type": "stream",
     "text": [
      "Download <Post CUbacnmjsBm> of #dog: Redirected to login page. Use --login.\n"
     ]
    },
    {
     "name": "stdout",
     "output_type": "stream",
     "text": [
      "\n",
      "HTTP redirect from https://www.instagram.com/graphql/query to https://www.instagram.com/accounts/login/\n",
      "[691/900] "
     ]
    },
    {
     "name": "stderr",
     "output_type": "stream",
     "text": [
      "Download <Post CUbacYxJbtG> of #dog: Redirected to login page. Use --login.\n"
     ]
    },
    {
     "name": "stdout",
     "output_type": "stream",
     "text": [
      "#dog\\2021-09-30_02-03-53_UTC.jpg [🐩🐕‍🦺Show off the love you hav…] \n",
      "HTTP redirect from https://www.instagram.com/graphql/query to https://www.instagram.com/accounts/login/\n",
      "[692/900] #dog\\2021-09-30_02-03-53_UTC.jpg exists [🐩🐕‍🦺Show off the love you hav…] updated [Griselda Blanco growing up ni…] json \n",
      "[693/900] "
     ]
    },
    {
     "name": "stderr",
     "output_type": "stream",
     "text": [
      "Download <Post CUbaYy_tban> of #dog: Redirected to login page. Use --login.\n"
     ]
    },
    {
     "name": "stdout",
     "output_type": "stream",
     "text": [
      "#dog\\2021-09-30_02-03-52_UTC.jpg [Softy lover🥰❣️  Follow 📸@cute…] json \n",
      "[694/900] #dog\\2021-09-30_02-03-50_UTC.jpg [Griselda Blanco growing up ni…] json \n",
      "[695/900] #dog\\2021-09-30_02-03-43_UTC.jpg [Tintin #dog #eyes] json \n",
      "[696/900] \n",
      "HTTP redirect from https://www.instagram.com/graphql/query to https://www.instagram.com/accounts/login/\n",
      "[697/900] "
     ]
    },
    {
     "name": "stderr",
     "output_type": "stream",
     "text": [
      "Download <Post CUbaa9SswY5> of #dog: Redirected to login page. Use --login.\n"
     ]
    },
    {
     "name": "stdout",
     "output_type": "stream",
     "text": [
      "\n",
      "HTTP redirect from https://www.instagram.com/graphql/query to https://www.instagram.com/accounts/login/\n",
      "[698/900] "
     ]
    },
    {
     "name": "stderr",
     "output_type": "stream",
     "text": [
      "Download <Post CUbaa0QvtgH> of #dog: Redirected to login page. Use --login.\n"
     ]
    },
    {
     "name": "stdout",
     "output_type": "stream",
     "text": [
      "\n",
      "HTTP redirect from https://www.instagram.com/graphql/query to https://www.instagram.com/accounts/login/\n",
      "[699/900] "
     ]
    },
    {
     "name": "stderr",
     "output_type": "stream",
     "text": [
      "Download <Post CUbaYndhTHA> of #dog: Redirected to login page. Use --login.\n"
     ]
    },
    {
     "name": "stdout",
     "output_type": "stream",
     "text": [
      "\n",
      "HTTP redirect from https://www.instagram.com/graphql/query to https://www.instagram.com/accounts/login/\n",
      "[700/900] "
     ]
    },
    {
     "name": "stderr",
     "output_type": "stream",
     "text": [
      "Download <Post CUbaVlAlVbT> of #dog: Redirected to login page. Use --login.\n"
     ]
    },
    {
     "name": "stdout",
     "output_type": "stream",
     "text": [
      "#dog\\2021-09-30_02-01-18_UTC.jpg [Mom and Dad’s engagement shoo…] json \n",
      "[701/900] \n",
      "HTTP redirect from https://www.instagram.com/graphql/query to https://www.instagram.com/accounts/login/\n",
      "[702/900] "
     ]
    },
    {
     "name": "stderr",
     "output_type": "stream",
     "text": [
      "Download <Post CUbZVhkpMcV> of #dog: Redirected to login page. Use --login.\n"
     ]
    },
    {
     "name": "stdout",
     "output_type": "stream",
     "text": [
      "\n",
      "HTTP redirect from https://www.instagram.com/graphql/query to https://www.instagram.com/accounts/login/\n",
      "[703/900] "
     ]
    },
    {
     "name": "stderr",
     "output_type": "stream",
     "text": [
      "Download <Post CUbYeLsNsn0> of #dog: Redirected to login page. Use --login.\n"
     ]
    },
    {
     "name": "stdout",
     "output_type": "stream",
     "text": [
      "#dog\\2021-09-30_01-08-40_UTC.jpg [Hoy hace 8 añossss !!!!!!!! Q…] json \n",
      "[704/900] #dog\\2021-09-20_05-30-03_UTC.jpg [🤍ᴇᴄᴏ🐻‍❄️🤍] json \n",
      "[705/900] \n",
      "HTTP redirect from https://www.instagram.com/graphql/query to https://www.instagram.com/accounts/login/\n"
     ]
    },
    {
     "name": "stderr",
     "output_type": "stream",
     "text": [
      "Download <Post CUBY2X_Pspb> of #dog: Redirected to login page. Use --login.\n"
     ]
    },
    {
     "name": "stdout",
     "output_type": "stream",
     "text": [
      "\n",
      "HTTP redirect from https://www.instagram.com/explore/tags/dog/ to https://www.instagram.com/accounts/login/\n"
     ]
    },
    {
     "ename": "LoginRequiredException",
     "evalue": "Redirected to login page. Use --login.",
     "output_type": "error",
     "traceback": [
      "\u001b[1;31m---------------------------------------------------------------------------\u001b[0m",
      "\u001b[1;31mLoginRequiredException\u001b[0m                    Traceback (most recent call last)",
      "\u001b[1;32m<ipython-input-3-5912fed4cc8c>\u001b[0m in \u001b[0;36m<module>\u001b[1;34m\u001b[0m\n\u001b[1;32m----> 1\u001b[1;33m \u001b[0mloader\u001b[0m\u001b[1;33m.\u001b[0m\u001b[0mdownload_hashtag\u001b[0m\u001b[1;33m(\u001b[0m\u001b[1;34m'dog'\u001b[0m\u001b[1;33m,\u001b[0m \u001b[0mmax_count\u001b[0m\u001b[1;33m=\u001b[0m\u001b[1;36m900\u001b[0m\u001b[1;33m)\u001b[0m\u001b[1;33m\u001b[0m\u001b[1;33m\u001b[0m\u001b[0m\n\u001b[0m",
      "\u001b[1;32mC:\\Users\\Public\\anaconda3\\lib\\site-packages\\instaloader\\instaloader.py\u001b[0m in \u001b[0;36mdownload_hashtag\u001b[1;34m(self, hashtag, max_count, post_filter, fast_update, profile_pic, posts)\u001b[0m\n\u001b[0;32m   1182\u001b[0m         \u001b[1;32mif\u001b[0m \u001b[0mposts\u001b[0m\u001b[1;33m:\u001b[0m\u001b[1;33m\u001b[0m\u001b[1;33m\u001b[0m\u001b[0m\n\u001b[0;32m   1183\u001b[0m             \u001b[0mself\u001b[0m\u001b[1;33m.\u001b[0m\u001b[0mcontext\u001b[0m\u001b[1;33m.\u001b[0m\u001b[0mlog\u001b[0m\u001b[1;33m(\u001b[0m\u001b[1;34m\"Retrieving pictures with hashtag #{}...\"\u001b[0m\u001b[1;33m.\u001b[0m\u001b[0mformat\u001b[0m\u001b[1;33m(\u001b[0m\u001b[0mhashtag\u001b[0m\u001b[1;33m.\u001b[0m\u001b[0mname\u001b[0m\u001b[1;33m)\u001b[0m\u001b[1;33m)\u001b[0m\u001b[1;33m\u001b[0m\u001b[1;33m\u001b[0m\u001b[0m\n\u001b[1;32m-> 1184\u001b[1;33m             self.posts_download_loop(hashtag.get_all_posts(), target, fast_update, post_filter,\n\u001b[0m\u001b[0;32m   1185\u001b[0m                                      max_count=max_count)\n\u001b[0;32m   1186\u001b[0m         \u001b[1;32mif\u001b[0m \u001b[0mself\u001b[0m\u001b[1;33m.\u001b[0m\u001b[0msave_metadata\u001b[0m\u001b[1;33m:\u001b[0m\u001b[1;33m\u001b[0m\u001b[1;33m\u001b[0m\u001b[0m\n",
      "\u001b[1;32mC:\\Users\\Public\\anaconda3\\lib\\site-packages\\instaloader\\instaloader.py\u001b[0m in \u001b[0;36mposts_download_loop\u001b[1;34m(self, posts, target, fast_update, post_filter, max_count, total_count, owner_profile, takewhile)\u001b[0m\n\u001b[0;32m    972\u001b[0m                 \u001b[0menabled\u001b[0m\u001b[1;33m=\u001b[0m\u001b[0mself\u001b[0m\u001b[1;33m.\u001b[0m\u001b[0mresume_prefix\u001b[0m \u001b[1;32mis\u001b[0m \u001b[1;32mnot\u001b[0m \u001b[1;32mNone\u001b[0m\u001b[1;33m\u001b[0m\u001b[1;33m\u001b[0m\u001b[0m\n\u001b[0;32m    973\u001b[0m         ) as (is_resuming, start_index):\n\u001b[1;32m--> 974\u001b[1;33m             \u001b[1;32mfor\u001b[0m \u001b[0mnumber\u001b[0m\u001b[1;33m,\u001b[0m \u001b[0mpost\u001b[0m \u001b[1;32min\u001b[0m \u001b[0menumerate\u001b[0m\u001b[1;33m(\u001b[0m\u001b[0mposts\u001b[0m\u001b[1;33m,\u001b[0m \u001b[0mstart\u001b[0m\u001b[1;33m=\u001b[0m\u001b[0mstart_index\u001b[0m \u001b[1;33m+\u001b[0m \u001b[1;36m1\u001b[0m\u001b[1;33m)\u001b[0m\u001b[1;33m:\u001b[0m\u001b[1;33m\u001b[0m\u001b[1;33m\u001b[0m\u001b[0m\n\u001b[0m\u001b[0;32m    975\u001b[0m                 \u001b[1;32mif\u001b[0m \u001b[1;33m(\u001b[0m\u001b[0mmax_count\u001b[0m \u001b[1;32mis\u001b[0m \u001b[1;32mnot\u001b[0m \u001b[1;32mNone\u001b[0m \u001b[1;32mand\u001b[0m \u001b[0mnumber\u001b[0m \u001b[1;33m>\u001b[0m \u001b[0mmax_count\u001b[0m\u001b[1;33m)\u001b[0m \u001b[1;32mor\u001b[0m \u001b[1;32mnot\u001b[0m \u001b[0mtakewhile\u001b[0m\u001b[1;33m(\u001b[0m\u001b[0mpost\u001b[0m\u001b[1;33m)\u001b[0m\u001b[1;33m:\u001b[0m\u001b[1;33m\u001b[0m\u001b[1;33m\u001b[0m\u001b[0m\n\u001b[0;32m    976\u001b[0m                     \u001b[1;32mbreak\u001b[0m\u001b[1;33m\u001b[0m\u001b[1;33m\u001b[0m\u001b[0m\n",
      "\u001b[1;32mC:\\Users\\Public\\anaconda3\\lib\\site-packages\\instaloader\\structures.py\u001b[0m in \u001b[0;36mget_all_posts\u001b[1;34m(self)\u001b[0m\n\u001b[0;32m   1491\u001b[0m                 \u001b[1;32massert\u001b[0m \u001b[0mnext_other\u001b[0m \u001b[1;32mis\u001b[0m \u001b[1;32mnot\u001b[0m \u001b[1;32mNone\u001b[0m\u001b[1;33m\u001b[0m\u001b[1;33m\u001b[0m\u001b[0m\n\u001b[0;32m   1492\u001b[0m                 \u001b[1;32myield\u001b[0m \u001b[0mnext_other\u001b[0m\u001b[1;33m\u001b[0m\u001b[1;33m\u001b[0m\u001b[0m\n\u001b[1;32m-> 1493\u001b[1;33m                 \u001b[1;32myield\u001b[0m \u001b[1;32mfrom\u001b[0m \u001b[0mother_posts\u001b[0m\u001b[1;33m\u001b[0m\u001b[1;33m\u001b[0m\u001b[0m\n\u001b[0m\u001b[0;32m   1494\u001b[0m                 \u001b[1;32mbreak\u001b[0m\u001b[1;33m\u001b[0m\u001b[1;33m\u001b[0m\u001b[0m\n\u001b[0;32m   1495\u001b[0m             \u001b[1;32mif\u001b[0m \u001b[0mnext_top\u001b[0m \u001b[1;33m==\u001b[0m \u001b[0mnext_other\u001b[0m\u001b[1;33m:\u001b[0m\u001b[1;33m\u001b[0m\u001b[1;33m\u001b[0m\u001b[0m\n",
      "\u001b[1;32mC:\\Users\\Public\\anaconda3\\lib\\site-packages\\instaloader\\structures.py\u001b[0m in \u001b[0;36mget_posts\u001b[1;34m(self)\u001b[0m\n\u001b[0;32m   1472\u001b[0m         \u001b[1;32myield\u001b[0m \u001b[1;32mfrom\u001b[0m \u001b[1;33m(\u001b[0m\u001b[0mPost\u001b[0m\u001b[1;33m(\u001b[0m\u001b[0mself\u001b[0m\u001b[1;33m.\u001b[0m\u001b[0m_context\u001b[0m\u001b[1;33m,\u001b[0m \u001b[0medge\u001b[0m\u001b[1;33m[\u001b[0m\u001b[1;34m\"node\"\u001b[0m\u001b[1;33m]\u001b[0m\u001b[1;33m)\u001b[0m \u001b[1;32mfor\u001b[0m \u001b[0medge\u001b[0m \u001b[1;32min\u001b[0m \u001b[0mconn\u001b[0m\u001b[1;33m[\u001b[0m\u001b[1;34m\"edges\"\u001b[0m\u001b[1;33m]\u001b[0m\u001b[1;33m)\u001b[0m\u001b[1;33m\u001b[0m\u001b[1;33m\u001b[0m\u001b[0m\n\u001b[0;32m   1473\u001b[0m         \u001b[1;32mwhile\u001b[0m \u001b[0mconn\u001b[0m\u001b[1;33m[\u001b[0m\u001b[1;34m\"page_info\"\u001b[0m\u001b[1;33m]\u001b[0m\u001b[1;33m[\u001b[0m\u001b[1;34m\"has_next_page\"\u001b[0m\u001b[1;33m]\u001b[0m\u001b[1;33m:\u001b[0m\u001b[1;33m\u001b[0m\u001b[1;33m\u001b[0m\u001b[0m\n\u001b[1;32m-> 1474\u001b[1;33m             \u001b[0mdata\u001b[0m \u001b[1;33m=\u001b[0m \u001b[0mself\u001b[0m\u001b[1;33m.\u001b[0m\u001b[0m_query\u001b[0m\u001b[1;33m(\u001b[0m\u001b[1;33m{\u001b[0m\u001b[1;34m'__a'\u001b[0m\u001b[1;33m:\u001b[0m \u001b[1;36m1\u001b[0m\u001b[1;33m,\u001b[0m \u001b[1;34m'max_id'\u001b[0m\u001b[1;33m:\u001b[0m \u001b[0mconn\u001b[0m\u001b[1;33m[\u001b[0m\u001b[1;34m\"page_info\"\u001b[0m\u001b[1;33m]\u001b[0m\u001b[1;33m[\u001b[0m\u001b[1;34m\"end_cursor\"\u001b[0m\u001b[1;33m]\u001b[0m\u001b[1;33m}\u001b[0m\u001b[1;33m)\u001b[0m\u001b[1;33m\u001b[0m\u001b[1;33m\u001b[0m\u001b[0m\n\u001b[0m\u001b[0;32m   1475\u001b[0m             \u001b[0mconn\u001b[0m \u001b[1;33m=\u001b[0m \u001b[0mdata\u001b[0m\u001b[1;33m[\u001b[0m\u001b[1;34m\"edge_hashtag_to_media\"\u001b[0m\u001b[1;33m]\u001b[0m\u001b[1;33m\u001b[0m\u001b[1;33m\u001b[0m\u001b[0m\n\u001b[0;32m   1476\u001b[0m             \u001b[1;32myield\u001b[0m \u001b[1;32mfrom\u001b[0m \u001b[1;33m(\u001b[0m\u001b[0mPost\u001b[0m\u001b[1;33m(\u001b[0m\u001b[0mself\u001b[0m\u001b[1;33m.\u001b[0m\u001b[0m_context\u001b[0m\u001b[1;33m,\u001b[0m \u001b[0medge\u001b[0m\u001b[1;33m[\u001b[0m\u001b[1;34m\"node\"\u001b[0m\u001b[1;33m]\u001b[0m\u001b[1;33m)\u001b[0m \u001b[1;32mfor\u001b[0m \u001b[0medge\u001b[0m \u001b[1;32min\u001b[0m \u001b[0mconn\u001b[0m\u001b[1;33m[\u001b[0m\u001b[1;34m\"edges\"\u001b[0m\u001b[1;33m]\u001b[0m\u001b[1;33m)\u001b[0m\u001b[1;33m\u001b[0m\u001b[1;33m\u001b[0m\u001b[0m\n",
      "\u001b[1;32mC:\\Users\\Public\\anaconda3\\lib\\site-packages\\instaloader\\structures.py\u001b[0m in \u001b[0;36m_query\u001b[1;34m(self, params)\u001b[0m\n\u001b[0;32m   1382\u001b[0m \u001b[1;33m\u001b[0m\u001b[0m\n\u001b[0;32m   1383\u001b[0m     \u001b[1;32mdef\u001b[0m \u001b[0m_query\u001b[0m\u001b[1;33m(\u001b[0m\u001b[0mself\u001b[0m\u001b[1;33m,\u001b[0m \u001b[0mparams\u001b[0m\u001b[1;33m)\u001b[0m\u001b[1;33m:\u001b[0m\u001b[1;33m\u001b[0m\u001b[1;33m\u001b[0m\u001b[0m\n\u001b[1;32m-> 1384\u001b[1;33m         return self._context.get_json(\"explore/tags/{0}/\".format(self.name),\n\u001b[0m\u001b[0;32m   1385\u001b[0m                                       params)[\"graphql\"][\"hashtag\"]\n\u001b[0;32m   1386\u001b[0m \u001b[1;33m\u001b[0m\u001b[0m\n",
      "\u001b[1;32mC:\\Users\\Public\\anaconda3\\lib\\site-packages\\instaloader\\instaloadercontext.py\u001b[0m in \u001b[0;36mget_json\u001b[1;34m(self, path, params, host, session, _attempt)\u001b[0m\n\u001b[0;32m    334\u001b[0m                 \u001b[1;32mif\u001b[0m \u001b[0mredirect_url\u001b[0m\u001b[1;33m.\u001b[0m\u001b[0mstartswith\u001b[0m\u001b[1;33m(\u001b[0m\u001b[1;34m'https://www.instagram.com/accounts/login'\u001b[0m\u001b[1;33m)\u001b[0m\u001b[1;33m:\u001b[0m\u001b[1;33m\u001b[0m\u001b[1;33m\u001b[0m\u001b[0m\n\u001b[0;32m    335\u001b[0m                     \u001b[1;32mif\u001b[0m \u001b[1;32mnot\u001b[0m \u001b[0mself\u001b[0m\u001b[1;33m.\u001b[0m\u001b[0mis_logged_in\u001b[0m\u001b[1;33m:\u001b[0m\u001b[1;33m\u001b[0m\u001b[1;33m\u001b[0m\u001b[0m\n\u001b[1;32m--> 336\u001b[1;33m                         \u001b[1;32mraise\u001b[0m \u001b[0mLoginRequiredException\u001b[0m\u001b[1;33m(\u001b[0m\u001b[1;34m\"Redirected to login page. Use --login.\"\u001b[0m\u001b[1;33m)\u001b[0m\u001b[1;33m\u001b[0m\u001b[1;33m\u001b[0m\u001b[0m\n\u001b[0m\u001b[0;32m    337\u001b[0m                     \u001b[1;31m# alternate rate limit exceeded behavior\u001b[0m\u001b[1;33m\u001b[0m\u001b[1;33m\u001b[0m\u001b[1;33m\u001b[0m\u001b[0m\n\u001b[0;32m    338\u001b[0m                     \u001b[1;32mraise\u001b[0m \u001b[0mTooManyRequestsException\u001b[0m\u001b[1;33m(\u001b[0m\u001b[1;34m\"Redirected to login\"\u001b[0m\u001b[1;33m)\u001b[0m\u001b[1;33m\u001b[0m\u001b[1;33m\u001b[0m\u001b[0m\n",
      "\u001b[1;31mLoginRequiredException\u001b[0m: Redirected to login page. Use --login."
     ]
    }
   ],
   "source": [
    "loader.download_hashtag('dog', max_count=900)"
   ]
  },
  {
   "cell_type": "code",
   "execution_count": 11,
   "metadata": {
    "ExecuteTime": {
     "end_time": "2021-09-30T03:11:14.968530Z",
     "start_time": "2021-09-30T03:11:11.947816Z"
    }
   },
   "outputs": [
    {
     "name": "stdout",
     "output_type": "stream",
     "text": [
      "\n",
      "HTTP redirect from https://www.instagram.com/explore/tags/horse/ to https://www.instagram.com/accounts/login/\n"
     ]
    },
    {
     "name": "stderr",
     "output_type": "stream",
     "text": [
      "Get hashtag #horse: Redirected to login page. Use --login.\n"
     ]
    }
   ],
   "source": [
    "loader.download_hashtag('horse', max_count=2000)"
   ]
  },
  {
   "cell_type": "code",
   "execution_count": 16,
   "metadata": {
    "ExecuteTime": {
     "end_time": "2021-09-27T00:15:49.462567Z",
     "start_time": "2021-09-27T00:15:48.961545Z"
    },
    "scrolled": true
   },
   "outputs": [
    {
     "name": "stdout",
     "output_type": "stream",
     "text": [
      "\n",
      "HTTP redirect from https://www.instagram.com/explore/tags/giraffe/ to https://www.instagram.com/accounts/login/\n"
     ]
    },
    {
     "name": "stderr",
     "output_type": "stream",
     "text": [
      "Get hashtag #giraffe: Redirected to login page. Use --login.\n"
     ]
    }
   ],
   "source": [
    "loader.download_hashtag('giraffe', max_count=2000)"
   ]
  },
  {
   "cell_type": "code",
   "execution_count": 6,
   "metadata": {
    "ExecuteTime": {
     "end_time": "2021-09-30T02:44:21.233416Z",
     "start_time": "2021-09-30T02:44:15.957260Z"
    }
   },
   "outputs": [],
   "source": [
    "loader.login('yasminataha30','01234567')"
   ]
  },
  {
   "cell_type": "code",
   "execution_count": 20,
   "metadata": {
    "ExecuteTime": {
     "end_time": "2021-09-27T00:16:41.903032Z",
     "start_time": "2021-09-27T00:16:37.781066Z"
    }
   },
   "outputs": [
    {
     "ename": "KeyError",
     "evalue": "'graphql'",
     "output_type": "error",
     "traceback": [
      "\u001b[1;31m---------------------------------------------------------------------------\u001b[0m",
      "\u001b[1;31mKeyError\u001b[0m                                  Traceback (most recent call last)",
      "\u001b[1;32m<ipython-input-20-69ed6f9516c6>\u001b[0m in \u001b[0;36m<module>\u001b[1;34m\u001b[0m\n\u001b[1;32m----> 1\u001b[1;33m \u001b[0mloader\u001b[0m\u001b[1;33m.\u001b[0m\u001b[0mdownload_hashtag\u001b[0m\u001b[1;33m(\u001b[0m\u001b[1;34m'fish'\u001b[0m\u001b[1;33m,\u001b[0m \u001b[0mmax_count\u001b[0m\u001b[1;33m=\u001b[0m\u001b[1;36m1900\u001b[0m\u001b[1;33m)\u001b[0m\u001b[1;33m\u001b[0m\u001b[1;33m\u001b[0m\u001b[0m\n\u001b[0m",
      "\u001b[1;32mC:\\Users\\Public\\anaconda3\\lib\\site-packages\\instaloader\\instaloader.py\u001b[0m in \u001b[0;36mdownload_hashtag\u001b[1;34m(self, hashtag, max_count, post_filter, fast_update, profile_pic, posts)\u001b[0m\n\u001b[0;32m   1173\u001b[0m         \u001b[1;32mif\u001b[0m \u001b[0misinstance\u001b[0m\u001b[1;33m(\u001b[0m\u001b[0mhashtag\u001b[0m\u001b[1;33m,\u001b[0m \u001b[0mstr\u001b[0m\u001b[1;33m)\u001b[0m\u001b[1;33m:\u001b[0m\u001b[1;33m\u001b[0m\u001b[1;33m\u001b[0m\u001b[0m\n\u001b[0;32m   1174\u001b[0m             \u001b[1;32mwith\u001b[0m \u001b[0mself\u001b[0m\u001b[1;33m.\u001b[0m\u001b[0mcontext\u001b[0m\u001b[1;33m.\u001b[0m\u001b[0merror_catcher\u001b[0m\u001b[1;33m(\u001b[0m\u001b[1;34m\"Get hashtag #{}\"\u001b[0m\u001b[1;33m.\u001b[0m\u001b[0mformat\u001b[0m\u001b[1;33m(\u001b[0m\u001b[0mhashtag\u001b[0m\u001b[1;33m)\u001b[0m\u001b[1;33m)\u001b[0m\u001b[1;33m:\u001b[0m\u001b[1;33m\u001b[0m\u001b[1;33m\u001b[0m\u001b[0m\n\u001b[1;32m-> 1175\u001b[1;33m                 \u001b[0mhashtag\u001b[0m \u001b[1;33m=\u001b[0m \u001b[0mHashtag\u001b[0m\u001b[1;33m.\u001b[0m\u001b[0mfrom_name\u001b[0m\u001b[1;33m(\u001b[0m\u001b[0mself\u001b[0m\u001b[1;33m.\u001b[0m\u001b[0mcontext\u001b[0m\u001b[1;33m,\u001b[0m \u001b[0mhashtag\u001b[0m\u001b[1;33m)\u001b[0m\u001b[1;33m\u001b[0m\u001b[1;33m\u001b[0m\u001b[0m\n\u001b[0m\u001b[0;32m   1176\u001b[0m         \u001b[1;32mif\u001b[0m \u001b[1;32mnot\u001b[0m \u001b[0misinstance\u001b[0m\u001b[1;33m(\u001b[0m\u001b[0mhashtag\u001b[0m\u001b[1;33m,\u001b[0m \u001b[0mHashtag\u001b[0m\u001b[1;33m)\u001b[0m\u001b[1;33m:\u001b[0m\u001b[1;33m\u001b[0m\u001b[1;33m\u001b[0m\u001b[0m\n\u001b[0;32m   1177\u001b[0m             \u001b[1;32mreturn\u001b[0m\u001b[1;33m\u001b[0m\u001b[1;33m\u001b[0m\u001b[0m\n",
      "\u001b[1;32mC:\\Users\\Public\\anaconda3\\lib\\site-packages\\instaloader\\structures.py\u001b[0m in \u001b[0;36mfrom_name\u001b[1;34m(cls, context, name)\u001b[0m\n\u001b[0;32m   1373\u001b[0m         \u001b[1;31m# pylint:disable=protected-access\u001b[0m\u001b[1;33m\u001b[0m\u001b[1;33m\u001b[0m\u001b[1;33m\u001b[0m\u001b[0m\n\u001b[0;32m   1374\u001b[0m         \u001b[0mhashtag\u001b[0m \u001b[1;33m=\u001b[0m \u001b[0mcls\u001b[0m\u001b[1;33m(\u001b[0m\u001b[0mcontext\u001b[0m\u001b[1;33m,\u001b[0m \u001b[1;33m{\u001b[0m\u001b[1;34m'name'\u001b[0m\u001b[1;33m:\u001b[0m \u001b[0mname\u001b[0m\u001b[1;33m.\u001b[0m\u001b[0mlower\u001b[0m\u001b[1;33m(\u001b[0m\u001b[1;33m)\u001b[0m\u001b[1;33m}\u001b[0m\u001b[1;33m)\u001b[0m\u001b[1;33m\u001b[0m\u001b[1;33m\u001b[0m\u001b[0m\n\u001b[1;32m-> 1375\u001b[1;33m         \u001b[0mhashtag\u001b[0m\u001b[1;33m.\u001b[0m\u001b[0m_obtain_metadata\u001b[0m\u001b[1;33m(\u001b[0m\u001b[1;33m)\u001b[0m\u001b[1;33m\u001b[0m\u001b[1;33m\u001b[0m\u001b[0m\n\u001b[0m\u001b[0;32m   1376\u001b[0m         \u001b[1;32mreturn\u001b[0m \u001b[0mhashtag\u001b[0m\u001b[1;33m\u001b[0m\u001b[1;33m\u001b[0m\u001b[0m\n\u001b[0;32m   1377\u001b[0m \u001b[1;33m\u001b[0m\u001b[0m\n",
      "\u001b[1;32mC:\\Users\\Public\\anaconda3\\lib\\site-packages\\instaloader\\structures.py\u001b[0m in \u001b[0;36m_obtain_metadata\u001b[1;34m(self)\u001b[0m\n\u001b[0;32m   1387\u001b[0m     \u001b[1;32mdef\u001b[0m \u001b[0m_obtain_metadata\u001b[0m\u001b[1;33m(\u001b[0m\u001b[0mself\u001b[0m\u001b[1;33m)\u001b[0m\u001b[1;33m:\u001b[0m\u001b[1;33m\u001b[0m\u001b[1;33m\u001b[0m\u001b[0m\n\u001b[0;32m   1388\u001b[0m         \u001b[1;32mif\u001b[0m \u001b[1;32mnot\u001b[0m \u001b[0mself\u001b[0m\u001b[1;33m.\u001b[0m\u001b[0m_has_full_metadata\u001b[0m\u001b[1;33m:\u001b[0m\u001b[1;33m\u001b[0m\u001b[1;33m\u001b[0m\u001b[0m\n\u001b[1;32m-> 1389\u001b[1;33m             \u001b[0mself\u001b[0m\u001b[1;33m.\u001b[0m\u001b[0m_node\u001b[0m \u001b[1;33m=\u001b[0m \u001b[0mself\u001b[0m\u001b[1;33m.\u001b[0m\u001b[0m_query\u001b[0m\u001b[1;33m(\u001b[0m\u001b[1;33m{\u001b[0m\u001b[1;34m\"__a\"\u001b[0m\u001b[1;33m:\u001b[0m \u001b[1;36m1\u001b[0m\u001b[1;33m}\u001b[0m\u001b[1;33m)\u001b[0m\u001b[1;33m\u001b[0m\u001b[1;33m\u001b[0m\u001b[0m\n\u001b[0m\u001b[0;32m   1390\u001b[0m             \u001b[0mself\u001b[0m\u001b[1;33m.\u001b[0m\u001b[0m_has_full_metadata\u001b[0m \u001b[1;33m=\u001b[0m \u001b[1;32mTrue\u001b[0m\u001b[1;33m\u001b[0m\u001b[1;33m\u001b[0m\u001b[0m\n\u001b[0;32m   1391\u001b[0m \u001b[1;33m\u001b[0m\u001b[0m\n",
      "\u001b[1;32mC:\\Users\\Public\\anaconda3\\lib\\site-packages\\instaloader\\structures.py\u001b[0m in \u001b[0;36m_query\u001b[1;34m(self, params)\u001b[0m\n\u001b[0;32m   1382\u001b[0m \u001b[1;33m\u001b[0m\u001b[0m\n\u001b[0;32m   1383\u001b[0m     \u001b[1;32mdef\u001b[0m \u001b[0m_query\u001b[0m\u001b[1;33m(\u001b[0m\u001b[0mself\u001b[0m\u001b[1;33m,\u001b[0m \u001b[0mparams\u001b[0m\u001b[1;33m)\u001b[0m\u001b[1;33m:\u001b[0m\u001b[1;33m\u001b[0m\u001b[1;33m\u001b[0m\u001b[0m\n\u001b[1;32m-> 1384\u001b[1;33m         return self._context.get_json(\"explore/tags/{0}/\".format(self.name),\n\u001b[0m\u001b[0;32m   1385\u001b[0m                                       params)[\"graphql\"][\"hashtag\"]\n\u001b[0;32m   1386\u001b[0m \u001b[1;33m\u001b[0m\u001b[0m\n",
      "\u001b[1;31mKeyError\u001b[0m: 'graphql'"
     ]
    }
   ],
   "source": [
    "loader.download_hashtag('fish', max_count=1900)"
   ]
  },
  {
   "cell_type": "code",
   "execution_count": null,
   "metadata": {},
   "outputs": [],
   "source": []
  }
 ],
 "metadata": {
  "kernelspec": {
   "display_name": "Python 3",
   "language": "python",
   "name": "python3"
  },
  "language_info": {
   "codemirror_mode": {
    "name": "ipython",
    "version": 3
   },
   "file_extension": ".py",
   "mimetype": "text/x-python",
   "name": "python",
   "nbconvert_exporter": "python",
   "pygments_lexer": "ipython3",
   "version": "3.8.5"
  },
  "toc": {
   "base_numbering": 1,
   "nav_menu": {},
   "number_sections": true,
   "sideBar": true,
   "skip_h1_title": false,
   "title_cell": "Table of Contents",
   "title_sidebar": "Contents",
   "toc_cell": false,
   "toc_position": {},
   "toc_section_display": true,
   "toc_window_display": false
  },
  "varInspector": {
   "cols": {
    "lenName": 16,
    "lenType": 16,
    "lenVar": 40
   },
   "kernels_config": {
    "python": {
     "delete_cmd_postfix": "",
     "delete_cmd_prefix": "del ",
     "library": "var_list.py",
     "varRefreshCmd": "print(var_dic_list())"
    },
    "r": {
     "delete_cmd_postfix": ") ",
     "delete_cmd_prefix": "rm(",
     "library": "var_list.r",
     "varRefreshCmd": "cat(var_dic_list()) "
    }
   },
   "types_to_exclude": [
    "module",
    "function",
    "builtin_function_or_method",
    "instance",
    "_Feature"
   ],
   "window_display": false
  }
 },
 "nbformat": 4,
 "nbformat_minor": 4
}
